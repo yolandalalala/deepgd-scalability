{
 "cells": [
  {
   "cell_type": "code",
   "execution_count": 1,
   "outputs": [],
   "source": [
    "%load_ext autoreload\n",
    "%autoreload 2"
   ],
   "metadata": {
    "collapsed": false,
    "ExecuteTime": {
     "end_time": "2023-06-16T08:41:18.748882Z",
     "start_time": "2023-06-16T08:41:18.733116Z"
    }
   }
  },
  {
   "cell_type": "code",
   "execution_count": 3,
   "outputs": [],
   "source": [
    "from smartgd.experiment.loggers import *"
   ],
   "metadata": {
    "collapsed": false,
    "ExecuteTime": {
     "end_time": "2023-06-16T08:43:54.011777Z",
     "start_time": "2023-06-16T08:43:53.936674Z"
    }
   }
  },
  {
   "cell_type": "code",
   "execution_count": 4,
   "outputs": [
    {
     "name": "stderr",
     "output_type": "stream",
     "text": [
      "The Aim Remote tracking server version (3.17.3) and the Aim client version (3.17.5) do not match.Consider upgrading either the client or remote tracking server.\n"
     ]
    },
    {
     "ename": "AssertionError",
     "evalue": "Experiment name='wrong_name' does not match the original experiment name 'shape/no_real_trick'.",
     "output_type": "error",
     "traceback": [
      "\u001B[0;31m---------------------------------------------------------------------------\u001B[0m",
      "\u001B[0;31mAssertionError\u001B[0m                            Traceback (most recent call last)",
      "Cell \u001B[0;32mIn[4], line 1\u001B[0m\n\u001B[0;32m----> 1\u001B[0m logger \u001B[38;5;241m=\u001B[39m \u001B[43mCustomAimLogger\u001B[49m\u001B[43m(\u001B[49m\u001B[43mexperiment_name\u001B[49m\u001B[38;5;241;43m=\u001B[39;49m\u001B[38;5;124;43m'\u001B[39;49m\u001B[38;5;124;43mwrong_name\u001B[39;49m\u001B[38;5;124;43m'\u001B[39;49m\u001B[43m,\u001B[49m\u001B[43m \u001B[49m\u001B[43mrun_hash\u001B[49m\u001B[38;5;241;43m=\u001B[39;49m\u001B[38;5;124;43m'\u001B[39;49m\u001B[38;5;124;43m207af4eed6ad4b8788273e89\u001B[39;49m\u001B[38;5;124;43m'\u001B[39;49m\u001B[43m,\u001B[49m\u001B[43m \u001B[49m\u001B[43mforce_resume\u001B[49m\u001B[38;5;241;43m=\u001B[39;49m\u001B[38;5;28;43;01mTrue\u001B[39;49;00m\u001B[43m)\u001B[49m\n\u001B[1;32m      2\u001B[0m logger\u001B[38;5;241m.\u001B[39mversion\n",
      "File \u001B[0;32m~/Workspaces/smartgd/smartgd/experiment/loggers/custom_aim_logger.py:47\u001B[0m, in \u001B[0;36mCustomAimLogger.__init__\u001B[0;34m(self, experiment_name, run_hash, step_metrix_suffix, epoch_metrix_suffix, force_resume, **kwargs)\u001B[0m\n\u001B[1;32m     45\u001B[0m \u001B[38;5;28mself\u001B[39m\u001B[38;5;241m.\u001B[39m_run_hash \u001B[38;5;241m=\u001B[39m \u001B[38;5;28mself\u001B[39m\u001B[38;5;241m.\u001B[39m_resolve_run_hash(\u001B[38;5;28mself\u001B[39m\u001B[38;5;241m.\u001B[39m_run_hash)\n\u001B[1;32m     46\u001B[0m \u001B[38;5;28mself\u001B[39m\u001B[38;5;241m.\u001B[39m_copy_from \u001B[38;5;241m=\u001B[39m \u001B[38;5;28mself\u001B[39m\u001B[38;5;241m.\u001B[39m_resolve_run_hash(\u001B[38;5;28mself\u001B[39m\u001B[38;5;241m.\u001B[39m_copy_from)\n\u001B[0;32m---> 47\u001B[0m \u001B[38;5;28mself\u001B[39m\u001B[38;5;241m.\u001B[39m_experiment_name \u001B[38;5;241m=\u001B[39m \u001B[38;5;28;43mself\u001B[39;49m\u001B[38;5;241;43m.\u001B[39;49m\u001B[43m_resolve_experiment_name\u001B[49m\u001B[43m(\u001B[49m\u001B[43m)\u001B[49m\n\u001B[1;32m     49\u001B[0m \u001B[38;5;28mself\u001B[39m\u001B[38;5;241m.\u001B[39m_step_metrix_suffix \u001B[38;5;241m=\u001B[39m step_metrix_suffix\n\u001B[1;32m     50\u001B[0m \u001B[38;5;28mself\u001B[39m\u001B[38;5;241m.\u001B[39m_epoch_metrix_suffix \u001B[38;5;241m=\u001B[39m epoch_metrix_suffix\n",
      "File \u001B[0;32m~/Workspaces/smartgd/smartgd/experiment/loggers/custom_aim_logger.py:93\u001B[0m, in \u001B[0;36mCustomAimLogger._resolve_experiment_name\u001B[0;34m(self)\u001B[0m\n\u001B[1;32m     91\u001B[0m     experiment_name \u001B[38;5;241m=\u001B[39m \u001B[38;5;28mself\u001B[39m\u001B[38;5;241m.\u001B[39m_experiment_name\n\u001B[1;32m     92\u001B[0m \u001B[38;5;28;01mif\u001B[39;00m \u001B[38;5;28mself\u001B[39m\u001B[38;5;241m.\u001B[39m_experiment_name \u001B[38;5;129;01mis\u001B[39;00m \u001B[38;5;129;01mnot\u001B[39;00m \u001B[38;5;28;01mNone\u001B[39;00m:\n\u001B[0;32m---> 93\u001B[0m     \u001B[38;5;28;01massert\u001B[39;00m \u001B[38;5;28mself\u001B[39m\u001B[38;5;241m.\u001B[39m_experiment_name \u001B[38;5;241m==\u001B[39m experiment_name, (\n\u001B[1;32m     94\u001B[0m         \u001B[38;5;124mf\u001B[39m\u001B[38;5;124m\"\u001B[39m\u001B[38;5;124mExperiment name=\u001B[39m\u001B[38;5;124m'\u001B[39m\u001B[38;5;132;01m{\u001B[39;00m\u001B[38;5;28mself\u001B[39m\u001B[38;5;241m.\u001B[39m_experiment_name\u001B[38;5;132;01m}\u001B[39;00m\u001B[38;5;124m'\u001B[39m\u001B[38;5;124m does not match \u001B[39m\u001B[38;5;124m\"\u001B[39m\n\u001B[1;32m     95\u001B[0m         \u001B[38;5;124mf\u001B[39m\u001B[38;5;124m\"\u001B[39m\u001B[38;5;124mthe original experiment name \u001B[39m\u001B[38;5;124m'\u001B[39m\u001B[38;5;132;01m{\u001B[39;00mexperiment_name\u001B[38;5;132;01m}\u001B[39;00m\u001B[38;5;124m'\u001B[39m\u001B[38;5;124m.\u001B[39m\u001B[38;5;124m\"\u001B[39m\n\u001B[1;32m     96\u001B[0m     )\n\u001B[1;32m     97\u001B[0m \u001B[38;5;28;01mreturn\u001B[39;00m experiment_name\n",
      "\u001B[0;31mAssertionError\u001B[0m: Experiment name='wrong_name' does not match the original experiment name 'shape/no_real_trick'."
     ]
    }
   ],
   "source": [
    "logger = CustomAimLogger(experiment_name='wrong_name', run_hash='207af4eed6ad4b8788273e89', force_resume=True)\n",
    "logger.version"
   ],
   "metadata": {
    "collapsed": false,
    "ExecuteTime": {
     "end_time": "2023-06-16T08:43:55.972251Z",
     "start_time": "2023-06-16T08:43:55.655453Z"
    }
   }
  },
  {
   "cell_type": "code",
   "execution_count": 5,
   "outputs": [
    {
     "ename": "AssertionError",
     "evalue": "Experiment group and name must be specified when using alias 'last'.",
     "output_type": "error",
     "traceback": [
      "\u001B[0;31m---------------------------------------------------------------------------\u001B[0m",
      "\u001B[0;31mAssertionError\u001B[0m                            Traceback (most recent call last)",
      "Cell \u001B[0;32mIn[5], line 1\u001B[0m\n\u001B[0;32m----> 1\u001B[0m logger \u001B[38;5;241m=\u001B[39m \u001B[43mCustomAimLogger\u001B[49m\u001B[43m(\u001B[49m\u001B[43mexperiment_name\u001B[49m\u001B[38;5;241;43m=\u001B[39;49m\u001B[38;5;28;43;01mNone\u001B[39;49;00m\u001B[43m,\u001B[49m\u001B[43m \u001B[49m\u001B[43mrun_hash\u001B[49m\u001B[38;5;241;43m=\u001B[39;49m\u001B[38;5;124;43m'\u001B[39;49m\u001B[38;5;124;43mlast\u001B[39;49m\u001B[38;5;124;43m'\u001B[39;49m\u001B[43m,\u001B[49m\u001B[43m \u001B[49m\u001B[43mforce_resume\u001B[49m\u001B[38;5;241;43m=\u001B[39;49m\u001B[38;5;28;43;01mTrue\u001B[39;49;00m\u001B[43m)\u001B[49m\n\u001B[1;32m      2\u001B[0m logger\u001B[38;5;241m.\u001B[39mversion\n",
      "File \u001B[0;32m~/Workspaces/smartgd/smartgd/experiment/loggers/custom_aim_logger.py:45\u001B[0m, in \u001B[0;36mCustomAimLogger.__init__\u001B[0;34m(self, experiment_name, run_hash, step_metrix_suffix, epoch_metrix_suffix, force_resume, **kwargs)\u001B[0m\n\u001B[1;32m     43\u001B[0m \u001B[38;5;66;03m# Lookup experiment group and version by `run_hash` if `run_hash` is not None.\u001B[39;00m\n\u001B[1;32m     44\u001B[0m \u001B[38;5;28mself\u001B[39m\u001B[38;5;241m.\u001B[39m_run_hash, \u001B[38;5;28mself\u001B[39m\u001B[38;5;241m.\u001B[39m_copy_from \u001B[38;5;241m=\u001B[39m \u001B[38;5;28mself\u001B[39m\u001B[38;5;241m.\u001B[39m_parse_run_hash(run_hash)\u001B[38;5;241m.\u001B[39mvalues()\n\u001B[0;32m---> 45\u001B[0m \u001B[38;5;28mself\u001B[39m\u001B[38;5;241m.\u001B[39m_run_hash \u001B[38;5;241m=\u001B[39m \u001B[38;5;28;43mself\u001B[39;49m\u001B[38;5;241;43m.\u001B[39;49m\u001B[43m_resolve_run_hash\u001B[49m\u001B[43m(\u001B[49m\u001B[38;5;28;43mself\u001B[39;49m\u001B[38;5;241;43m.\u001B[39;49m\u001B[43m_run_hash\u001B[49m\u001B[43m)\u001B[49m\n\u001B[1;32m     46\u001B[0m \u001B[38;5;28mself\u001B[39m\u001B[38;5;241m.\u001B[39m_copy_from \u001B[38;5;241m=\u001B[39m \u001B[38;5;28mself\u001B[39m\u001B[38;5;241m.\u001B[39m_resolve_run_hash(\u001B[38;5;28mself\u001B[39m\u001B[38;5;241m.\u001B[39m_copy_from)\n\u001B[1;32m     47\u001B[0m \u001B[38;5;28mself\u001B[39m\u001B[38;5;241m.\u001B[39m_experiment_name \u001B[38;5;241m=\u001B[39m \u001B[38;5;28mself\u001B[39m\u001B[38;5;241m.\u001B[39m_resolve_experiment_name()\n",
      "File \u001B[0;32m~/Workspaces/smartgd/smartgd/experiment/loggers/custom_aim_logger.py:73\u001B[0m, in \u001B[0;36mCustomAimLogger._resolve_run_hash\u001B[0;34m(self, run_hash)\u001B[0m\n\u001B[1;32m     71\u001B[0m \u001B[38;5;28;01mdef\u001B[39;00m \u001B[38;5;21m_resolve_run_hash\u001B[39m(\u001B[38;5;28mself\u001B[39m, run_hash: Optional[\u001B[38;5;28mstr\u001B[39m]) \u001B[38;5;241m-\u001B[39m\u001B[38;5;241m>\u001B[39m \u001B[38;5;28mstr\u001B[39m:\n\u001B[1;32m     72\u001B[0m     \u001B[38;5;28;01mif\u001B[39;00m run_hash \u001B[38;5;241m==\u001B[39m \u001B[38;5;28mself\u001B[39m\u001B[38;5;241m.\u001B[39mRUN_HASH_ALIAS_LAST:\n\u001B[0;32m---> 73\u001B[0m         \u001B[38;5;28;01massert\u001B[39;00m \u001B[38;5;28mself\u001B[39m\u001B[38;5;241m.\u001B[39m_experiment_name \u001B[38;5;129;01mis\u001B[39;00m \u001B[38;5;129;01mnot\u001B[39;00m \u001B[38;5;28;01mNone\u001B[39;00m, (\n\u001B[1;32m     74\u001B[0m             \u001B[38;5;124mf\u001B[39m\u001B[38;5;124m\"\u001B[39m\u001B[38;5;124mExperiment group and name must be specified when using alias \u001B[39m\u001B[38;5;124m'\u001B[39m\u001B[38;5;132;01m{\u001B[39;00m\u001B[38;5;28mself\u001B[39m\u001B[38;5;241m.\u001B[39mRUN_HASH_ALIAS_LAST\u001B[38;5;132;01m}\u001B[39;00m\u001B[38;5;124m'\u001B[39m\u001B[38;5;124m.\u001B[39m\u001B[38;5;124m\"\u001B[39m\n\u001B[1;32m     75\u001B[0m         )\n\u001B[1;32m     76\u001B[0m         runs \u001B[38;5;241m=\u001B[39m \u001B[38;5;28mfilter\u001B[39m(\u001B[38;5;28;01mlambda\u001B[39;00m run: run\u001B[38;5;241m.\u001B[39mexperiment \u001B[38;5;241m==\u001B[39m \u001B[38;5;28mself\u001B[39m\u001B[38;5;241m.\u001B[39m_experiment_name, \u001B[38;5;28mself\u001B[39m\u001B[38;5;241m.\u001B[39mrepo\u001B[38;5;241m.\u001B[39miter_runs())\n\u001B[1;32m     77\u001B[0m         runs \u001B[38;5;241m=\u001B[39m \u001B[38;5;28msorted\u001B[39m(runs, key\u001B[38;5;241m=\u001B[39m\u001B[38;5;28;01mlambda\u001B[39;00m run: run\u001B[38;5;241m.\u001B[39mcreation_time)\n",
      "\u001B[0;31mAssertionError\u001B[0m: Experiment group and name must be specified when using alias 'last'."
     ]
    }
   ],
   "source": [
    "logger = CustomAimLogger(experiment_name=None, run_hash='last', force_resume=True)\n",
    "logger.version"
   ],
   "metadata": {
    "collapsed": false,
    "ExecuteTime": {
     "end_time": "2023-06-16T08:43:58.654173Z",
     "start_time": "2023-06-16T08:43:58.572958Z"
    }
   }
  },
  {
   "cell_type": "code",
   "execution_count": 8,
   "outputs": [
    {
     "ename": "AssertionError",
     "evalue": "Experiment group and name must be specified when using alias 'last'.",
     "output_type": "error",
     "traceback": [
      "\u001B[0;31m---------------------------------------------------------------------------\u001B[0m",
      "\u001B[0;31mAssertionError\u001B[0m                            Traceback (most recent call last)",
      "Cell \u001B[0;32mIn[8], line 1\u001B[0m\n\u001B[0;32m----> 1\u001B[0m logger \u001B[38;5;241m=\u001B[39m \u001B[43mCustomAimLogger\u001B[49m\u001B[43m(\u001B[49m\u001B[43mexperiment_name\u001B[49m\u001B[38;5;241;43m=\u001B[39;49m\u001B[38;5;28;43;01mNone\u001B[39;49;00m\u001B[43m,\u001B[49m\u001B[43m \u001B[49m\u001B[43mrun_hash\u001B[49m\u001B[38;5;241;43m=\u001B[39;49m\u001B[38;5;124;43m'\u001B[39;49m\u001B[38;5;124;43mcopy:last\u001B[39;49m\u001B[38;5;124;43m'\u001B[39;49m\u001B[43m,\u001B[49m\u001B[43m \u001B[49m\u001B[43mforce_resume\u001B[49m\u001B[38;5;241;43m=\u001B[39;49m\u001B[38;5;28;43;01mTrue\u001B[39;49;00m\u001B[43m)\u001B[49m\n\u001B[1;32m      2\u001B[0m logger\u001B[38;5;241m.\u001B[39mversion\n",
      "File \u001B[0;32m~/Workspaces/smartgd/smartgd/experiment/loggers/custom_aim_logger.py:46\u001B[0m, in \u001B[0;36mCustomAimLogger.__init__\u001B[0;34m(self, experiment_name, run_hash, step_metrix_suffix, epoch_metrix_suffix, force_resume, **kwargs)\u001B[0m\n\u001B[1;32m     44\u001B[0m \u001B[38;5;28mself\u001B[39m\u001B[38;5;241m.\u001B[39m_run_hash, \u001B[38;5;28mself\u001B[39m\u001B[38;5;241m.\u001B[39m_copy_from \u001B[38;5;241m=\u001B[39m \u001B[38;5;28mself\u001B[39m\u001B[38;5;241m.\u001B[39m_parse_run_hash(run_hash)\u001B[38;5;241m.\u001B[39mvalues()\n\u001B[1;32m     45\u001B[0m \u001B[38;5;28mself\u001B[39m\u001B[38;5;241m.\u001B[39m_run_hash \u001B[38;5;241m=\u001B[39m \u001B[38;5;28mself\u001B[39m\u001B[38;5;241m.\u001B[39m_resolve_run_hash(\u001B[38;5;28mself\u001B[39m\u001B[38;5;241m.\u001B[39m_run_hash)\n\u001B[0;32m---> 46\u001B[0m \u001B[38;5;28mself\u001B[39m\u001B[38;5;241m.\u001B[39m_copy_from \u001B[38;5;241m=\u001B[39m \u001B[38;5;28;43mself\u001B[39;49m\u001B[38;5;241;43m.\u001B[39;49m\u001B[43m_resolve_run_hash\u001B[49m\u001B[43m(\u001B[49m\u001B[38;5;28;43mself\u001B[39;49m\u001B[38;5;241;43m.\u001B[39;49m\u001B[43m_copy_from\u001B[49m\u001B[43m)\u001B[49m\n\u001B[1;32m     47\u001B[0m \u001B[38;5;28mself\u001B[39m\u001B[38;5;241m.\u001B[39m_experiment_name \u001B[38;5;241m=\u001B[39m \u001B[38;5;28mself\u001B[39m\u001B[38;5;241m.\u001B[39m_resolve_experiment_name()\n\u001B[1;32m     49\u001B[0m \u001B[38;5;28mself\u001B[39m\u001B[38;5;241m.\u001B[39m_step_metrix_suffix \u001B[38;5;241m=\u001B[39m step_metrix_suffix\n",
      "File \u001B[0;32m~/Workspaces/smartgd/smartgd/experiment/loggers/custom_aim_logger.py:73\u001B[0m, in \u001B[0;36mCustomAimLogger._resolve_run_hash\u001B[0;34m(self, run_hash)\u001B[0m\n\u001B[1;32m     71\u001B[0m \u001B[38;5;28;01mdef\u001B[39;00m \u001B[38;5;21m_resolve_run_hash\u001B[39m(\u001B[38;5;28mself\u001B[39m, run_hash: Optional[\u001B[38;5;28mstr\u001B[39m]) \u001B[38;5;241m-\u001B[39m\u001B[38;5;241m>\u001B[39m \u001B[38;5;28mstr\u001B[39m:\n\u001B[1;32m     72\u001B[0m     \u001B[38;5;28;01mif\u001B[39;00m run_hash \u001B[38;5;241m==\u001B[39m \u001B[38;5;28mself\u001B[39m\u001B[38;5;241m.\u001B[39mRUN_HASH_ALIAS_LAST:\n\u001B[0;32m---> 73\u001B[0m         \u001B[38;5;28;01massert\u001B[39;00m \u001B[38;5;28mself\u001B[39m\u001B[38;5;241m.\u001B[39m_experiment_name \u001B[38;5;129;01mis\u001B[39;00m \u001B[38;5;129;01mnot\u001B[39;00m \u001B[38;5;28;01mNone\u001B[39;00m, (\n\u001B[1;32m     74\u001B[0m             \u001B[38;5;124mf\u001B[39m\u001B[38;5;124m\"\u001B[39m\u001B[38;5;124mExperiment group and name must be specified when using alias \u001B[39m\u001B[38;5;124m'\u001B[39m\u001B[38;5;132;01m{\u001B[39;00m\u001B[38;5;28mself\u001B[39m\u001B[38;5;241m.\u001B[39mRUN_HASH_ALIAS_LAST\u001B[38;5;132;01m}\u001B[39;00m\u001B[38;5;124m'\u001B[39m\u001B[38;5;124m.\u001B[39m\u001B[38;5;124m\"\u001B[39m\n\u001B[1;32m     75\u001B[0m         )\n\u001B[1;32m     76\u001B[0m         runs \u001B[38;5;241m=\u001B[39m \u001B[38;5;28mfilter\u001B[39m(\u001B[38;5;28;01mlambda\u001B[39;00m run: run\u001B[38;5;241m.\u001B[39mexperiment \u001B[38;5;241m==\u001B[39m \u001B[38;5;28mself\u001B[39m\u001B[38;5;241m.\u001B[39m_experiment_name, \u001B[38;5;28mself\u001B[39m\u001B[38;5;241m.\u001B[39mrepo\u001B[38;5;241m.\u001B[39miter_runs())\n\u001B[1;32m     77\u001B[0m         runs \u001B[38;5;241m=\u001B[39m \u001B[38;5;28msorted\u001B[39m(runs, key\u001B[38;5;241m=\u001B[39m\u001B[38;5;28;01mlambda\u001B[39;00m run: run\u001B[38;5;241m.\u001B[39mcreation_time)\n",
      "\u001B[0;31mAssertionError\u001B[0m: Experiment group and name must be specified when using alias 'last'."
     ]
    }
   ],
   "source": [
    "logger = CustomAimLogger(experiment_name=None, run_hash='copy:last', force_resume=True)\n",
    "logger.version"
   ],
   "metadata": {
    "collapsed": false,
    "ExecuteTime": {
     "end_time": "2023-06-16T08:45:23.040196Z",
     "start_time": "2023-06-16T08:45:22.952544Z"
    }
   }
  },
  {
   "cell_type": "code",
   "execution_count": 9,
   "outputs": [
    {
     "name": "stderr",
     "output_type": "stream",
     "text": [
      "The Aim Remote tracking server version (3.17.3) and the Aim client version (3.17.5) do not match.Consider upgrading either the client or remote tracking server.\n"
     ]
    },
    {
     "ename": "AssertionError",
     "evalue": "No runs found for experiment 'wrong_name'.",
     "output_type": "error",
     "traceback": [
      "\u001B[0;31m---------------------------------------------------------------------------\u001B[0m",
      "\u001B[0;31mAssertionError\u001B[0m                            Traceback (most recent call last)",
      "Cell \u001B[0;32mIn[9], line 1\u001B[0m\n\u001B[0;32m----> 1\u001B[0m logger \u001B[38;5;241m=\u001B[39m \u001B[43mCustomAimLogger\u001B[49m\u001B[43m(\u001B[49m\u001B[43mexperiment_name\u001B[49m\u001B[38;5;241;43m=\u001B[39;49m\u001B[38;5;124;43m'\u001B[39;49m\u001B[38;5;124;43mwrong_name\u001B[39;49m\u001B[38;5;124;43m'\u001B[39;49m\u001B[43m,\u001B[49m\u001B[43m \u001B[49m\u001B[43mrun_hash\u001B[49m\u001B[38;5;241;43m=\u001B[39;49m\u001B[38;5;124;43m'\u001B[39;49m\u001B[38;5;124;43mcopy:last\u001B[39;49m\u001B[38;5;124;43m'\u001B[39;49m\u001B[43m,\u001B[49m\u001B[43m \u001B[49m\u001B[43mforce_resume\u001B[49m\u001B[38;5;241;43m=\u001B[39;49m\u001B[38;5;28;43;01mTrue\u001B[39;49;00m\u001B[43m)\u001B[49m\n\u001B[1;32m      2\u001B[0m logger\u001B[38;5;241m.\u001B[39mversion\n",
      "File \u001B[0;32m~/Workspaces/smartgd/smartgd/experiment/loggers/custom_aim_logger.py:46\u001B[0m, in \u001B[0;36mCustomAimLogger.__init__\u001B[0;34m(self, experiment_name, run_hash, step_metrix_suffix, epoch_metrix_suffix, force_resume, **kwargs)\u001B[0m\n\u001B[1;32m     44\u001B[0m \u001B[38;5;28mself\u001B[39m\u001B[38;5;241m.\u001B[39m_run_hash, \u001B[38;5;28mself\u001B[39m\u001B[38;5;241m.\u001B[39m_copy_from \u001B[38;5;241m=\u001B[39m \u001B[38;5;28mself\u001B[39m\u001B[38;5;241m.\u001B[39m_parse_run_hash(run_hash)\u001B[38;5;241m.\u001B[39mvalues()\n\u001B[1;32m     45\u001B[0m \u001B[38;5;28mself\u001B[39m\u001B[38;5;241m.\u001B[39m_run_hash \u001B[38;5;241m=\u001B[39m \u001B[38;5;28mself\u001B[39m\u001B[38;5;241m.\u001B[39m_resolve_run_hash(\u001B[38;5;28mself\u001B[39m\u001B[38;5;241m.\u001B[39m_run_hash)\n\u001B[0;32m---> 46\u001B[0m \u001B[38;5;28mself\u001B[39m\u001B[38;5;241m.\u001B[39m_copy_from \u001B[38;5;241m=\u001B[39m \u001B[38;5;28;43mself\u001B[39;49m\u001B[38;5;241;43m.\u001B[39;49m\u001B[43m_resolve_run_hash\u001B[49m\u001B[43m(\u001B[49m\u001B[38;5;28;43mself\u001B[39;49m\u001B[38;5;241;43m.\u001B[39;49m\u001B[43m_copy_from\u001B[49m\u001B[43m)\u001B[49m\n\u001B[1;32m     47\u001B[0m \u001B[38;5;28mself\u001B[39m\u001B[38;5;241m.\u001B[39m_experiment_name \u001B[38;5;241m=\u001B[39m \u001B[38;5;28mself\u001B[39m\u001B[38;5;241m.\u001B[39m_resolve_experiment_name()\n\u001B[1;32m     49\u001B[0m \u001B[38;5;28mself\u001B[39m\u001B[38;5;241m.\u001B[39m_step_metrix_suffix \u001B[38;5;241m=\u001B[39m step_metrix_suffix\n",
      "File \u001B[0;32m~/Workspaces/smartgd/smartgd/experiment/loggers/custom_aim_logger.py:78\u001B[0m, in \u001B[0;36mCustomAimLogger._resolve_run_hash\u001B[0;34m(self, run_hash)\u001B[0m\n\u001B[1;32m     76\u001B[0m     runs \u001B[38;5;241m=\u001B[39m \u001B[38;5;28mfilter\u001B[39m(\u001B[38;5;28;01mlambda\u001B[39;00m run: run\u001B[38;5;241m.\u001B[39mexperiment \u001B[38;5;241m==\u001B[39m \u001B[38;5;28mself\u001B[39m\u001B[38;5;241m.\u001B[39m_experiment_name, \u001B[38;5;28mself\u001B[39m\u001B[38;5;241m.\u001B[39mrepo\u001B[38;5;241m.\u001B[39miter_runs())\n\u001B[1;32m     77\u001B[0m     runs \u001B[38;5;241m=\u001B[39m \u001B[38;5;28msorted\u001B[39m(runs, key\u001B[38;5;241m=\u001B[39m\u001B[38;5;28;01mlambda\u001B[39;00m run: run\u001B[38;5;241m.\u001B[39mcreation_time)\n\u001B[0;32m---> 78\u001B[0m     \u001B[38;5;28;01massert\u001B[39;00m runs, \u001B[38;5;124mf\u001B[39m\u001B[38;5;124m\"\u001B[39m\u001B[38;5;124mNo runs found for experiment \u001B[39m\u001B[38;5;124m'\u001B[39m\u001B[38;5;132;01m{\u001B[39;00m\u001B[38;5;28mself\u001B[39m\u001B[38;5;241m.\u001B[39m_experiment_name\u001B[38;5;132;01m}\u001B[39;00m\u001B[38;5;124m'\u001B[39m\u001B[38;5;124m.\u001B[39m\u001B[38;5;124m\"\u001B[39m\n\u001B[1;32m     79\u001B[0m     \u001B[38;5;28;01mreturn\u001B[39;00m runs[\u001B[38;5;241m-\u001B[39m\u001B[38;5;241m1\u001B[39m]\u001B[38;5;241m.\u001B[39mhash\n\u001B[1;32m     80\u001B[0m \u001B[38;5;28;01mreturn\u001B[39;00m run_hash\n",
      "\u001B[0;31mAssertionError\u001B[0m: No runs found for experiment 'wrong_name'."
     ]
    }
   ],
   "source": [
    "logger = CustomAimLogger(experiment_name='wrong_name', run_hash='copy:last', force_resume=True)\n",
    "logger.version"
   ],
   "metadata": {
    "collapsed": false,
    "ExecuteTime": {
     "end_time": "2023-06-16T08:45:39.479958Z",
     "start_time": "2023-06-16T08:45:35.617137Z"
    }
   }
  },
  {
   "cell_type": "code",
   "execution_count": 18,
   "outputs": [
    {
     "name": "stderr",
     "output_type": "stream",
     "text": [
      "The Aim Remote tracking server version (3.17.3) and the Aim client version (3.17.5) do not match.Consider upgrading either the client or remote tracking server.\n"
     ]
    },
    {
     "data": {
      "text/plain": "'207af4eed6ad4b8788273e89'"
     },
     "execution_count": 18,
     "metadata": {},
     "output_type": "execute_result"
    }
   ],
   "source": [
    "logger = CustomAimLogger(experiment_name='shape/no_real_trick', run_hash='last', force_resume=True)\n",
    "logger.version"
   ],
   "metadata": {
    "collapsed": false,
    "ExecuteTime": {
     "end_time": "2023-06-16T08:35:15.991052Z",
     "start_time": "2023-06-16T08:35:05.996577Z"
    }
   }
  },
  {
   "cell_type": "code",
   "execution_count": 19,
   "outputs": [
    {
     "data": {
      "text/plain": "{'alternating_mode': 'step',\n 'batch_size': 8,\n 'benchmark_layout_methods': [['neato', None],\n  ['dot', None],\n  ['sfdp', None],\n  ['twopi', None],\n  ['circo', None],\n  ['spring', None],\n  ['spectral', None],\n  ['kamada_kawai', None],\n  ['fa2', None],\n  ['pmds', None],\n  ['sgd2', None],\n  ['deepgd', None],\n  ['fmmm', None],\n  ['gd2', {'metric': 'stress'}],\n  ['gd2', {'metric': 'xing', 'split': 'test'}],\n  ['gd2', {'metric': 'xangle', 'split': 'test'}],\n  ['gd2', {'metric': 'stress+xing', 'split': 'test'}],\n  ['gd2', {'metric': 'stress+xangle', 'split': 'test'}]],\n 'criteria_weights': {'rng': 1.0},\n 'dataset_name': 'Rome',\n 'discriminator_frequency': 1,\n 'discriminator': {'args': {'config': {'pooling': ['sum', 'mean', 'max']},\n   'edge_feat_expansion': {'diff_vec': False,\n    'dst_feat': True,\n    'edge_attr_inv_square': False,\n    'edge_attr_inv': False,\n    'edge_attr_square': False,\n    'src_feat': True,\n    'unit_vec': False,\n    'vec_norm_inv_square': False,\n    'vec_norm_inv': False,\n    'vec_norm_square': False,\n    'vec_norm': False},\n   'edge_net_config': {'bn': 'batch_norm',\n    'dp': 0.0,\n    'hidden_act': 'leaky_relu',\n    'out_act': None,\n    'residual': True},\n   'eps': 1e-05,\n   'gnn_config': {'act': 'leaky_relu',\n    'aggr': 'add',\n    'bn': 'pyg_batch_norm',\n    'dense': False,\n    'dp': 0.0,\n    'residual': True,\n    'root_weight': True},\n   'params': {'edge_attr_dim': 2,\n    'edge_net_embedded_depth': 8,\n    'edge_net_shared_depth': 8,\n    'edge_net_width': 64,\n    'hidden_width': 16,\n    'num_layers': 9}},\n  'meta': {'changelog': {'major': [],\n    'minor': ['Decouple Discriminator from GraphLayout.'],\n    'patch': []},\n   'class_name': 'Discriminator',\n   'description': 'SmartGD discriminator release candidate.',\n   'md5_digest': 'd55f329a2ea7e85f5adc2dcb28e4e2c8',\n   'model_name': 'smartgd_discriminator',\n   'timestamp': '2023-03-24 09:14:43.003538'}},\n 'eval_optional_data_fields': [],\n 'generator_frequency': 1,\n 'generator': {'args': {'block_config': {'relative_edge_feat_mode': 'jump',\n    'residual': True},\n   'edge_feat_expansion': {'diff_vec': False,\n    'dst_feat': False,\n    'edge_attr_inv_square': False,\n    'edge_attr_inv': False,\n    'edge_attr_square': False,\n    'src_feat': False,\n    'unit_vec': True,\n    'vec_norm_inv_square': False,\n    'vec_norm_inv': False,\n    'vec_norm_square': False,\n    'vec_norm': True},\n   'edge_net_config': {'bn': 'batch_norm',\n    'dp': 0.2,\n    'hidden_act': 'leaky_relu',\n    'out_act': 'tanh',\n    'residual': False},\n   'eps': 1e-05,\n   'gnn_config': {'act': 'leaky_relu',\n    'bn': 'pyg_batch_norm',\n    'dp': 0.1,\n    'root_weight': True},\n   'params': {'block_depth': 2,\n    'block_output_dim': 8,\n    'block_width': 8,\n    'edge_attr_dim': 2,\n    'edge_net_depth': 1,\n    'edge_net_width': 16,\n    'node_attr_dim': 2,\n    'num_blocks': 10}},\n  'meta': {'changelog': {'major': [],\n    'minor': ['Decouple Generator from GraphLayout.'],\n    'patch': ['Revert']},\n   'class_name': 'Generator',\n   'description': 'SmartGD generator release candidate.',\n   'md5_digest': 'a3b3b50ffd29b4cd5bc13f836f48cfe9',\n   'model_name': 'smartgd_generator',\n   'timestamp': '2023-03-24 18:02:41.322508'}},\n 'init_layout_method': 'pmds',\n 'learn_from_critic': True,\n 'learning_rate': 0.001,\n 'lr_gamma': 0.998,\n 'optional_data_fields': ['face', 'rng_index', 'edge_pair_metaindex'],\n 'real_layout_candidates': ['random'],\n 'replace_by_critic': True,\n 'test_slice': [10000, 11000],\n 'train_slice': [None, 10000],\n 'val_slice': [11000, None]}"
     },
     "execution_count": 19,
     "metadata": {},
     "output_type": "execute_result"
    }
   ],
   "source": [
    "logger.experiment['hparams']"
   ],
   "metadata": {
    "collapsed": false,
    "ExecuteTime": {
     "end_time": "2023-06-16T08:35:55.998427Z",
     "start_time": "2023-06-16T08:35:55.948971Z"
    }
   }
  },
  {
   "cell_type": "code",
   "execution_count": 6,
   "outputs": [
    {
     "name": "stderr",
     "output_type": "stream",
     "text": [
      "The Aim Remote tracking server version (3.17.3) and the Aim client version (3.17.5) do not match.Consider upgrading either the client or remote tracking server.\n",
      "The Aim Remote tracking server version (3.17.3) and the Aim client version (3.17.5) do not match.Consider upgrading either the client or remote tracking server.\n"
     ]
    },
    {
     "data": {
      "text/plain": "'cf3ae06963b8407b8629cb62'"
     },
     "execution_count": 6,
     "metadata": {},
     "output_type": "execute_result"
    }
   ],
   "source": [
    "logger = CustomAimLogger(experiment_name='shape/no_real_trick', run_hash='copy:last', force_resume=True)\n",
    "logger.version"
   ],
   "metadata": {
    "collapsed": false,
    "ExecuteTime": {
     "end_time": "2023-06-16T08:44:24.626891Z",
     "start_time": "2023-06-16T08:44:20.050394Z"
    }
   }
  },
  {
   "cell_type": "code",
   "execution_count": 7,
   "outputs": [
    {
     "data": {
      "text/plain": "{'alternating_mode': 'step',\n 'batch_size': 8,\n 'benchmark_layout_methods': [['neato', None],\n  ['dot', None],\n  ['sfdp', None],\n  ['twopi', None],\n  ['circo', None],\n  ['spring', None],\n  ['spectral', None],\n  ['kamada_kawai', None],\n  ['fa2', None],\n  ['pmds', None],\n  ['sgd2', None],\n  ['deepgd', None],\n  ['fmmm', None],\n  ['gd2', {'metric': 'stress'}],\n  ['gd2', {'metric': 'xing', 'split': 'test'}],\n  ['gd2', {'metric': 'xangle', 'split': 'test'}],\n  ['gd2', {'metric': 'stress+xing', 'split': 'test'}],\n  ['gd2', {'metric': 'stress+xangle', 'split': 'test'}]],\n 'criteria_weights': {'rng': 1.0},\n 'dataset_name': 'Rome',\n 'discriminator_frequency': 1,\n 'discriminator': {'args': {'config': {'pooling': ['sum', 'mean', 'max']},\n   'edge_feat_expansion': {'diff_vec': False,\n    'dst_feat': True,\n    'edge_attr_inv_square': False,\n    'edge_attr_inv': False,\n    'edge_attr_square': False,\n    'src_feat': True,\n    'unit_vec': False,\n    'vec_norm_inv_square': False,\n    'vec_norm_inv': False,\n    'vec_norm_square': False,\n    'vec_norm': False},\n   'edge_net_config': {'bn': 'batch_norm',\n    'dp': 0.0,\n    'hidden_act': 'leaky_relu',\n    'out_act': None,\n    'residual': True},\n   'eps': 1e-05,\n   'gnn_config': {'act': 'leaky_relu',\n    'aggr': 'add',\n    'bn': 'pyg_batch_norm',\n    'dense': False,\n    'dp': 0.0,\n    'residual': True,\n    'root_weight': True},\n   'params': {'edge_attr_dim': 2,\n    'edge_net_embedded_depth': 8,\n    'edge_net_shared_depth': 8,\n    'edge_net_width': 64,\n    'hidden_width': 16,\n    'num_layers': 9}},\n  'meta': {'changelog': {'major': [],\n    'minor': ['Decouple Discriminator from GraphLayout.'],\n    'patch': []},\n   'class_name': 'Discriminator',\n   'description': 'SmartGD discriminator release candidate.',\n   'md5_digest': 'd55f329a2ea7e85f5adc2dcb28e4e2c8',\n   'model_name': 'smartgd_discriminator',\n   'timestamp': '2023-03-24 09:14:43.003538'}},\n 'eval_optional_data_fields': [],\n 'generator_frequency': 1,\n 'generator': {'args': {'block_config': {'relative_edge_feat_mode': 'jump',\n    'residual': True},\n   'edge_feat_expansion': {'diff_vec': False,\n    'dst_feat': False,\n    'edge_attr_inv_square': False,\n    'edge_attr_inv': False,\n    'edge_attr_square': False,\n    'src_feat': False,\n    'unit_vec': True,\n    'vec_norm_inv_square': False,\n    'vec_norm_inv': False,\n    'vec_norm_square': False,\n    'vec_norm': True},\n   'edge_net_config': {'bn': 'batch_norm',\n    'dp': 0.2,\n    'hidden_act': 'leaky_relu',\n    'out_act': 'tanh',\n    'residual': False},\n   'eps': 1e-05,\n   'gnn_config': {'act': 'leaky_relu',\n    'bn': 'pyg_batch_norm',\n    'dp': 0.1,\n    'root_weight': True},\n   'params': {'block_depth': 2,\n    'block_output_dim': 8,\n    'block_width': 8,\n    'edge_attr_dim': 2,\n    'edge_net_depth': 1,\n    'edge_net_width': 16,\n    'node_attr_dim': 2,\n    'num_blocks': 10}},\n  'meta': {'changelog': {'major': [],\n    'minor': ['Decouple Generator from GraphLayout.'],\n    'patch': ['Revert']},\n   'class_name': 'Generator',\n   'description': 'SmartGD generator release candidate.',\n   'md5_digest': 'a3b3b50ffd29b4cd5bc13f836f48cfe9',\n   'model_name': 'smartgd_generator',\n   'timestamp': '2023-03-24 18:02:41.322508'}},\n 'init_layout_method': 'pmds',\n 'learn_from_critic': True,\n 'learning_rate': 0.001,\n 'lr_gamma': 0.998,\n 'optional_data_fields': ['face', 'rng_index', 'edge_pair_metaindex'],\n 'real_layout_candidates': ['random'],\n 'replace_by_critic': True,\n 'test_slice': [10000, 11000],\n 'train_slice': [None, 10000],\n 'val_slice': [11000, None]}"
     },
     "execution_count": 7,
     "metadata": {},
     "output_type": "execute_result"
    }
   ],
   "source": [
    "logger.experiment['hparams']"
   ],
   "metadata": {
    "collapsed": false,
    "ExecuteTime": {
     "end_time": "2023-06-16T08:44:34.682383Z",
     "start_time": "2023-06-16T08:44:34.571862Z"
    }
   }
  },
  {
   "cell_type": "code",
   "execution_count": 10,
   "outputs": [
    {
     "name": "stderr",
     "output_type": "stream",
     "text": [
      "The Aim Remote tracking server version (3.17.3) and the Aim client version (3.17.5) do not match.Consider upgrading either the client or remote tracking server.\n"
     ]
    },
    {
     "data": {
      "text/plain": "'56c117fe0a7246efb1a3bd2f'"
     },
     "execution_count": 10,
     "metadata": {},
     "output_type": "execute_result"
    }
   ],
   "source": [
    "logger = CustomAimLogger(experiment_name='shape/no_real_trick', run_hash='copy:207af4eed6ad4b8788273e89', force_resume=True)\n",
    "logger.version"
   ],
   "metadata": {
    "collapsed": false,
    "ExecuteTime": {
     "end_time": "2023-06-16T08:46:28.800632Z",
     "start_time": "2023-06-16T08:46:26.880991Z"
    }
   }
  },
  {
   "cell_type": "code",
   "execution_count": 11,
   "outputs": [
    {
     "data": {
      "text/plain": "{'alternating_mode': 'step',\n 'batch_size': 8,\n 'benchmark_layout_methods': [['neato', None],\n  ['dot', None],\n  ['sfdp', None],\n  ['twopi', None],\n  ['circo', None],\n  ['spring', None],\n  ['spectral', None],\n  ['kamada_kawai', None],\n  ['fa2', None],\n  ['pmds', None],\n  ['sgd2', None],\n  ['deepgd', None],\n  ['fmmm', None],\n  ['gd2', {'metric': 'stress'}],\n  ['gd2', {'metric': 'xing', 'split': 'test'}],\n  ['gd2', {'metric': 'xangle', 'split': 'test'}],\n  ['gd2', {'metric': 'stress+xing', 'split': 'test'}],\n  ['gd2', {'metric': 'stress+xangle', 'split': 'test'}]],\n 'criteria_weights': {'rng': 1.0},\n 'dataset_name': 'Rome',\n 'discriminator_frequency': 1,\n 'discriminator': {'args': {'config': {'pooling': ['sum', 'mean', 'max']},\n   'edge_feat_expansion': {'diff_vec': False,\n    'dst_feat': True,\n    'edge_attr_inv_square': False,\n    'edge_attr_inv': False,\n    'edge_attr_square': False,\n    'src_feat': True,\n    'unit_vec': False,\n    'vec_norm_inv_square': False,\n    'vec_norm_inv': False,\n    'vec_norm_square': False,\n    'vec_norm': False},\n   'edge_net_config': {'bn': 'batch_norm',\n    'dp': 0.0,\n    'hidden_act': 'leaky_relu',\n    'out_act': None,\n    'residual': True},\n   'eps': 1e-05,\n   'gnn_config': {'act': 'leaky_relu',\n    'aggr': 'add',\n    'bn': 'pyg_batch_norm',\n    'dense': False,\n    'dp': 0.0,\n    'residual': True,\n    'root_weight': True},\n   'params': {'edge_attr_dim': 2,\n    'edge_net_embedded_depth': 8,\n    'edge_net_shared_depth': 8,\n    'edge_net_width': 64,\n    'hidden_width': 16,\n    'num_layers': 9}},\n  'meta': {'changelog': {'major': [],\n    'minor': ['Decouple Discriminator from GraphLayout.'],\n    'patch': []},\n   'class_name': 'Discriminator',\n   'description': 'SmartGD discriminator release candidate.',\n   'md5_digest': 'd55f329a2ea7e85f5adc2dcb28e4e2c8',\n   'model_name': 'smartgd_discriminator',\n   'timestamp': '2023-03-24 09:14:43.003538'}},\n 'eval_optional_data_fields': [],\n 'generator_frequency': 1,\n 'generator': {'args': {'block_config': {'relative_edge_feat_mode': 'jump',\n    'residual': True},\n   'edge_feat_expansion': {'diff_vec': False,\n    'dst_feat': False,\n    'edge_attr_inv_square': False,\n    'edge_attr_inv': False,\n    'edge_attr_square': False,\n    'src_feat': False,\n    'unit_vec': True,\n    'vec_norm_inv_square': False,\n    'vec_norm_inv': False,\n    'vec_norm_square': False,\n    'vec_norm': True},\n   'edge_net_config': {'bn': 'batch_norm',\n    'dp': 0.2,\n    'hidden_act': 'leaky_relu',\n    'out_act': 'tanh',\n    'residual': False},\n   'eps': 1e-05,\n   'gnn_config': {'act': 'leaky_relu',\n    'bn': 'pyg_batch_norm',\n    'dp': 0.1,\n    'root_weight': True},\n   'params': {'block_depth': 2,\n    'block_output_dim': 8,\n    'block_width': 8,\n    'edge_attr_dim': 2,\n    'edge_net_depth': 1,\n    'edge_net_width': 16,\n    'node_attr_dim': 2,\n    'num_blocks': 10}},\n  'meta': {'changelog': {'major': [],\n    'minor': ['Decouple Generator from GraphLayout.'],\n    'patch': ['Revert']},\n   'class_name': 'Generator',\n   'description': 'SmartGD generator release candidate.',\n   'md5_digest': 'a3b3b50ffd29b4cd5bc13f836f48cfe9',\n   'model_name': 'smartgd_generator',\n   'timestamp': '2023-03-24 18:02:41.322508'}},\n 'init_layout_method': 'pmds',\n 'learn_from_critic': True,\n 'learning_rate': 0.001,\n 'lr_gamma': 0.998,\n 'optional_data_fields': ['face', 'rng_index', 'edge_pair_metaindex'],\n 'real_layout_candidates': ['random'],\n 'replace_by_critic': True,\n 'test_slice': [10000, 11000],\n 'train_slice': [None, 10000],\n 'val_slice': [11000, None]}"
     },
     "execution_count": 11,
     "metadata": {},
     "output_type": "execute_result"
    }
   ],
   "source": [
    "logger.experiment['hparams']"
   ],
   "metadata": {
    "collapsed": false,
    "ExecuteTime": {
     "end_time": "2023-06-16T08:46:34.459649Z",
     "start_time": "2023-06-16T08:46:34.335917Z"
    }
   }
  },
  {
   "cell_type": "code",
   "execution_count": 12,
   "outputs": [
    {
     "name": "stderr",
     "output_type": "stream",
     "text": [
      "The Aim Remote tracking server version (3.17.3) and the Aim client version (3.17.5) do not match.Consider upgrading either the client or remote tracking server.\n"
     ]
    },
    {
     "data": {
      "text/plain": "'cc7281833bc34caf8e24fb43'"
     },
     "execution_count": 12,
     "metadata": {},
     "output_type": "execute_result"
    }
   ],
   "source": [
    "logger = CustomAimLogger(experiment_name='shape/no_real_trick', run_hash=None, force_resume=True)\n",
    "logger.version"
   ],
   "metadata": {
    "collapsed": false,
    "ExecuteTime": {
     "end_time": "2023-06-16T08:47:15.808768Z",
     "start_time": "2023-06-16T08:47:14.598271Z"
    }
   }
  },
  {
   "cell_type": "code",
   "execution_count": 25,
   "outputs": [
    {
     "data": {
      "text/plain": "['__class__',\n '__delattr__',\n '__delitem__',\n '__dict__',\n '__dir__',\n '__doc__',\n '__eq__',\n '__format__',\n '__ge__',\n '__getattribute__',\n '__getitem__',\n '__gt__',\n '__hash__',\n '__init__',\n '__init_subclass__',\n '__le__',\n '__lt__',\n '__module__',\n '__ne__',\n '__new__',\n '__reduce__',\n '__reduce_ex__',\n '__repr__',\n '__setattr__',\n '__setitem__',\n '__sizeof__',\n '__str__',\n '__subclasshook__',\n '__weakref__',\n '_calc_hash',\n '_checkins',\n '_cleanup_trees',\n '_collect',\n '_get_sequence',\n '_get_sequence_dtype',\n '_hash',\n '_heartbeat',\n '_lock',\n '_log_message',\n '_metric_version_warning_shown',\n '_props',\n '_resources',\n '_series_run_trees',\n '_system_resource_tracker',\n '_tracker',\n 'active',\n 'add_tag',\n 'archived',\n 'check_metrics_version',\n 'close',\n 'collect_sequence_info',\n 'created_at',\n 'creation_time',\n 'dataframe',\n 'description',\n 'duration',\n 'end_time',\n 'experiment',\n 'finalize',\n 'finalized_at',\n 'get',\n 'get_audio_sequence',\n 'get_distribution_sequence',\n 'get_figure_sequence',\n 'get_image_sequence',\n 'get_log_records',\n 'get_metric',\n 'get_terminal_logs',\n 'get_text_sequence',\n 'hash',\n 'idx_to_ctx',\n 'iter_metrics_info',\n 'iter_sequence_info_by_type',\n 'log_debug',\n 'log_error',\n 'log_info',\n 'log_warning',\n 'meta_attrs_tree',\n 'meta_run_attrs_tree',\n 'meta_run_tree',\n 'meta_tree',\n 'metrics',\n 'name',\n 'props',\n 'read_only',\n 'remove_tag',\n 'repo',\n 'report_progress',\n 'report_successful_finish',\n 'series_run_trees',\n 'set',\n 'tags',\n 'track',\n 'update_metrics']"
     },
     "execution_count": 25,
     "metadata": {},
     "output_type": "execute_result"
    }
   ],
   "source": [
    "dir(logger.experiment)"
   ],
   "metadata": {
    "collapsed": false,
    "ExecuteTime": {
     "end_time": "2023-06-16T08:51:23.838217Z",
     "start_time": "2023-06-16T08:51:23.772236Z"
    }
   }
  },
  {
   "cell_type": "code",
   "execution_count": 27,
   "outputs": [],
   "source": [
    "logger.experiment.get('hparams')"
   ],
   "metadata": {
    "collapsed": false,
    "ExecuteTime": {
     "end_time": "2023-06-16T08:52:13.459643Z",
     "start_time": "2023-06-16T08:52:13.386797Z"
    }
   }
  },
  {
   "cell_type": "code",
   "execution_count": 28,
   "outputs": [
    {
     "name": "stderr",
     "output_type": "stream",
     "text": [
      "The Aim Remote tracking server version (3.17.3) and the Aim client version (3.17.5) do not match.Consider upgrading either the client or remote tracking server.\n"
     ]
    },
    {
     "data": {
      "text/plain": "'298be2a7aae74a02b01d602b'"
     },
     "execution_count": 28,
     "metadata": {},
     "output_type": "execute_result"
    }
   ],
   "source": [
    "logger = CustomAimLogger(experiment_name='shape/no_real_trick', run_hash='copy:cc7281833bc34caf8e24fb43', force_resume=True)\n",
    "logger.version"
   ],
   "metadata": {
    "collapsed": false,
    "ExecuteTime": {
     "end_time": "2023-06-16T08:52:50.645747Z",
     "start_time": "2023-06-16T08:52:49.599650Z"
    }
   }
  },
  {
   "cell_type": "code",
   "execution_count": 32,
   "outputs": [],
   "source": [
    "logger.experiment['hparams']"
   ],
   "metadata": {
    "collapsed": false,
    "ExecuteTime": {
     "end_time": "2023-06-16T09:02:25.510738Z",
     "start_time": "2023-06-16T09:02:25.243921Z"
    }
   }
  },
  {
   "cell_type": "code",
   "execution_count": 34,
   "outputs": [],
   "source": [
    "logger.experiment['experiment_group'] = 'shape'"
   ],
   "metadata": {
    "collapsed": false,
    "ExecuteTime": {
     "end_time": "2023-06-16T09:02:58.561457Z",
     "start_time": "2023-06-16T09:02:58.509316Z"
    }
   }
  },
  {
   "cell_type": "code",
   "execution_count": 35,
   "outputs": [
    {
     "data": {
      "text/plain": "'shape'"
     },
     "execution_count": 35,
     "metadata": {},
     "output_type": "execute_result"
    }
   ],
   "source": [
    "logger.experiment['experiment_group']"
   ],
   "metadata": {
    "collapsed": false,
    "ExecuteTime": {
     "end_time": "2023-06-16T09:03:22.595018Z",
     "start_time": "2023-06-16T09:03:22.518690Z"
    }
   }
  },
  {
   "cell_type": "code",
   "execution_count": 36,
   "outputs": [],
   "source": [
    "logger.experiment.close()"
   ],
   "metadata": {
    "collapsed": false,
    "ExecuteTime": {
     "end_time": "2023-06-16T09:16:29.451318Z",
     "start_time": "2023-06-16T09:16:29.044554Z"
    }
   }
  },
  {
   "cell_type": "code",
   "execution_count": null,
   "outputs": [],
   "source": [],
   "metadata": {
    "collapsed": false
   }
  }
 ],
 "metadata": {
  "kernelspec": {
   "name": "smartgd",
   "language": "python",
   "display_name": "SmartGD"
  },
  "language_info": {
   "codemirror_mode": {
    "name": "ipython",
    "version": 2
   },
   "file_extension": ".py",
   "mimetype": "text/x-python",
   "name": "python",
   "nbconvert_exporter": "python",
   "pygments_lexer": "ipython2",
   "version": "2.7.6"
  }
 },
 "nbformat": 4,
 "nbformat_minor": 0
}
