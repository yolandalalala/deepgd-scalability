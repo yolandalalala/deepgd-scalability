{
 "cells": [
  {
   "cell_type": "code",
   "execution_count": 9,
   "metadata": {
    "collapsed": true
   },
   "outputs": [],
   "source": [
    "from smartgd.common.data.graph_drawing_data import *\n",
    "from smartgd.common.data.transforms import NormalizeGraph, AddAdjacencyInfo, ComputeShortestPath\n",
    "from smartgd.common.nn import NormalizeRotation\n",
    "from smartgd.constants import EPS\n",
    "\n",
    "from dataclasses import fields\n",
    "\n",
    "from scipy import spatial, sparse\n",
    "import networkx as nx\n",
    "import torch_sparse\n",
    "import torch_scatter"
   ]
  },
  {
   "cell_type": "code",
   "execution_count": 3,
   "outputs": [],
   "source": [
    "G_list = [\n",
    "    nx.wheel_graph(10),\n",
    "    nx.ladder_graph(10),\n",
    "    nx.grid_graph((4, 4)),\n",
    "    nx.lollipop_graph(6, 6)\n",
    "]\n",
    "for G in G_list:\n",
    "    G.graph.update(dict(\n",
    "        name=\"name\",\n",
    "        dataset=\"dataset\"\n",
    "    ))\n",
    "data_list = [GraphDrawingData.new(G).post_transform() for G in G_list]\n",
    "(wheel,\n",
    " ladder,\n",
    " grid,\n",
    " lollipop) = data_list\n",
    "batch = Batch.from_data_list(data_list)"
   ],
   "metadata": {
    "collapsed": false
   }
  },
  {
   "cell_type": "code",
   "execution_count": 4,
   "outputs": [
    {
     "data": {
      "text/plain": "GraphDrawingDataBatch(G=[4], num_nodes=58, perm_index=[2, 842], edge_metaindex=[182], apsp_attr=[842], perm_weight=[842], laplacian_eigenvector_pe=[58, 3], name=[4], dataset=[4], n=[4], m=[4], aggr_metaindex=[842], pos=[58, 2], face=[3, 74], edge_pair_metaindex=[2, 8318], gabriel_index=[2, 172], rng_index=[2, 122], batch=[58], ptr=[5])"
     },
     "execution_count": 4,
     "metadata": {},
     "output_type": "execute_result"
    }
   ],
   "source": [
    "batch"
   ],
   "metadata": {
    "collapsed": false
   }
  },
  {
   "cell_type": "code",
   "execution_count": 7,
   "outputs": [
    {
     "data": {
      "text/plain": "GraphStruct(pos=[58, 2], n=[4], m=[4], x=[58, 3], batch=[58], perm_index=[2, 842], perm_attr=[842, 1], perm_weight=[842], edge_index=[2, 182], edge_attr=[182, 1], edge_weight=[182], aggr_index=[2, 842], aggr_attr=[842, 1], aggr_weight=[842], apsp_attr=[842], gabriel_index=[2, 172], rng_index=[2, 122], edge_pair_index=[2, 2, 8318])"
     },
     "execution_count": 7,
     "metadata": {},
     "output_type": "execute_result"
    }
   ],
   "source": [
    "struct = batch.struct()\n",
    "struct"
   ],
   "metadata": {
    "collapsed": false
   }
  },
  {
   "cell_type": "code",
   "execution_count": 13,
   "outputs": [
    {
     "data": {
      "text/plain": "Field(name='pos',type=<class 'torch.FloatTensor'>,default=<dataclasses._MISSING_TYPE object at 0x10d7c75e0>,default_factory=<dataclasses._MISSING_TYPE object at 0x10d7c75e0>,init=True,repr=True,hash=None,compare=True,metadata=mappingproxy({}),kw_only=False,_field_type=_FIELD)"
     },
     "execution_count": 13,
     "metadata": {},
     "output_type": "execute_result"
    }
   ],
   "source": [
    "fields(struct)[0]"
   ],
   "metadata": {
    "collapsed": false
   }
  },
  {
   "cell_type": "code",
   "execution_count": 8,
   "outputs": [
    {
     "data": {
      "text/plain": "GraphStruct(pos=[58, 2], n=[4], m=[4], x=[58, 3], batch=[58], perm_index=[2, 842], perm_attr=[842, 1], perm_weight=[842], edge_index=[2, 182], edge_attr=[182, 1], edge_weight=[182], aggr_index=[2, 842], aggr_attr=[842, 1], aggr_weight=[842], apsp_attr=[842], gabriel_index=[2, 172], rng_index=[2, 122], edge_pair_index=[2, 2, 8318])"
     },
     "execution_count": 8,
     "metadata": {},
     "output_type": "execute_result"
    }
   ],
   "source": [
    "NormalizeRotation()(struct)"
   ],
   "metadata": {
    "collapsed": false
   }
  },
  {
   "cell_type": "code",
   "execution_count": 89,
   "outputs": [
    {
     "data": {
      "text/plain": "tensor([[0, 0, 1, 1, 1, 2, 2, 2, 3, 3, 4, 4, 4, 4, 5, 5, 6, 6, 6, 7, 8, 8, 9, 9],\n        [1, 2, 0, 5, 7, 0, 4, 9, 4, 8, 2, 3, 5, 6, 1, 4, 4, 8, 9, 1, 3, 6, 2, 6]])"
     },
     "execution_count": 89,
     "metadata": {},
     "output_type": "execute_result"
    }
   ],
   "source": [
    "data = wheel\n",
    "delaunay_edges = data.face[list(permutations(range(3), 2)), :].transpose(1, 2).flatten(end_dim=1).unique(dim=0)\n",
    "tree = spatial.KDTree(data.pos.detach().cpu().numpy())\n",
    "c = data.pos[delaunay_edges]\n",
    "m = c.mean(dim=1)\n",
    "d = (c[:, 0, :] - c[:, 1, :]).norm(dim=1)\n",
    "dm = torch.tensor(tree.query(x=m.detach().cpu().numpy(), k=1)[0]).to(m)\n",
    "delaunay_edges[dm >= d / 2 * (1 - EPS)].T"
   ],
   "metadata": {
    "collapsed": false
   }
  },
  {
   "cell_type": "code",
   "execution_count": 100,
   "outputs": [],
   "source": [
    "data = wheel\n",
    "delaunay_edges = data.face[list(permutations(range(3), 2)), :].transpose(1, 2).flatten(end_dim=1).unique(dim=0)\n",
    "tree = spatial.KDTree(data.pos.detach().cpu().numpy())\n",
    "c = data.pos[delaunay_edges]\n",
    "src, dst = c[:, 0, :], c[:, 1, :]\n",
    "d = (src - dst).norm(dim=1)\n",
    "r = (d * (1 - EPS)).detach().cpu().numpy()\n",
    "\n",
    "p0 = tree.query_ball_point(x=src.detach().cpu().numpy(), r=r)\n",
    "p0m = sparse.lil_matrix((len(delaunay_edges), data.num_nodes))\n",
    "p0m.rows, p0m.data = p0, list(map(np.ones_like, p0))\n",
    "p0idx = torch.tensor(p0m.toarray(), device=src.device, dtype=torch.bool)\n",
    "\n",
    "p1 = tree.query_ball_point(x=dst.detach().cpu().numpy(), r=r)\n",
    "p1m = sparse.lil_matrix((len(delaunay_edges), data.num_nodes))\n",
    "p1m.rows, p1m.data = p1, list(map(np.ones_like, p1))\n",
    "p1idx = torch.tensor(p1m.toarray(), device=dst.device, dtype=torch.bool)\n",
    "\n",
    "data.rng_index = delaunay_edges[~(p0idx & p1idx).any(dim=1)].T"
   ],
   "metadata": {
    "collapsed": false
   }
  },
  {
   "cell_type": "code",
   "execution_count": 6,
   "outputs": [
    {
     "data": {
      "text/plain": "tensor([0.1872, 0.0183, 0.0677, 0.1369], dtype=torch.float64)"
     },
     "execution_count": 6,
     "metadata": {},
     "output_type": "execute_result"
    }
   ],
   "source": [
    "cat_index = torch.cat([batch.edge_index, batch.rng_index], dim=1)\n",
    "merged_index, merged_value = torch_sparse.coalesce(\n",
    "    index=cat_index,\n",
    "    value=torch.ones_like(cat_index[0]),\n",
    "    m=batch.num_nodes,\n",
    "    n=batch.num_nodes\n",
    ")\n",
    "intersection = torch_scatter.scatter((merged_value > 1).to(float), merged_index[0])\n",
    "union = torch_scatter.scatter((merged_value > 0).to(float), merged_index[0])\n",
    "torch_scatter.scatter(intersection / union, batch.batch, reduce=\"mean\")"
   ],
   "metadata": {
    "collapsed": false
   }
  },
  {
   "cell_type": "code",
   "execution_count": 11,
   "outputs": [],
   "source": [
    "data = lollipop\n",
    "size = data.num_nodes, data.num_nodes\n",
    "adj = torch.sparse_coo_tensor(data.edge_index, torch.ones_like(data.edge_index[0]), size=size, dtype=bool).to_dense()\n",
    "rng_adj = torch.sparse_coo_tensor(data.rng_index, torch.ones_like(data.rng_index[0]), size=size, dtype=bool).to_dense()"
   ],
   "metadata": {
    "collapsed": false
   }
  },
  {
   "cell_type": "code",
   "execution_count": 12,
   "outputs": [
    {
     "data": {
      "text/plain": "tensor(0.1369)"
     },
     "execution_count": 12,
     "metadata": {},
     "output_type": "execute_result"
    }
   ],
   "source": [
    "torch.mean((adj & rng_adj).sum(dim=1) / (adj | rng_adj).sum(dim=1))"
   ],
   "metadata": {
    "collapsed": false
   }
  },
  {
   "cell_type": "code",
   "execution_count": null,
   "outputs": [],
   "source": [
    "np.mean((adj & shape_adj).sum(axis=1) / (adj | shape_adj).sum(axis=1))"
   ],
   "metadata": {
    "collapsed": false
   }
  },
  {
   "cell_type": "code",
   "execution_count": null,
   "outputs": [],
   "source": [
    "n = max(edges.max(), shape_edges.max()) + 1\n",
    "adj = sparse.coo_matrix((np.ones_like(edges[:, 0]), edges.T), (n, n)).astype(bool).toarray()\n",
    "shape_adj = sparse.coo_matrix((np.ones_like(shape_edges[:, 0]), shape_edges.T), (n, n)).astype(bool).toarray()\n",
    "assert np.all(adj.T == adj) and np.all(shape_adj.T == shape_adj)\n",
    "return np.mean((adj & shape_adj).sum(axis=1) / (adj | shape_adj).sum(axis=1))"
   ],
   "metadata": {
    "collapsed": false
   }
  },
  {
   "cell_type": "code",
   "execution_count": null,
   "outputs": [],
   "source": [
    "\n",
    "\n",
    "# TODO: torchfy\n",
    "def rng(pos, edge_set, eps=1e-5):\n",
    "    tree = spatial.KDTree(pos)\n",
    "    c = pos[edge_set]\n",
    "    d = np.linalg.norm(c[:, 0, :] - c[:, 1, :], axis=1)\n",
    "    p0 = tree.query_ball_point(x=c[:, 0, :], r=d*(1 - eps))\n",
    "    p1 = tree.query_ball_point(x=c[:, 1, :], r=d*(1 - eps))\n",
    "    p0m = sparse.lil_matrix((len(edge_set), len(pos)))\n",
    "    p0m.rows, p0m.data = p0, list(map(np.ones_like, p0))\n",
    "    p1m = sparse.lil_matrix((len(edge_set), len(pos)))\n",
    "    p1m.rows, p1m.data = p1, list(map(np.ones_like, p1))\n",
    "    return edge_set[~(p0m.toarray().astype(bool) & p1m.toarray().astype(bool)).any(axis=1)]\n",
    "\n",
    "\n",
    "# TODO: torchfy\n",
    "def jaccard_index(edges, shape_edges):\n",
    "    n = max(edges.max(), shape_edges.max()) + 1\n",
    "    adj = sparse.coo_matrix((np.ones_like(edges[:, 0]), edges.T), (n, n)).astype(bool).toarray()\n",
    "    shape_adj = sparse.coo_matrix((np.ones_like(shape_edges[:, 0]), shape_edges.T), (n, n)).astype(bool).toarray()\n",
    "    assert np.all(adj.T == adj) and np.all(shape_adj.T == shape_adj)\n",
    "    return np.mean((adj & shape_adj).sum(axis=1) / (adj | shape_adj).sum(axis=1))\n"
   ],
   "metadata": {
    "collapsed": false
   }
  }
 ],
 "metadata": {
  "kernelspec": {
   "display_name": "Python 3",
   "language": "python",
   "name": "python3"
  },
  "language_info": {
   "codemirror_mode": {
    "name": "ipython",
    "version": 2
   },
   "file_extension": ".py",
   "mimetype": "text/x-python",
   "name": "python",
   "nbconvert_exporter": "python",
   "pygments_lexer": "ipython2",
   "version": "2.7.6"
  }
 },
 "nbformat": 4,
 "nbformat_minor": 0
}
