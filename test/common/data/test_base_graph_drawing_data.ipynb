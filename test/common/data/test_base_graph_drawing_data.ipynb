{
 "cells": [
  {
   "cell_type": "code",
   "execution_count": 1,
   "metadata": {
    "collapsed": true,
    "ExecuteTime": {
     "end_time": "2024-01-06T13:59:18.611932Z",
     "start_time": "2024-01-06T13:59:15.327788Z"
    }
   },
   "outputs": [],
   "source": [
    "from deepgd.common.data.base_graph_drawing_data import *\n",
    "from deepgd.constants import EPS\n",
    "\n",
    "from scipy import spatial, sparse\n",
    "import networkx as nx\n",
    "import torch_sparse\n",
    "import torch_scatter"
   ]
  },
  {
   "cell_type": "code",
   "execution_count": 3,
   "outputs": [],
   "source": [
    "G_list = [\n",
    "    nx.wheel_graph(10),\n",
    "    nx.ladder_graph(10),\n",
    "    nx.grid_graph((4, 4)),\n",
    "    nx.lollipop_graph(6, 6)\n",
    "]\n",
    "for G in G_list:\n",
    "    G.graph.update(dict(\n",
    "        name=\"name\",\n",
    "        dataset=\"dataset\"\n",
    "    ))\n",
    "data_list = [BaseGraphDrawingData.new(G).post_transform() for G in G_list]\n",
    "(wheel,\n",
    " ladder,\n",
    " grid,\n",
    " lollipop) = data_list\n",
    "batch = Batch.from_data_list(data_list)"
   ],
   "metadata": {
    "collapsed": false,
    "ExecuteTime": {
     "end_time": "2024-01-06T16:25:36.159529Z",
     "start_time": "2024-01-06T16:25:36.141144Z"
    }
   }
  },
  {
   "cell_type": "code",
   "execution_count": 3,
   "outputs": [
    {
     "name": "stdout",
     "output_type": "stream",
     "text": [
      "Compose([\n",
      "  GenerateRandomLayout(),\n",
      "  Delaunay(),\n",
      "  CreateEdgePairs(),\n",
      "  GabrielGraph(),\n",
      "  RandomNeighborhoodGraph()\n",
      "])\n"
     ]
    },
    {
     "data": {
      "text/plain": "BaseGraphDrawingData(G=DiGraph named 'name' with 10 nodes and 36 edges, num_nodes=10, perm_index=[2, 90], edge_metaindex=[36], apsp_attr=[90], perm_weight=[90], laplacian_eigenvector_pe=[10, 3], name='name', dataset='dataset', n=10, m=18, aggr_metaindex=[90], pos=[10, 2], face=[3, 12], edge_pair_metaindex=[2, 1260], gabriel_index=[2, 30], rng_index=[2, 20])"
     },
     "execution_count": 3,
     "metadata": {},
     "output_type": "execute_result"
    }
   ],
   "source": [
    "^BaseGraphDrawingData.new(G_list[0]).post_transform()"
   ],
   "metadata": {
    "collapsed": false
   }
  },
  {
   "cell_type": "code",
   "execution_count": 87,
   "outputs": [
    {
     "data": {
      "text/plain": "tensor([[0, 1],\n        [0, 2],\n        [0, 5],\n        [0, 7],\n        [1, 0],\n        [1, 5],\n        [1, 7],\n        [2, 0],\n        [2, 4],\n        [2, 5],\n        [2, 6],\n        [2, 9],\n        [3, 4],\n        [3, 5],\n        [3, 6],\n        [3, 7],\n        [3, 8],\n        [4, 2],\n        [4, 3],\n        [4, 5],\n        [4, 6],\n        [5, 0],\n        [5, 1],\n        [5, 2],\n        [5, 3],\n        [5, 4],\n        [5, 7],\n        [6, 2],\n        [6, 3],\n        [6, 4],\n        [6, 8],\n        [6, 9],\n        [7, 0],\n        [7, 1],\n        [7, 3],\n        [7, 5],\n        [8, 3],\n        [8, 6],\n        [8, 9],\n        [9, 2],\n        [9, 6],\n        [9, 8]])"
     },
     "execution_count": 87,
     "metadata": {},
     "output_type": "execute_result"
    }
   ],
   "source": [
    "wheel.face[list(permutations(range(3), 2)), :].transpose(1, 2).flatten(end_dim=1).unique(dim=0)"
   ],
   "metadata": {
    "collapsed": false
   }
  },
  {
   "cell_type": "code",
   "execution_count": 89,
   "outputs": [
    {
     "data": {
      "text/plain": "tensor([[0, 0, 1, 1, 1, 2, 2, 2, 3, 3, 4, 4, 4, 4, 5, 5, 6, 6, 6, 7, 8, 8, 9, 9],\n        [1, 2, 0, 5, 7, 0, 4, 9, 4, 8, 2, 3, 5, 6, 1, 4, 4, 8, 9, 1, 3, 6, 2, 6]])"
     },
     "execution_count": 89,
     "metadata": {},
     "output_type": "execute_result"
    }
   ],
   "source": [
    "data = wheel\n",
    "delaunay_edges = data.face[list(permutations(range(3), 2)), :].transpose(1, 2).flatten(end_dim=1).unique(dim=0)\n",
    "tree = spatial.KDTree(data.pos.detach().cpu().numpy())\n",
    "c = data.pos[delaunay_edges]\n",
    "m = c.mean(dim=1)\n",
    "d = (c[:, 0, :] - c[:, 1, :]).norm(dim=1)\n",
    "dm = torch.tensor(tree.query(x=m.detach().cpu().numpy(), k=1)[0]).to(m)\n",
    "delaunay_edges[dm >= d / 2 * (1 - EPS)].T"
   ],
   "metadata": {
    "collapsed": false
   }
  },
  {
   "cell_type": "code",
   "execution_count": 100,
   "outputs": [],
   "source": [
    "data = wheel\n",
    "delaunay_edges = data.face[list(permutations(range(3), 2)), :].transpose(1, 2).flatten(end_dim=1).unique(dim=0)\n",
    "tree = spatial.KDTree(data.pos.detach().cpu().numpy())\n",
    "c = data.pos[delaunay_edges]\n",
    "src, dst = c[:, 0, :], c[:, 1, :]\n",
    "d = (src - dst).norm(dim=1)\n",
    "r = (d * (1 - EPS)).detach().cpu().numpy()\n",
    "\n",
    "p0 = tree.query_ball_point(x=src.detach().cpu().numpy(), r=r)\n",
    "p0m = sparse.lil_matrix((len(delaunay_edges), data.num_nodes))\n",
    "p0m.rows, p0m.data = p0, list(map(np.ones_like, p0))\n",
    "p0idx = torch.tensor(p0m.toarray(), device=src.device, dtype=torch.bool)\n",
    "\n",
    "p1 = tree.query_ball_point(x=dst.detach().cpu().numpy(), r=r)\n",
    "p1m = sparse.lil_matrix((len(delaunay_edges), data.num_nodes))\n",
    "p1m.rows, p1m.data = p1, list(map(np.ones_like, p1))\n",
    "p1idx = torch.tensor(p1m.toarray(), device=dst.device, dtype=torch.bool)\n",
    "\n",
    "data.rng_index = delaunay_edges[~(p0idx & p1idx).any(dim=1)].T"
   ],
   "metadata": {
    "collapsed": false
   }
  },
  {
   "cell_type": "code",
   "execution_count": 6,
   "outputs": [
    {
     "data": {
      "text/plain": "tensor([0.1872, 0.0183, 0.0677, 0.1369], dtype=torch.float64)"
     },
     "execution_count": 6,
     "metadata": {},
     "output_type": "execute_result"
    }
   ],
   "source": [
    "cat_index = torch.cat([batch.edge_index, batch.rng_index], dim=1)\n",
    "merged_index, merged_value = torch_sparse.coalesce(\n",
    "    index=cat_index,\n",
    "    value=torch.ones_like(cat_index[0]),\n",
    "    m=batch.num_nodes,\n",
    "    n=batch.num_nodes\n",
    ")\n",
    "intersection = torch_scatter.scatter((merged_value > 1).to(float), merged_index[0])\n",
    "union = torch_scatter.scatter((merged_value > 0).to(float), merged_index[0])\n",
    "torch_scatter.scatter(intersection / union, batch.batch, reduce=\"mean\")"
   ],
   "metadata": {
    "collapsed": false
   }
  },
  {
   "cell_type": "code",
   "execution_count": 11,
   "outputs": [],
   "source": [
    "data = lollipop\n",
    "size = data.num_nodes, data.num_nodes\n",
    "adj = torch.sparse_coo_tensor(data.edge_index, torch.ones_like(data.edge_index[0]), size=size, dtype=bool).to_dense()\n",
    "rng_adj = torch.sparse_coo_tensor(data.rng_index, torch.ones_like(data.rng_index[0]), size=size, dtype=bool).to_dense()"
   ],
   "metadata": {
    "collapsed": false
   }
  },
  {
   "cell_type": "code",
   "execution_count": 12,
   "outputs": [
    {
     "data": {
      "text/plain": "tensor(0.1369)"
     },
     "execution_count": 12,
     "metadata": {},
     "output_type": "execute_result"
    }
   ],
   "source": [
    "torch.mean((adj & rng_adj).sum(dim=1) / (adj | rng_adj).sum(dim=1))"
   ],
   "metadata": {
    "collapsed": false
   }
  },
  {
   "cell_type": "code",
   "execution_count": null,
   "outputs": [],
   "source": [
    "np.mean((adj & shape_adj).sum(axis=1) / (adj | shape_adj).sum(axis=1))"
   ],
   "metadata": {
    "collapsed": false
   }
  },
  {
   "cell_type": "code",
   "execution_count": null,
   "outputs": [],
   "source": [
    "n = max(edges.max(), shape_edges.max()) + 1\n",
    "adj = sparse.coo_matrix((np.ones_like(edges[:, 0]), edges.T), (n, n)).astype(bool).toarray()\n",
    "shape_adj = sparse.coo_matrix((np.ones_like(shape_edges[:, 0]), shape_edges.T), (n, n)).astype(bool).toarray()\n",
    "assert np.all(adj.T == adj) and np.all(shape_adj.T == shape_adj)\n",
    "return np.mean((adj & shape_adj).sum(axis=1) / (adj | shape_adj).sum(axis=1))"
   ],
   "metadata": {
    "collapsed": false
   }
  },
  {
   "cell_type": "code",
   "execution_count": null,
   "outputs": [],
   "source": [
    "\n",
    "\n",
    "# TODO: torchfy\n",
    "def rng(pos, edge_set, eps=1e-5):\n",
    "    tree = spatial.KDTree(pos)\n",
    "    c = pos[edge_set]\n",
    "    d = np.linalg.norm(c[:, 0, :] - c[:, 1, :], axis=1)\n",
    "    p0 = tree.query_ball_point(x=c[:, 0, :], r=d*(1 - eps))\n",
    "    p1 = tree.query_ball_point(x=c[:, 1, :], r=d*(1 - eps))\n",
    "    p0m = sparse.lil_matrix((len(edge_set), len(pos)))\n",
    "    p0m.rows, p0m.data = p0, list(map(np.ones_like, p0))\n",
    "    p1m = sparse.lil_matrix((len(edge_set), len(pos)))\n",
    "    p1m.rows, p1m.data = p1, list(map(np.ones_like, p1))\n",
    "    return edge_set[~(p0m.toarray().astype(bool) & p1m.toarray().astype(bool)).any(axis=1)]\n",
    "\n",
    "\n",
    "# TODO: torchfy\n",
    "def jaccard_index(edges, shape_edges):\n",
    "    n = max(edges.max(), shape_edges.max()) + 1\n",
    "    adj = sparse.coo_matrix((np.ones_like(edges[:, 0]), edges.T), (n, n)).astype(bool).toarray()\n",
    "    shape_adj = sparse.coo_matrix((np.ones_like(shape_edges[:, 0]), shape_edges.T), (n, n)).astype(bool).toarray()\n",
    "    assert np.all(adj.T == adj) and np.all(shape_adj.T == shape_adj)\n",
    "    return np.mean((adj & shape_adj).sum(axis=1) / (adj | shape_adj).sum(axis=1))\n"
   ],
   "metadata": {
    "collapsed": false
   }
  }
 ],
 "metadata": {
  "kernelspec": {
   "display_name": "Python 3",
   "language": "python",
   "name": "python3"
  },
  "language_info": {
   "codemirror_mode": {
    "name": "ipython",
    "version": 2
   },
   "file_extension": ".py",
   "mimetype": "text/x-python",
   "name": "python",
   "nbconvert_exporter": "python",
   "pygments_lexer": "ipython2",
   "version": "2.7.6"
  }
 },
 "nbformat": 4,
 "nbformat_minor": 0
}
