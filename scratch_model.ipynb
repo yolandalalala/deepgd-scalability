{
 "cells": [
  {
   "cell_type": "code",
   "outputs": [],
   "source": [
    "%load_ext autoreload\n",
    "%autoreload 2"
   ],
   "metadata": {
    "collapsed": false,
    "ExecuteTime": {
     "end_time": "2024-02-04T01:08:41.262306Z",
     "start_time": "2024-02-04T01:08:41.237766Z"
    }
   },
   "id": "645a76b7f58d849b",
   "execution_count": 1
  },
  {
   "cell_type": "code",
   "outputs": [],
   "source": [
    "from model import *\n",
    "from deepgd.model import *"
   ],
   "metadata": {
    "collapsed": false,
    "ExecuteTime": {
     "end_time": "2024-02-04T01:08:45.630061Z",
     "start_time": "2024-02-04T01:08:42.230199Z"
    }
   },
   "id": "5dce613f274a5c15",
   "execution_count": 2
  },
  {
   "cell_type": "code",
   "outputs": [],
   "source": [
    "import torch\n",
    "from torch import nn, jit"
   ],
   "metadata": {
    "collapsed": true,
    "ExecuteTime": {
     "end_time": "2024-02-04T01:08:48.472303Z",
     "start_time": "2024-02-04T01:08:48.444155Z"
    }
   },
   "id": "initial_id",
   "execution_count": 3
  },
  {
   "cell_type": "code",
   "outputs": [],
   "source": [
    "from attrs import define, NOTHING"
   ],
   "metadata": {
    "collapsed": false,
    "ExecuteTime": {
     "end_time": "2024-02-04T01:08:50.691967Z",
     "start_time": "2024-02-04T01:08:50.659537Z"
    }
   },
   "id": "2f4731bba24080bb",
   "execution_count": 4
  },
  {
   "cell_type": "code",
   "outputs": [],
   "source": [
    "model = Model(\n",
    "    config=Model.Config(mean=False)\n",
    ")\n",
    "model = jit.script(model)\n",
    "model = torch.compile(model)"
   ],
   "metadata": {
    "collapsed": false,
    "ExecuteTime": {
     "end_time": "2024-02-04T01:08:54.934464Z",
     "start_time": "2024-02-04T01:08:52.614221Z"
    }
   },
   "id": "5edc96b83dba75e2",
   "execution_count": 5
  },
  {
   "cell_type": "code",
   "outputs": [
    {
     "data": {
      "text/plain": [
       "OptimizedModule(\n",
       "  (_orig_mod): RecursiveScriptModule(\n",
       "    original_name=Model\n",
       "    (linear): RecursiveScriptModule(original_name=Linear)\n",
       "  )\n",
       ")"
      ]
     },
     "metadata": {},
     "output_type": "execute_result",
     "execution_count": 6
    }
   ],
   "source": [
    "model"
   ],
   "metadata": {
    "collapsed": false,
    "ExecuteTime": {
     "end_time": "2024-02-04T01:08:56.178252Z",
     "start_time": "2024-02-04T01:08:56.140470Z"
    }
   },
   "id": "19e2c4679299b80a",
   "execution_count": 6
  },
  {
   "cell_type": "code",
   "execution_count": null,
   "outputs": [],
   "source": [
    "jit.save(model, 'model.pt')"
   ],
   "metadata": {
    "collapsed": false,
    "ExecuteTime": {
     "end_time": "2024-01-01T01:57:35.245008Z",
     "start_time": "2024-01-01T01:57:35.244505Z"
    }
   },
   "id": "a277282048e64c35"
  },
  {
   "cell_type": "code",
   "execution_count": 5,
   "outputs": [
    {
     "name": "stderr",
     "output_type": "stream",
     "text": [
      "/opt/homebrew/Caskroom/mambaforge/base/lib/python3.10/site-packages/torch/jit/annotations.py:386: UserWarning: TorchScript will treat type annotations of Tensor dtype-specific subtypes as if they are normal Tensors. dtype constraints are not enforced in compilation either.\n",
      "  warnings.warn(\n"
     ]
    }
   ],
   "source": [
    "generator = Generator(\n",
    "    params=NOTHING,\n",
    "    block_config=NOTHING,\n",
    "    edge_net_config=NOTHING,\n",
    "    gnn_config=NOTHING,\n",
    "    edge_feat_expansion=NOTHING,\n",
    "    eps=NOTHING\n",
    ")\n",
    "generator = jit.script(generator)\n",
    "generator = torch.compile(generator)"
   ],
   "metadata": {
    "collapsed": false,
    "ExecuteTime": {
     "end_time": "2024-01-02T00:45:17.561264Z",
     "start_time": "2024-01-02T00:45:08.348391Z"
    }
   },
   "id": "a95542165bdaa292"
  },
  {
   "cell_type": "code",
   "execution_count": null,
   "outputs": [],
   "source": [],
   "metadata": {
    "collapsed": false
   },
   "id": "aa733e4d5eb9f09e"
  }
 ],
 "metadata": {
  "kernelspec": {
   "display_name": "Python 3",
   "language": "python",
   "name": "python3"
  },
  "language_info": {
   "codemirror_mode": {
    "name": "ipython",
    "version": 2
   },
   "file_extension": ".py",
   "mimetype": "text/x-python",
   "name": "python",
   "nbconvert_exporter": "python",
   "pygments_lexer": "ipython2",
   "version": "2.7.6"
  }
 },
 "nbformat": 4,
 "nbformat_minor": 5
}
