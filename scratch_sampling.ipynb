{
 "cells": [
  {
   "metadata": {
    "ExecuteTime": {
     "end_time": "2024-02-18T11:59:05.128147Z",
     "start_time": "2024-02-18T11:59:05.070309Z"
    }
   },
   "cell_type": "code",
   "source": [
    "%load_ext autoreload\n",
    "%autoreload 2"
   ],
   "id": "d34b6f0cbe89c9b",
   "outputs": [],
   "execution_count": 1
  },
  {
   "metadata": {
    "ExecuteTime": {
     "end_time": "2024-02-18T12:04:34.845698Z",
     "start_time": "2024-02-18T12:04:32.930367Z"
    }
   },
   "cell_type": "code",
   "source": [
    "from deepgd.datasets import SuiteSparseDataset, RomeDataset\n",
    "from deepgd.data import ScalableGraphDataUniformSample, ScalableGraphDataExponentialSample, DenseGraphData"
   ],
   "id": "24e57e4c8f40b9eb",
   "outputs": [],
   "execution_count": 2
  },
  {
   "metadata": {
    "ExecuteTime": {
     "end_time": "2024-02-18T12:04:34.848696Z",
     "start_time": "2024-02-18T12:04:34.846875Z"
    }
   },
   "cell_type": "code",
   "source": [
    "import torch\n",
    "import torch_geometric as pyg"
   ],
   "id": "initial_id",
   "outputs": [],
   "execution_count": 3
  },
  {
   "metadata": {
    "ExecuteTime": {
     "end_time": "2024-02-18T12:04:35.013011Z",
     "start_time": "2024-02-18T12:04:34.849533Z"
    }
   },
   "cell_type": "code",
   "source": [
    "dataset = SuiteSparseDataset(\n",
    "    min_nodes=0,\n",
    "    max_nodes=7500,\n",
    "    limit=10000,\n",
    "    datatype=ScalableGraphDataUniformSample,\n",
    "    datatype_args=dict(\n",
    "        device='cpu',\n",
    "        landmarks=10,\n",
    "        random_edges=10\n",
    "    )\n",
    ")"
   ],
   "id": "aeb667b1b109f9e",
   "outputs": [],
   "execution_count": 4
  },
  {
   "metadata": {
    "ExecuteTime": {
     "start_time": "2024-02-18T12:04:38.530675Z"
    }
   },
   "cell_type": "code",
   "source": [
    "loader = pyg.loader.NeighborLoader(\n",
    "    data=dataset[0],\n",
    "    num_neighbors=[4] * 5, \n",
    "    batch_size=1, \n",
    "    replace=False,\n",
    "    shuffle=False\n",
    ")"
   ],
   "id": "dc1c8c40a6f574c",
   "outputs": [],
   "execution_count": null
  },
  {
   "metadata": {
    "ExecuteTime": {
     "end_time": "2024-02-18T12:00:47.228563Z",
     "start_time": "2024-02-18T12:00:47.199034Z"
    }
   },
   "cell_type": "code",
   "source": "batch = next(iter(loader))",
   "id": "6174373c4dabdf06",
   "outputs": [],
   "execution_count": 16
  },
  {
   "metadata": {
    "ExecuteTime": {
     "end_time": "2024-02-18T12:00:47.651346Z",
     "start_time": "2024-02-18T12:00:47.626900Z"
    }
   },
   "cell_type": "code",
   "source": "batch",
   "id": "6e76b0445ec001af",
   "outputs": [
    {
     "data": {
      "text/plain": [
       "ScalableGraphDataUniformSample(x=[287, 2], G=DiGraph named '1138_bus' with 1138 nodes and 2916 edges, n=1138, m=2916, raw_edge_index=[2, 2916], raw_edge_attr=[2916, 2], edge_index=[2, 600], edge_attr=[600, 2], edge_weight=[600], full_edge_index=[2, 600], full_edge_attr=[600, 2], n_id=[287], e_id=[600], input_id=[1], batch_size=1)"
      ]
     },
     "execution_count": 17,
     "metadata": {},
     "output_type": "execute_result"
    }
   ],
   "execution_count": 17
  },
  {
   "metadata": {
    "ExecuteTime": {
     "end_time": "2024-02-18T12:00:21.269569Z",
     "start_time": "2024-02-18T12:00:21.240904Z"
    }
   },
   "cell_type": "code",
   "source": "dataset[0]",
   "id": "20918a259906f30f",
   "outputs": [
    {
     "data": {
      "text/plain": [
       "ScalableGraphDataUniformSample(x=[1138, 2], G=DiGraph named '1138_bus' with 1138 nodes and 2916 edges, n=1138, m=2916, raw_edge_index=[2, 2916], raw_edge_attr=[2916, 2], edge_index=[2, 36676], edge_attr=[36676, 2], edge_weight=[36676], full_edge_index=[2, 36676], full_edge_attr=[36676, 2])"
      ]
     },
     "execution_count": 11,
     "metadata": {},
     "output_type": "execute_result"
    }
   ],
   "execution_count": 11
  },
  {
   "metadata": {},
   "cell_type": "code",
   "outputs": [],
   "execution_count": null,
   "source": [
    "outputs, edge_index, edge_feat = pyg.utils.trim_to_layer(\n",
    "    layer=0,\n",
    "    num_sampled_nodes_per_hop=10,\n",
    "    num_sampled_edges_per_hop=20,\n",
    "    x=batch.x,\n",
    "    edge_index=batch.edge_index,\n",
    "    edge_attr=batch.edge_attr\n",
    ")"
   ],
   "id": "6864622963d2c793"
  },
  {
   "metadata": {
    "ExecuteTime": {
     "end_time": "2024-02-17T15:25:48.788850Z",
     "start_time": "2024-02-17T15:25:43.013426Z"
    }
   },
   "cell_type": "code",
   "source": [
    "from torch_geometric.datasets import Planetoid\n",
    "from torch_geometric.loader import NeighborLoader\n",
    "\n",
    "data = Planetoid('datasets', name='Cora')[0]\n",
    "\n",
    "loader = NeighborLoader(\n",
    "    data,\n",
    "    num_neighbors=[10] * 3,\n",
    "    batch_size=128,\n",
    ")\n",
    "\n",
    "batch = next(iter(loader))\n",
    "batch"
   ],
   "id": "f510730eb7a37db8",
   "outputs": [
    {
     "name": "stderr",
     "output_type": "stream",
     "text": [
      "Downloading https://github.com/kimiyoung/planetoid/raw/master/data/ind.cora.x\n",
      "Downloading https://github.com/kimiyoung/planetoid/raw/master/data/ind.cora.tx\n",
      "Downloading https://github.com/kimiyoung/planetoid/raw/master/data/ind.cora.allx\n",
      "Downloading https://github.com/kimiyoung/planetoid/raw/master/data/ind.cora.y\n",
      "Downloading https://github.com/kimiyoung/planetoid/raw/master/data/ind.cora.ty\n",
      "Downloading https://github.com/kimiyoung/planetoid/raw/master/data/ind.cora.ally\n",
      "Downloading https://github.com/kimiyoung/planetoid/raw/master/data/ind.cora.graph\n",
      "Downloading https://github.com/kimiyoung/planetoid/raw/master/data/ind.cora.test.index\n",
      "Processing...\n",
      "Done!\n"
     ]
    },
    {
     "data": {
      "text/plain": [
       "Data(x=[1851, 1433], edge_index=[2, 5435], y=[1851], train_mask=[1851], val_mask=[1851], test_mask=[1851], n_id=[1851], e_id=[5435], input_id=[128], batch_size=128)"
      ]
     },
     "execution_count": 17,
     "metadata": {},
     "output_type": "execute_result"
    }
   ],
   "execution_count": 17
  },
  {
   "metadata": {
    "ExecuteTime": {
     "end_time": "2024-02-17T15:26:24.094471Z",
     "start_time": "2024-02-17T15:26:23.992296Z"
    }
   },
   "cell_type": "code",
   "source": "batch.num_sampled_nodes",
   "id": "9fccaf58df6643ff",
   "outputs": [
    {
     "ename": "AttributeError",
     "evalue": "'GlobalStorage' object has no attribute 'num_sampled_nodes'",
     "output_type": "error",
     "traceback": [
      "\u001B[0;31m---------------------------------------------------------------------------\u001B[0m",
      "\u001B[0;31mAttributeError\u001B[0m                            Traceback (most recent call last)",
      "Cell \u001B[0;32mIn[18], line 1\u001B[0m\n\u001B[0;32m----> 1\u001B[0m \u001B[43mbatch\u001B[49m\u001B[38;5;241;43m.\u001B[39;49m\u001B[43mnum_sampled_nodes\u001B[49m\n",
      "File \u001B[0;32m/opt/homebrew/Caskroom/mambaforge/base/lib/python3.10/site-packages/torch_geometric/data/data.py:559\u001B[0m, in \u001B[0;36mData.__getattr__\u001B[0;34m(self, key)\u001B[0m\n\u001B[1;32m    553\u001B[0m \u001B[38;5;28;01mif\u001B[39;00m \u001B[38;5;124m'\u001B[39m\u001B[38;5;124m_store\u001B[39m\u001B[38;5;124m'\u001B[39m \u001B[38;5;129;01mnot\u001B[39;00m \u001B[38;5;129;01min\u001B[39;00m \u001B[38;5;28mself\u001B[39m\u001B[38;5;241m.\u001B[39m\u001B[38;5;18m__dict__\u001B[39m:\n\u001B[1;32m    554\u001B[0m     \u001B[38;5;28;01mraise\u001B[39;00m \u001B[38;5;167;01mRuntimeError\u001B[39;00m(\n\u001B[1;32m    555\u001B[0m         \u001B[38;5;124m\"\u001B[39m\u001B[38;5;124mThe \u001B[39m\u001B[38;5;124m'\u001B[39m\u001B[38;5;124mdata\u001B[39m\u001B[38;5;124m'\u001B[39m\u001B[38;5;124m object was created by an older version of PyG. \u001B[39m\u001B[38;5;124m\"\u001B[39m\n\u001B[1;32m    556\u001B[0m         \u001B[38;5;124m\"\u001B[39m\u001B[38;5;124mIf this error occurred while loading an already existing \u001B[39m\u001B[38;5;124m\"\u001B[39m\n\u001B[1;32m    557\u001B[0m         \u001B[38;5;124m\"\u001B[39m\u001B[38;5;124mdataset, remove the \u001B[39m\u001B[38;5;124m'\u001B[39m\u001B[38;5;124mprocessed/\u001B[39m\u001B[38;5;124m'\u001B[39m\u001B[38;5;124m directory in the dataset\u001B[39m\u001B[38;5;124m'\u001B[39m\u001B[38;5;124ms \u001B[39m\u001B[38;5;124m\"\u001B[39m\n\u001B[1;32m    558\u001B[0m         \u001B[38;5;124m\"\u001B[39m\u001B[38;5;124mroot folder and try again.\u001B[39m\u001B[38;5;124m\"\u001B[39m)\n\u001B[0;32m--> 559\u001B[0m \u001B[38;5;28;01mreturn\u001B[39;00m \u001B[38;5;28;43mgetattr\u001B[39;49m\u001B[43m(\u001B[49m\u001B[38;5;28;43mself\u001B[39;49m\u001B[38;5;241;43m.\u001B[39;49m\u001B[43m_store\u001B[49m\u001B[43m,\u001B[49m\u001B[43m \u001B[49m\u001B[43mkey\u001B[49m\u001B[43m)\u001B[49m\n",
      "File \u001B[0;32m/opt/homebrew/Caskroom/mambaforge/base/lib/python3.10/site-packages/torch_geometric/data/storage.py:96\u001B[0m, in \u001B[0;36mBaseStorage.__getattr__\u001B[0;34m(self, key)\u001B[0m\n\u001B[1;32m     94\u001B[0m     \u001B[38;5;28;01mreturn\u001B[39;00m \u001B[38;5;28mself\u001B[39m[key]\n\u001B[1;32m     95\u001B[0m \u001B[38;5;28;01mexcept\u001B[39;00m \u001B[38;5;167;01mKeyError\u001B[39;00m:\n\u001B[0;32m---> 96\u001B[0m     \u001B[38;5;28;01mraise\u001B[39;00m \u001B[38;5;167;01mAttributeError\u001B[39;00m(\n\u001B[1;32m     97\u001B[0m         \u001B[38;5;124mf\u001B[39m\u001B[38;5;124m\"\u001B[39m\u001B[38;5;124m'\u001B[39m\u001B[38;5;132;01m{\u001B[39;00m\u001B[38;5;28mself\u001B[39m\u001B[38;5;241m.\u001B[39m\u001B[38;5;18m__class__\u001B[39m\u001B[38;5;241m.\u001B[39m\u001B[38;5;18m__name__\u001B[39m\u001B[38;5;132;01m}\u001B[39;00m\u001B[38;5;124m'\u001B[39m\u001B[38;5;124m object has no attribute \u001B[39m\u001B[38;5;124m'\u001B[39m\u001B[38;5;132;01m{\u001B[39;00mkey\u001B[38;5;132;01m}\u001B[39;00m\u001B[38;5;124m'\u001B[39m\u001B[38;5;124m\"\u001B[39m\n\u001B[1;32m     98\u001B[0m     ) \u001B[38;5;28;01mfrom\u001B[39;00m \u001B[38;5;28;01mNone\u001B[39;00m\n",
      "\u001B[0;31mAttributeError\u001B[0m: 'GlobalStorage' object has no attribute 'num_sampled_nodes'"
     ]
    }
   ],
   "execution_count": 18
  },
  {
   "metadata": {
    "ExecuteTime": {
     "end_time": "2024-02-18T11:55:26.079574Z",
     "start_time": "2024-02-18T11:55:26.077056Z"
    }
   },
   "cell_type": "code",
   "source": [
    "from torch_geometric.datasets import Reddit\n",
    "from torch_geometric.datasets import Planetoid\n",
    "from torch_geometric.loader import NeighborLoader\n"
   ],
   "id": "ab468c5bf33cc144",
   "outputs": [],
   "execution_count": 3
  },
  {
   "metadata": {
    "ExecuteTime": {
     "start_time": "2024-02-18T11:55:28.611991Z"
    }
   },
   "cell_type": "code",
   "source": [
    "dataset = Reddit('datasets')\n",
    "data = dataset[0]\n",
    "kwargs = {'batch_size': 1024, 'num_workers': 6, 'persistent_workers': True}\n",
    "loader = NeighborLoader(data, input_nodes=torch.tensor([0, 1, 2]),\n",
    "                        num_neighbors=[20, 10, 5], shuffle=True, **kwargs)"
   ],
   "id": "e43052c024e540f3",
   "outputs": [],
   "execution_count": null
  },
  {
   "metadata": {
    "ExecuteTime": {
     "end_time": "2024-02-18T11:57:00.563441Z",
     "start_time": "2024-02-18T11:57:00.433045Z"
    }
   },
   "cell_type": "code",
   "source": [
    "batch = next(iter(loader))\n",
    "batch"
   ],
   "id": "5d7871df7006bcfe",
   "outputs": [
    {
     "ename": "NameError",
     "evalue": "name 'loader' is not defined",
     "output_type": "error",
     "traceback": [
      "\u001B[0;31m---------------------------------------------------------------------------\u001B[0m",
      "\u001B[0;31mNameError\u001B[0m                                 Traceback (most recent call last)",
      "Cell \u001B[0;32mIn[1], line 1\u001B[0m\n\u001B[0;32m----> 1\u001B[0m batch \u001B[38;5;241m=\u001B[39m \u001B[38;5;28mnext\u001B[39m(\u001B[38;5;28miter\u001B[39m(\u001B[43mloader\u001B[49m))\n\u001B[1;32m      2\u001B[0m batch\n",
      "\u001B[0;31mNameError\u001B[0m: name 'loader' is not defined"
     ]
    }
   ],
   "execution_count": 1
  },
  {
   "metadata": {},
   "cell_type": "code",
   "outputs": [],
   "execution_count": null,
   "source": "",
   "id": "52295e93a968d552"
  }
 ],
 "metadata": {
  "kernelspec": {
   "display_name": "Python 3",
   "language": "python",
   "name": "python3"
  },
  "language_info": {
   "codemirror_mode": {
    "name": "ipython",
    "version": 2
   },
   "file_extension": ".py",
   "mimetype": "text/x-python",
   "name": "python",
   "nbconvert_exporter": "python",
   "pygments_lexer": "ipython2",
   "version": "2.7.6"
  }
 },
 "nbformat": 4,
 "nbformat_minor": 5
}
