{
 "cells": [
  {
   "cell_type": "code",
   "execution_count": 1,
   "id": "initial_id",
   "metadata": {
    "collapsed": true,
    "ExecuteTime": {
     "end_time": "2023-12-31T23:58:55.783048Z",
     "start_time": "2023-12-31T23:58:54.067757Z"
    }
   },
   "outputs": [],
   "source": [
    "import torch\n",
    "from torch import nn, jit"
   ]
  },
  {
   "cell_type": "code",
   "execution_count": 2,
   "outputs": [],
   "source": [
    "model = torch.compile(jit.load('model.pt'))"
   ],
   "metadata": {
    "collapsed": false,
    "ExecuteTime": {
     "end_time": "2023-12-31T23:58:56.544938Z",
     "start_time": "2023-12-31T23:58:55.863045Z"
    }
   },
   "id": "1926239be2529016"
  },
  {
   "cell_type": "code",
   "execution_count": 3,
   "outputs": [
    {
     "data": {
      "text/plain": "tensor([ 0.3717,  0.5411, -0.5248, -0.5548,  0.3313, -0.0798, -0.2566, -0.1287,\n        -0.0161, -0.7306], grad_fn=<ViewBackward0>)"
     },
     "execution_count": 3,
     "metadata": {},
     "output_type": "execute_result"
    }
   ],
   "source": [
    "model(torch.randn(10))"
   ],
   "metadata": {
    "collapsed": false,
    "ExecuteTime": {
     "end_time": "2023-12-31T23:58:57.281520Z",
     "start_time": "2023-12-31T23:58:57.185711Z"
    }
   },
   "id": "5bcdffab3e52a19f"
  },
  {
   "cell_type": "code",
   "execution_count": 4,
   "outputs": [
    {
     "data": {
      "text/plain": "OptimizedModule(\n  (_orig_mod): RecursiveScriptModule(\n    original_name=Model\n    (linear): RecursiveScriptModule(original_name=Linear)\n  )\n)"
     },
     "execution_count": 4,
     "metadata": {},
     "output_type": "execute_result"
    }
   ],
   "source": [
    "model"
   ],
   "metadata": {
    "collapsed": false,
    "ExecuteTime": {
     "end_time": "2023-12-31T23:58:58.603295Z",
     "start_time": "2023-12-31T23:58:58.588644Z"
    }
   },
   "id": "2dc96b091e8b1130"
  },
  {
   "cell_type": "code",
   "execution_count": null,
   "outputs": [],
   "source": [],
   "metadata": {
    "collapsed": false
   },
   "id": "9b24a49d9e66165d"
  }
 ],
 "metadata": {
  "kernelspec": {
   "display_name": "Python 3",
   "language": "python",
   "name": "python3"
  },
  "language_info": {
   "codemirror_mode": {
    "name": "ipython",
    "version": 2
   },
   "file_extension": ".py",
   "mimetype": "text/x-python",
   "name": "python",
   "nbconvert_exporter": "python",
   "pygments_lexer": "ipython2",
   "version": "2.7.6"
  }
 },
 "nbformat": 4,
 "nbformat_minor": 5
}
