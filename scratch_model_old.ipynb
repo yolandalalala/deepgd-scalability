{
 "cells": [
  {
   "cell_type": "code",
   "id": "initial_id",
   "metadata": {
    "collapsed": true,
    "ExecuteTime": {
     "end_time": "2024-02-04T03:37:16.297831Z",
     "start_time": "2024-02-04T03:37:16.271275Z"
    }
   },
   "outputs": [],
   "source": [
    "%load_ext autoreload\n",
    "%autoreload 2"
   ],
   "execution_count": 1
  },
  {
   "metadata": {
    "ExecuteTime": {
     "end_time": "2024-02-04T03:37:20.497807Z",
     "start_time": "2024-02-04T03:37:16.848424Z"
    }
   },
   "cell_type": "code",
   "outputs": [],
   "source": [
    "import os\n",
    "import random\n",
    "from collections import defaultdict\n",
    "\n",
    "import numpy as np\n",
    "import networkx as nx\n",
    "import torch\n",
    "import torch_geometric as pyg\n",
    "import torch_scatter\n",
    "from tqdm.auto import *\n",
    "\n",
    "from deepgd.model_old import DeepGD, Stress\n",
    "from deepgd.data import ScalableGraphData\n",
    "from deepgd.datasets import SuiteSparseDataset"
   ],
   "id": "4e729498d6f283b3",
   "execution_count": 2
  },
  {
   "metadata": {
    "ExecuteTime": {
     "end_time": "2024-02-04T03:37:20.552764Z",
     "start_time": "2024-02-04T03:37:20.499235Z"
    }
   },
   "cell_type": "code",
   "outputs": [],
   "source": [
    "device = \"cpu\"\n",
    "for backend, device_name in {\n",
    "    torch.backends.mps: \"mps\",\n",
    "    torch.cuda: \"cuda\",\n",
    "}.items():\n",
    "    if backend.is_available():\n",
    "        device = device_name"
   ],
   "id": "9b313070de047df5",
   "execution_count": 3
  },
  {
   "metadata": {
    "ExecuteTime": {
     "end_time": "2024-02-04T03:37:20.764248Z",
     "start_time": "2024-02-04T03:37:20.735159Z"
    }
   },
   "cell_type": "code",
   "outputs": [],
   "source": [
    "device = 'cpu'\n",
    "lr = 0.001\n",
    "landmarks = 20\n",
    "rand_edges = 20\n",
    "batch_size = 1"
   ],
   "id": "11081690537ddd4e",
   "execution_count": 4
  },
  {
   "metadata": {
    "ExecuteTime": {
     "end_time": "2024-02-04T03:37:26.262415Z",
     "start_time": "2024-02-04T03:37:26.190320Z"
    }
   },
   "cell_type": "code",
   "outputs": [
    {
     "data": {
      "text/plain": [
       "(574,\n",
       " tensor([162, 457,  79, 338, 478, 307, 156, 342, 167,  64, 127, 305, 138, 411,\n",
       "         521, 382, 467,  82, 181, 118,  80, 182, 423, 104, 293, 398, 119,   8,\n",
       "         140,  73, 361, 134, 391, 332, 566, 545, 531, 456, 431, 102, 269, 573,\n",
       "          90, 466, 369, 266, 330, 113, 267, 196, 229,   2, 201,  45, 537, 496,\n",
       "         328,  74, 325, 244, 387,  78, 170, 482, 281, 193, 542, 418, 285, 333,\n",
       "         321,  10, 406, 329,  14, 558,  88, 314, 356, 529, 344,   5, 427, 376,\n",
       "          31, 126, 383, 554, 108, 145, 535, 268, 351, 141, 505, 132, 180, 303,\n",
       "         327, 211, 200, 133, 380, 389,  12,  69,   7, 497, 438, 123, 473, 179,\n",
       "          34, 569, 386, 517, 448, 221, 403, 175, 352, 203, 253, 336, 164,  75,\n",
       "         508, 433, 347, 130,  38,  68, 514, 273, 270, 420, 262, 213,  43, 360,\n",
       "         107, 568, 250, 353, 552, 161, 384, 417,  52, 275, 414,  89, 358, 135,\n",
       "         248, 543, 177, 442, 254, 192, 154, 546, 272,  28, 477, 373, 488, 235,\n",
       "         219, 409, 189, 304, 337,  26, 238, 355, 495,  44, 447, 451, 190, 289,\n",
       "         455, 220,  59, 539, 498, 506,  94, 379, 111, 232, 392,  18, 339, 359,\n",
       "          29, 413, 507, 551, 286, 483, 484, 500, 207, 288, 245, 349, 242, 205,\n",
       "         136, 109, 226, 532, 208, 194, 494, 282, 297, 424, 152, 147,  60,  48,\n",
       "          53, 157, 524, 298, 279, 105, 503, 504, 306,  55,   0,  20, 308, 116,\n",
       "         144, 255, 290, 334,  50,   9, 469, 223, 148, 449, 520, 367, 103, 263,\n",
       "         492, 343, 172, 230, 341, 129, 480, 168, 284,   1,  62, 128, 571, 435,\n",
       "         474, 428, 271, 142, 261, 555,  54, 295,  92,  99, 541, 415, 240, 432,\n",
       "         390,  42, 150,  47, 231, 311, 101, 374, 472, 426, 395, 425,  61, 354,\n",
       "          70,  87, 131, 485, 257, 287, 453,   6, 185, 533, 362, 394, 570, 335,\n",
       "         550, 510, 252, 302, 198, 197, 396, 346,  36,  40, 459, 292, 371, 322,\n",
       "         416, 375, 209, 445, 222, 475, 210, 562, 400, 110, 218, 567, 236, 283,\n",
       "          21, 125, 258, 300,  85, 301, 318, 153, 280, 399, 313, 444, 233, 249,\n",
       "         471, 151,  71, 441, 491, 121, 408, 214, 486, 247, 155, 112, 345, 163,\n",
       "          63,  30, 188,  11, 393, 470, 499,  37, 176,  86, 525, 186, 557, 165,\n",
       "          23, 430, 299, 227, 512,  51,  81,  84, 357, 402, 511, 452,  19, 340,\n",
       "         309,  58,  49, 276,  46, 513, 159,  32, 139, 378, 436, 324, 274, 549,\n",
       "         316, 149,  97,  27, 239, 319, 443, 246, 439, 106, 120, 437, 264, 225,\n",
       "          56, 509, 115, 171, 178, 479, 366, 259,  96, 405, 183, 385, 528, 199,\n",
       "         481, 143, 217, 326, 114, 169, 404,  98, 538,  22, 117,  35, 422, 216,\n",
       "         501, 160, 544, 368, 317,  67, 527,  24, 241, 410, 412, 323, 372, 277,\n",
       "         519, 572, 191, 518, 202, 522, 278, 184, 365,  16, 421, 536, 315, 419,\n",
       "         100, 166, 228,  39, 493, 256, 462, 440, 556, 463, 265, 215, 534, 548,\n",
       "         350,  17, 158, 450, 137, 397, 429, 516, 407, 291, 526, 237,  72, 559,\n",
       "         146, 487, 224, 565,  33, 523, 174, 234, 173, 296, 388, 312,   4, 560,\n",
       "         195, 446,  13, 212, 461, 502, 490, 206,  76, 401,  65,   3, 364, 122,\n",
       "         381,  77, 331, 460,  15, 377, 434,  95, 251, 563, 243,  66,  91,  57,\n",
       "         564, 465, 458, 530, 547, 540, 204, 363, 320, 464, 468, 489, 348, 561,\n",
       "         515, 310, 476,  93, 294, 124, 553, 187, 454, 370,  41, 260,  83,  25]))"
      ]
     },
     "metadata": {},
     "output_type": "execute_result",
     "execution_count": 5
    }
   ],
   "source": [
    "torch.random.manual_seed(12345)\n",
    "dataset = SuiteSparseDataset(\n",
    "    min_nodes=0,\n",
    "    max_nodes=7500,\n",
    "    limit=1000,\n",
    "    datatype=ScalableGraphData,\n",
    "    datatype_args=dict(\n",
    "        device=device,\n",
    "        landmarks=20,\n",
    "        random_edges=20\n",
    "    )\n",
    ")\n",
    "shuffled_dataset, perm_idx = dataset.shuffle(return_perm=True)\n",
    "len(shuffled_dataset), perm_idx"
   ],
   "id": "f4fefa319a3941d0",
   "execution_count": 5
  },
  {
   "metadata": {
    "ExecuteTime": {
     "end_time": "2024-02-04T03:37:28.317663Z",
     "start_time": "2024-02-04T03:37:28.265770Z"
    }
   },
   "cell_type": "code",
   "outputs": [],
   "source": [
    "model = DeepGD().to(device)\n",
    "if os.path.exists(\"model.pt\"):\n",
    "    model.load_state_dict(torch.load(\"model.pt\"))"
   ],
   "id": "155f2993c6c7cd00",
   "execution_count": 6
  },
  {
   "metadata": {
    "ExecuteTime": {
     "end_time": "2024-02-04T03:37:30.872049Z",
     "start_time": "2024-02-04T03:37:30.831162Z"
    }
   },
   "cell_type": "code",
   "outputs": [],
   "source": [
    "criteria = {\n",
    "    Stress(): 1,\n",
    "    # EdgeVar(): 0,\n",
    "    # Occlusion(): 0,\n",
    "    # IncidentAngle(): 0,\n",
    "    # TSNEScore(): 0,\n",
    "}"
   ],
   "id": "16cf6a3c68430886",
   "execution_count": 7
  },
  {
   "metadata": {
    "ExecuteTime": {
     "end_time": "2024-02-04T03:37:33.747531Z",
     "start_time": "2024-02-04T03:37:33.716783Z"
    }
   },
   "cell_type": "code",
   "outputs": [],
   "source": [
    "optim = torch.optim.AdamW(model.parameters(), lr=lr)"
   ],
   "id": "64c1d683e3e9ebbc",
   "execution_count": 8
  },
  {
   "metadata": {
    "ExecuteTime": {
     "end_time": "2024-02-04T03:37:44.445781Z",
     "start_time": "2024-02-04T03:37:44.415914Z"
    }
   },
   "cell_type": "code",
   "outputs": [],
   "source": [
    "train_loader = pyg.loader.DataLoader(shuffled_dataset[:550], batch_size=batch_size, shuffle=True)\n",
    "val_loader = pyg.loader.DataLoader(shuffled_dataset[550:], batch_size=batch_size, shuffle=False)"
   ],
   "id": "a313a6729fbfefec",
   "execution_count": 9
  },
  {
   "metadata": {
    "ExecuteTime": {
     "end_time": "2024-02-04T04:42:44.225432Z",
     "start_time": "2024-02-04T03:38:54.568078Z"
    }
   },
   "cell_type": "code",
   "outputs": [
    {
     "data": {
      "text/plain": [
       "  0%|          | 0/100 [00:00<?, ?it/s]"
      ],
      "application/vnd.jupyter.widget-view+json": {
       "version_major": 2,
       "version_minor": 0,
       "model_id": "3d518c727c36451baf406166e2f2df23"
      }
     },
     "metadata": {},
     "output_type": "display_data"
    },
    {
     "data": {
      "text/plain": [
       "  0%|          | 0/550 [00:00<?, ?it/s]"
      ],
      "application/vnd.jupyter.widget-view+json": {
       "version_major": 2,
       "version_minor": 0,
       "model_id": "bc03ea1a717548b9b6e7563520667d95"
      }
     },
     "metadata": {},
     "output_type": "display_data"
    },
    {
     "name": "stdout",
     "output_type": "stream",
     "text": [
      "[Epoch 0] Train Loss:\t62538.56\n",
      "[Epoch 0] Edge Ratio:\t0.15\n",
      "[Epoch 0] Val Loss:\t61016.82\n"
     ]
    },
    {
     "data": {
      "text/plain": [
       "  0%|          | 0/550 [00:00<?, ?it/s]"
      ],
      "application/vnd.jupyter.widget-view+json": {
       "version_major": 2,
       "version_minor": 0,
       "model_id": "3bad59b3fc714ab59d2ecb8536d67346"
      }
     },
     "metadata": {},
     "output_type": "display_data"
    },
    {
     "name": "stdout",
     "output_type": "stream",
     "text": [
      "[Epoch 1] Train Loss:\t52139.35\n",
      "[Epoch 1] Edge Ratio:\t0.15\n",
      "[Epoch 1] Val Loss:\t54931.22\n"
     ]
    },
    {
     "data": {
      "text/plain": [
       "  0%|          | 0/550 [00:00<?, ?it/s]"
      ],
      "application/vnd.jupyter.widget-view+json": {
       "version_major": 2,
       "version_minor": 0,
       "model_id": "2c578bc2cfcc49268310108cc77918ff"
      }
     },
     "metadata": {},
     "output_type": "display_data"
    },
    {
     "name": "stdout",
     "output_type": "stream",
     "text": [
      "[Epoch 2] Train Loss:\t48593.96\n",
      "[Epoch 2] Edge Ratio:\t0.15\n",
      "[Epoch 2] Val Loss:\t60332.22\n"
     ]
    },
    {
     "data": {
      "text/plain": [
       "  0%|          | 0/550 [00:00<?, ?it/s]"
      ],
      "application/vnd.jupyter.widget-view+json": {
       "version_major": 2,
       "version_minor": 0,
       "model_id": "c06b0ae7e6c644299d3ee40e720e6907"
      }
     },
     "metadata": {},
     "output_type": "display_data"
    },
    {
     "ename": "KeyboardInterrupt",
     "evalue": "",
     "output_type": "error",
     "traceback": [
      "\u001B[0;31m---------------------------------------------------------------------------\u001B[0m",
      "\u001B[0;31mKeyboardInterrupt\u001B[0m                         Traceback (most recent call last)",
      "Cell \u001B[0;32mIn[10], line 11\u001B[0m\n\u001B[1;32m      9\u001B[0m \u001B[38;5;28;01mfor\u001B[39;00m c, w \u001B[38;5;129;01min\u001B[39;00m criteria\u001B[38;5;241m.\u001B[39mitems():\n\u001B[1;32m     10\u001B[0m     loss \u001B[38;5;241m+\u001B[39m\u001B[38;5;241m=\u001B[39m w \u001B[38;5;241m*\u001B[39m c(model(batch), batch)\n\u001B[0;32m---> 11\u001B[0m \u001B[43mloss\u001B[49m\u001B[38;5;241;43m.\u001B[39;49m\u001B[43mbackward\u001B[49m\u001B[43m(\u001B[49m\u001B[43m)\u001B[49m\n\u001B[1;32m     12\u001B[0m optim\u001B[38;5;241m.\u001B[39mstep()\n\u001B[1;32m     13\u001B[0m losses\u001B[38;5;241m.\u001B[39mappend(loss\u001B[38;5;241m.\u001B[39mitem())\n",
      "File \u001B[0;32m/opt/homebrew/Caskroom/mambaforge/base/lib/python3.10/site-packages/torch/_tensor.py:492\u001B[0m, in \u001B[0;36mTensor.backward\u001B[0;34m(self, gradient, retain_graph, create_graph, inputs)\u001B[0m\n\u001B[1;32m    482\u001B[0m \u001B[38;5;28;01mif\u001B[39;00m has_torch_function_unary(\u001B[38;5;28mself\u001B[39m):\n\u001B[1;32m    483\u001B[0m     \u001B[38;5;28;01mreturn\u001B[39;00m handle_torch_function(\n\u001B[1;32m    484\u001B[0m         Tensor\u001B[38;5;241m.\u001B[39mbackward,\n\u001B[1;32m    485\u001B[0m         (\u001B[38;5;28mself\u001B[39m,),\n\u001B[0;32m   (...)\u001B[0m\n\u001B[1;32m    490\u001B[0m         inputs\u001B[38;5;241m=\u001B[39minputs,\n\u001B[1;32m    491\u001B[0m     )\n\u001B[0;32m--> 492\u001B[0m \u001B[43mtorch\u001B[49m\u001B[38;5;241;43m.\u001B[39;49m\u001B[43mautograd\u001B[49m\u001B[38;5;241;43m.\u001B[39;49m\u001B[43mbackward\u001B[49m\u001B[43m(\u001B[49m\n\u001B[1;32m    493\u001B[0m \u001B[43m    \u001B[49m\u001B[38;5;28;43mself\u001B[39;49m\u001B[43m,\u001B[49m\u001B[43m \u001B[49m\u001B[43mgradient\u001B[49m\u001B[43m,\u001B[49m\u001B[43m \u001B[49m\u001B[43mretain_graph\u001B[49m\u001B[43m,\u001B[49m\u001B[43m \u001B[49m\u001B[43mcreate_graph\u001B[49m\u001B[43m,\u001B[49m\u001B[43m \u001B[49m\u001B[43minputs\u001B[49m\u001B[38;5;241;43m=\u001B[39;49m\u001B[43minputs\u001B[49m\n\u001B[1;32m    494\u001B[0m \u001B[43m\u001B[49m\u001B[43m)\u001B[49m\n",
      "File \u001B[0;32m/opt/homebrew/Caskroom/mambaforge/base/lib/python3.10/site-packages/torch/autograd/__init__.py:251\u001B[0m, in \u001B[0;36mbackward\u001B[0;34m(tensors, grad_tensors, retain_graph, create_graph, grad_variables, inputs)\u001B[0m\n\u001B[1;32m    246\u001B[0m     retain_graph \u001B[38;5;241m=\u001B[39m create_graph\n\u001B[1;32m    248\u001B[0m \u001B[38;5;66;03m# The reason we repeat the same comment below is that\u001B[39;00m\n\u001B[1;32m    249\u001B[0m \u001B[38;5;66;03m# some Python versions print out the first line of a multi-line function\u001B[39;00m\n\u001B[1;32m    250\u001B[0m \u001B[38;5;66;03m# calls in the traceback and some print out the last line\u001B[39;00m\n\u001B[0;32m--> 251\u001B[0m \u001B[43mVariable\u001B[49m\u001B[38;5;241;43m.\u001B[39;49m\u001B[43m_execution_engine\u001B[49m\u001B[38;5;241;43m.\u001B[39;49m\u001B[43mrun_backward\u001B[49m\u001B[43m(\u001B[49m\u001B[43m  \u001B[49m\u001B[38;5;66;43;03m# Calls into the C++ engine to run the backward pass\u001B[39;49;00m\n\u001B[1;32m    252\u001B[0m \u001B[43m    \u001B[49m\u001B[43mtensors\u001B[49m\u001B[43m,\u001B[49m\n\u001B[1;32m    253\u001B[0m \u001B[43m    \u001B[49m\u001B[43mgrad_tensors_\u001B[49m\u001B[43m,\u001B[49m\n\u001B[1;32m    254\u001B[0m \u001B[43m    \u001B[49m\u001B[43mretain_graph\u001B[49m\u001B[43m,\u001B[49m\n\u001B[1;32m    255\u001B[0m \u001B[43m    \u001B[49m\u001B[43mcreate_graph\u001B[49m\u001B[43m,\u001B[49m\n\u001B[1;32m    256\u001B[0m \u001B[43m    \u001B[49m\u001B[43minputs\u001B[49m\u001B[43m,\u001B[49m\n\u001B[1;32m    257\u001B[0m \u001B[43m    \u001B[49m\u001B[43mallow_unreachable\u001B[49m\u001B[38;5;241;43m=\u001B[39;49m\u001B[38;5;28;43;01mTrue\u001B[39;49;00m\u001B[43m,\u001B[49m\n\u001B[1;32m    258\u001B[0m \u001B[43m    \u001B[49m\u001B[43maccumulate_grad\u001B[49m\u001B[38;5;241;43m=\u001B[39;49m\u001B[38;5;28;43;01mTrue\u001B[39;49;00m\u001B[43m,\u001B[49m\n\u001B[1;32m    259\u001B[0m \u001B[43m\u001B[49m\u001B[43m)\u001B[49m\n",
      "\u001B[0;31mKeyboardInterrupt\u001B[0m: "
     ]
    }
   ],
   "source": [
    "for epoch in trange(100):\n",
    "    model.train()\n",
    "    losses = []\n",
    "    edge_ratios = []\n",
    "    for batch in tqdm(train_loader, disable=False):\n",
    "        batch = batch.to(device)\n",
    "        model.zero_grad()\n",
    "        loss = 0\n",
    "        for c, w in criteria.items():\n",
    "            loss += w * c(model(batch), batch)\n",
    "        loss.backward()\n",
    "        optim.step()\n",
    "        losses.append(loss.item())\n",
    "        edge_ratios.append((batch.edge_attr.shape[0] / (batch.n * (batch.n - 1)).sum()).item())\n",
    "    print(f'[Epoch {epoch}] Train Loss:\\t{np.mean(losses):.2f}')\n",
    "    print(f'[Epoch {epoch}] Edge Ratio:\\t{np.mean(edge_ratios):.2f}')\n",
    "    with torch.no_grad():\n",
    "        model.train()\n",
    "        losses = []\n",
    "        for batch in tqdm(val_loader, disable=True):\n",
    "            batch = batch.to(device)\n",
    "            loss = 0\n",
    "            for c, w in criteria.items():\n",
    "                loss += w * c(model(batch), batch)\n",
    "            losses.append(loss.item())\n",
    "        print(f'[Epoch {epoch}] Val Loss:\\t{np.mean(losses):.2f}')\n",
    "    torch.save(model.state_dict(), \"model.pt\")"
   ],
   "id": "2671df742b023f15",
   "execution_count": 10
  },
  {
   "metadata": {},
   "cell_type": "code",
   "outputs": [],
   "source": [],
   "id": "385f4493ee3fa498"
  }
 ],
 "metadata": {
  "kernelspec": {
   "display_name": "Python 3",
   "language": "python",
   "name": "python3"
  },
  "language_info": {
   "codemirror_mode": {
    "name": "ipython",
    "version": 2
   },
   "file_extension": ".py",
   "mimetype": "text/x-python",
   "name": "python",
   "nbconvert_exporter": "python",
   "pygments_lexer": "ipython2",
   "version": "2.7.6"
  }
 },
 "nbformat": 4,
 "nbformat_minor": 5
}
