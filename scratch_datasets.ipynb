{
 "cells": [
  {
   "cell_type": "code",
   "id": "initial_id",
   "metadata": {
    "collapsed": true,
    "ExecuteTime": {
     "end_time": "2024-02-22T12:38:43.399534Z",
     "start_time": "2024-02-22T12:38:43.381096Z"
    }
   },
   "source": [
    "%load_ext autoreload\n",
    "%autoreload 2"
   ],
   "outputs": [],
   "execution_count": 1
  },
  {
   "metadata": {
    "ExecuteTime": {
     "end_time": "2024-02-22T12:38:46.754416Z",
     "start_time": "2024-02-22T12:38:44.643075Z"
    }
   },
   "cell_type": "code",
   "source": [
    "from deepgd.datasets import SuiteSparseDataset, RomeDataset\n",
    "from deepgd.data import ScalableGraphDataUniformSample, ScalableGraphDataExponentialSample, DenseGraphData"
   ],
   "id": "832cd5814ad9a079",
   "outputs": [],
   "execution_count": 2
  },
  {
   "metadata": {
    "ExecuteTime": {
     "end_time": "2024-02-22T12:38:46.778165Z",
     "start_time": "2024-02-22T12:38:46.755640Z"
    }
   },
   "cell_type": "code",
   "source": [
    "device = 'cpu'"
   ],
   "id": "6d6497bbb991f240",
   "outputs": [],
   "execution_count": 3
  },
  {
   "metadata": {
    "ExecuteTime": {
     "end_time": "2024-02-22T13:26:28.567969Z",
     "start_time": "2024-02-22T12:38:47.166692Z"
    }
   },
   "cell_type": "code",
   "source": [
    "dataset = SuiteSparseDataset(\n",
    "    min_nodes=0,\n",
    "    max_nodes=7500,\n",
    "    limit=10000,\n",
    "    datatype=ScalableGraphDataUniformSample,\n",
    "    datatype_args=dict(\n",
    "        device=device,\n",
    "        landmarks=10,\n",
    "        random_edges=10\n",
    "    )\n",
    ")"
   ],
   "id": "6d04c92131238fe5",
   "outputs": [
    {
     "data": {
      "text/plain": [
       "spiral:   0%|          | 0/13708351 [00:00<?, ?B/s]"
      ],
      "application/vnd.jupyter.widget-view+json": {
       "version_major": 2,
       "version_minor": 0,
       "model_id": "d54e054f7de342eca336ed853ef684d5"
      }
     },
     "metadata": {},
     "output_type": "display_data"
    },
    {
     "data": {
      "text/plain": [
       "t2dal_bci:   0%|          | 0/198981 [00:00<?, ?B/s]"
      ],
      "application/vnd.jupyter.widget-view+json": {
       "version_major": 2,
       "version_minor": 0,
       "model_id": "f9fd7da867364474a1ff3ec625f293a4"
      }
     },
     "metadata": {},
     "output_type": "display_data"
    },
    {
     "data": {
      "text/plain": [
       "t2dal:   0%|          | 0/196178 [00:00<?, ?B/s]"
      ],
      "application/vnd.jupyter.widget-view+json": {
       "version_major": 2,
       "version_minor": 0,
       "model_id": "ca69755fa0564c0c81e91068e3f28b92"
      }
     },
     "metadata": {},
     "output_type": "display_data"
    },
    {
     "data": {
      "text/plain": [
       "EPA:   0%|          | 0/83915 [00:00<?, ?B/s]"
      ],
      "application/vnd.jupyter.widget-view+json": {
       "version_major": 2,
       "version_minor": 0,
       "model_id": "d017dc0263024ecf8e58bb305a0a6be4"
      }
     },
     "metadata": {},
     "output_type": "display_data"
    },
    {
     "data": {
      "text/plain": [
       "Erdos02:   0%|          | 0/79470 [00:00<?, ?B/s]"
      ],
      "application/vnd.jupyter.widget-view+json": {
       "version_major": 2,
       "version_minor": 0,
       "model_id": "df07c42aca1143e29a1c8314b54132ff"
      }
     },
     "metadata": {},
     "output_type": "display_data"
    },
    {
     "data": {
      "text/plain": [
       "Erdos971:   0%|          | 0/8865 [00:00<?, ?B/s]"
      ],
      "application/vnd.jupyter.widget-view+json": {
       "version_major": 2,
       "version_minor": 0,
       "model_id": "a9649ee4fa3440ddaa47890f778ef746"
      }
     },
     "metadata": {},
     "output_type": "display_data"
    },
    {
     "data": {
      "text/plain": [
       "Erdos972:   0%|          | 0/63844 [00:00<?, ?B/s]"
      ],
      "application/vnd.jupyter.widget-view+json": {
       "version_major": 2,
       "version_minor": 0,
       "model_id": "7620a7ff35f94cfd9ee3b28425810946"
      }
     },
     "metadata": {},
     "output_type": "display_data"
    },
    {
     "data": {
      "text/plain": [
       "Erdos981:   0%|          | 0/9120 [00:00<?, ?B/s]"
      ],
      "application/vnd.jupyter.widget-view+json": {
       "version_major": 2,
       "version_minor": 0,
       "model_id": "df160b743a324683959faf6e1c3f230a"
      }
     },
     "metadata": {},
     "output_type": "display_data"
    },
    {
     "data": {
      "text/plain": [
       "Erdos982:   0%|          | 0/68036 [00:00<?, ?B/s]"
      ],
      "application/vnd.jupyter.widget-view+json": {
       "version_major": 2,
       "version_minor": 0,
       "model_id": "3d466ec932964855b8368322f6f4b74b"
      }
     },
     "metadata": {},
     "output_type": "display_data"
    },
    {
     "data": {
      "text/plain": [
       "Erdos991:   0%|          | 0/9224 [00:00<?, ?B/s]"
      ],
      "application/vnd.jupyter.widget-view+json": {
       "version_major": 2,
       "version_minor": 0,
       "model_id": "5eddfaf5337147819246c5d5c555865b"
      }
     },
     "metadata": {},
     "output_type": "display_data"
    },
    {
     "data": {
      "text/plain": [
       "Erdos992:   0%|          | 0/70491 [00:00<?, ?B/s]"
      ],
      "application/vnd.jupyter.widget-view+json": {
       "version_major": 2,
       "version_minor": 0,
       "model_id": "c903361e62f1442cb5e757c6a9c03953"
      }
     },
     "metadata": {},
     "output_type": "display_data"
    },
    {
     "data": {
      "text/plain": [
       "GD00_c:   0%|          | 0/10584 [00:00<?, ?B/s]"
      ],
      "application/vnd.jupyter.widget-view+json": {
       "version_major": 2,
       "version_minor": 0,
       "model_id": "15b6a3f867b24ccbb37202d983ddb7d0"
      }
     },
     "metadata": {},
     "output_type": "display_data"
    },
    {
     "data": {
      "text/plain": [
       "GD01_a:   0%|          | 0/6206 [00:00<?, ?B/s]"
      ],
      "application/vnd.jupyter.widget-view+json": {
       "version_major": 2,
       "version_minor": 0,
       "model_id": "4c076d257f534be1987f19bf7f8cff89"
      }
     },
     "metadata": {},
     "output_type": "display_data"
    },
    {
     "data": {
      "text/plain": [
       "GD01_Acap:   0%|          | 0/7082 [00:00<?, ?B/s]"
      ],
      "application/vnd.jupyter.widget-view+json": {
       "version_major": 2,
       "version_minor": 0,
       "model_id": "15327640941e401a993e0e0728a2e733"
      }
     },
     "metadata": {},
     "output_type": "display_data"
    },
    {
     "data": {
      "text/plain": [
       "GD01_b:   0%|          | 0/987 [00:00<?, ?B/s]"
      ],
      "application/vnd.jupyter.widget-view+json": {
       "version_major": 2,
       "version_minor": 0,
       "model_id": "fae81d39c1de4795a3796debd8792816"
      }
     },
     "metadata": {},
     "output_type": "display_data"
    },
    {
     "data": {
      "text/plain": [
       "GD02_a:   0%|          | 0/1288 [00:00<?, ?B/s]"
      ],
      "application/vnd.jupyter.widget-view+json": {
       "version_major": 2,
       "version_minor": 0,
       "model_id": "9cb0e1dda0e54cc983f39e1dcb4ae03c"
      }
     },
     "metadata": {},
     "output_type": "display_data"
    },
    {
     "data": {
      "text/plain": [
       "GD06_Java:   0%|          | 0/30964 [00:00<?, ?B/s]"
      ],
      "application/vnd.jupyter.widget-view+json": {
       "version_major": 2,
       "version_minor": 0,
       "model_id": "770908b129aa461a96059b9e19e6ce87"
      }
     },
     "metadata": {},
     "output_type": "display_data"
    },
    {
     "data": {
      "text/plain": [
       "GD06_theory:   0%|          | 0/1032 [00:00<?, ?B/s]"
      ],
      "application/vnd.jupyter.widget-view+json": {
       "version_major": 2,
       "version_minor": 0,
       "model_id": "1561f1ac4a6a458099398cf26eedc5f4"
      }
     },
     "metadata": {},
     "output_type": "display_data"
    },
    {
     "data": {
      "text/plain": [
       "GD95_a:   0%|          | 0/1141 [00:00<?, ?B/s]"
      ],
      "application/vnd.jupyter.widget-view+json": {
       "version_major": 2,
       "version_minor": 0,
       "model_id": "781c60b1d1b1435d9250c9ca2323c539"
      }
     },
     "metadata": {},
     "output_type": "display_data"
    },
    {
     "data": {
      "text/plain": [
       "GD95_c:   0%|          | 0/1524 [00:00<?, ?B/s]"
      ],
      "application/vnd.jupyter.widget-view+json": {
       "version_major": 2,
       "version_minor": 0,
       "model_id": "fe665486bfe44aaf9f01a513b4f84bea"
      }
     },
     "metadata": {},
     "output_type": "display_data"
    },
    {
     "data": {
      "text/plain": [
       "GD96_c:   0%|          | 0/1309 [00:00<?, ?B/s]"
      ],
      "application/vnd.jupyter.widget-view+json": {
       "version_major": 2,
       "version_minor": 0,
       "model_id": "2af96fc8dfba4f3e84ae3464d089640b"
      }
     },
     "metadata": {},
     "output_type": "display_data"
    },
    {
     "data": {
      "text/plain": [
       "GD96_d:   0%|          | 0/3602 [00:00<?, ?B/s]"
      ],
      "application/vnd.jupyter.widget-view+json": {
       "version_major": 2,
       "version_minor": 0,
       "model_id": "bf11f6cbf99241ca801a9ad3c8ddc222"
      }
     },
     "metadata": {},
     "output_type": "display_data"
    },
    {
     "data": {
      "text/plain": [
       "GD97_a:   0%|          | 0/1600 [00:00<?, ?B/s]"
      ],
      "application/vnd.jupyter.widget-view+json": {
       "version_major": 2,
       "version_minor": 0,
       "model_id": "db0f45990b8b455c96a51c0fd1db9bf3"
      }
     },
     "metadata": {},
     "output_type": "display_data"
    },
    {
     "data": {
      "text/plain": [
       "GD97_b:   0%|          | 0/2573 [00:00<?, ?B/s]"
      ],
      "application/vnd.jupyter.widget-view+json": {
       "version_major": 2,
       "version_minor": 0,
       "model_id": "7963834e16d34a00b26e017f4cd0f646"
      }
     },
     "metadata": {},
     "output_type": "display_data"
    },
    {
     "data": {
      "text/plain": [
       "GD98_a:   0%|          | 0/1300 [00:00<?, ?B/s]"
      ],
      "application/vnd.jupyter.widget-view+json": {
       "version_major": 2,
       "version_minor": 0,
       "model_id": "4d8e4d9db1e44560b0f1a439fd0d9918"
      }
     },
     "metadata": {},
     "output_type": "display_data"
    },
    {
     "data": {
      "text/plain": [
       "GD98_b:   0%|          | 0/2160 [00:00<?, ?B/s]"
      ],
      "application/vnd.jupyter.widget-view+json": {
       "version_major": 2,
       "version_minor": 0,
       "model_id": "98cb06216d1c42f892f344bd1647fea8"
      }
     },
     "metadata": {},
     "output_type": "display_data"
    },
    {
     "data": {
      "text/plain": [
       "GD98_c:   0%|          | 0/1780 [00:00<?, ?B/s]"
      ],
      "application/vnd.jupyter.widget-view+json": {
       "version_major": 2,
       "version_minor": 0,
       "model_id": "64b4999fdabe45a385b89564903bc882"
      }
     },
     "metadata": {},
     "output_type": "display_data"
    },
    {
     "data": {
      "text/plain": [
       "GD99_b:   0%|          | 0/1519 [00:00<?, ?B/s]"
      ],
      "application/vnd.jupyter.widget-view+json": {
       "version_major": 2,
       "version_minor": 0,
       "model_id": "0a5f9ff2bef44bb2897e7f96ead57ae0"
      }
     },
     "metadata": {},
     "output_type": "display_data"
    },
    {
     "data": {
      "text/plain": [
       "GD99_c:   0%|          | 0/2064 [00:00<?, ?B/s]"
      ],
      "application/vnd.jupyter.widget-view+json": {
       "version_major": 2,
       "version_minor": 0,
       "model_id": "af513922900945f7b9f1ff650a04dbb4"
      }
     },
     "metadata": {},
     "output_type": "display_data"
    },
    {
     "data": {
      "text/plain": [
       "geom:   0%|          | 0/96238 [00:00<?, ?B/s]"
      ],
      "application/vnd.jupyter.widget-view+json": {
       "version_major": 2,
       "version_minor": 0,
       "model_id": "ff1f5df2928a45099f82916ac1036665"
      }
     },
     "metadata": {},
     "output_type": "display_data"
    },
    {
     "data": {
      "text/plain": [
       "GlossGT:   0%|          | 0/1949 [00:00<?, ?B/s]"
      ],
      "application/vnd.jupyter.widget-view+json": {
       "version_major": 2,
       "version_minor": 0,
       "model_id": "7b809544f2614fa691e8485e66c803d8"
      }
     },
     "metadata": {},
     "output_type": "display_data"
    },
    {
     "data": {
      "text/plain": [
       "Journals:   0%|          | 0/22837 [00:00<?, ?B/s]"
      ],
      "application/vnd.jupyter.widget-view+json": {
       "version_major": 2,
       "version_minor": 0,
       "model_id": "8e56b41ba4724bdcaaa9a5f9e9c6da08"
      }
     },
     "metadata": {},
     "output_type": "display_data"
    },
    {
     "data": {
      "text/plain": [
       "Kohonen:   0%|          | 0/67446 [00:00<?, ?B/s]"
      ],
      "application/vnd.jupyter.widget-view+json": {
       "version_major": 2,
       "version_minor": 0,
       "model_id": "abe2793d83d745febfb9518e152a68d7"
      }
     },
     "metadata": {},
     "output_type": "display_data"
    },
    {
     "data": {
      "text/plain": [
       "NotreDame_yeast:   0%|          | 0/8601 [00:00<?, ?B/s]"
      ],
      "application/vnd.jupyter.widget-view+json": {
       "version_major": 2,
       "version_minor": 0,
       "model_id": "12f2f9db818246aaa267ba5bb0d9a889"
      }
     },
     "metadata": {},
     "output_type": "display_data"
    },
    {
     "data": {
      "text/plain": [
       "ODLIS:   0%|          | 0/72460 [00:00<?, ?B/s]"
      ],
      "application/vnd.jupyter.widget-view+json": {
       "version_major": 2,
       "version_minor": 0,
       "model_id": "a2dbfe515d164ed284b0080427d0d031"
      }
     },
     "metadata": {},
     "output_type": "display_data"
    },
    {
     "data": {
      "text/plain": [
       "Ragusa16:   0%|          | 0/1161 [00:00<?, ?B/s]"
      ],
      "application/vnd.jupyter.widget-view+json": {
       "version_major": 2,
       "version_minor": 0,
       "model_id": "4e4fa8b267194125b3f26f08302f102f"
      }
     },
     "metadata": {},
     "output_type": "display_data"
    },
    {
     "data": {
      "text/plain": [
       "Ragusa18:   0%|          | 0/1095 [00:00<?, ?B/s]"
      ],
      "application/vnd.jupyter.widget-view+json": {
       "version_major": 2,
       "version_minor": 0,
       "model_id": "ca39832cef1e4ef9b7ddd57fd5cdb0f3"
      }
     },
     "metadata": {},
     "output_type": "display_data"
    },
    {
     "data": {
      "text/plain": [
       "Roget:   0%|          | 0/19429 [00:00<?, ?B/s]"
      ],
      "application/vnd.jupyter.widget-view+json": {
       "version_major": 2,
       "version_minor": 0,
       "model_id": "e57406f9fb844d74853b6797969817c2"
      }
     },
     "metadata": {},
     "output_type": "display_data"
    },
    {
     "data": {
      "text/plain": [
       "Sandi_authors:   0%|          | 0/1979 [00:00<?, ?B/s]"
      ],
      "application/vnd.jupyter.widget-view+json": {
       "version_major": 2,
       "version_minor": 0,
       "model_id": "330efb13974945e7ba4d5dbe3912a44d"
      }
     },
     "metadata": {},
     "output_type": "display_data"
    },
    {
     "data": {
      "text/plain": [
       "SciMet:   0%|          | 0/50965 [00:00<?, ?B/s]"
      ],
      "application/vnd.jupyter.widget-view+json": {
       "version_major": 2,
       "version_minor": 0,
       "model_id": "e0426a74df204d4c96449d8fd1a76272"
      }
     },
     "metadata": {},
     "output_type": "display_data"
    },
    {
     "data": {
      "text/plain": [
       "SmaGri:   0%|          | 0/21472 [00:00<?, ?B/s]"
      ],
      "application/vnd.jupyter.widget-view+json": {
       "version_major": 2,
       "version_minor": 0,
       "model_id": "b56441335d594b8b82f10419f1594850"
      }
     },
     "metadata": {},
     "output_type": "display_data"
    },
    {
     "data": {
      "text/plain": [
       "Stranke94:   0%|          | 0/1310 [00:00<?, ?B/s]"
      ],
      "application/vnd.jupyter.widget-view+json": {
       "version_major": 2,
       "version_minor": 0,
       "model_id": "041579401a2e4ede9a1edc8067c420f0"
      }
     },
     "metadata": {},
     "output_type": "display_data"
    },
    {
     "data": {
      "text/plain": [
       "Tina_AskCal:   0%|          | 0/752 [00:00<?, ?B/s]"
      ],
      "application/vnd.jupyter.widget-view+json": {
       "version_major": 2,
       "version_minor": 0,
       "model_id": "4f9a8aa7c0884350a1afcadcc9875e01"
      }
     },
     "metadata": {},
     "output_type": "display_data"
    },
    {
     "data": {
      "text/plain": [
       "Tina_AskCog:   0%|          | 0/770 [00:00<?, ?B/s]"
      ],
      "application/vnd.jupyter.widget-view+json": {
       "version_major": 2,
       "version_minor": 0,
       "model_id": "1647b64af655411b931813470fc8bba2"
      }
     },
     "metadata": {},
     "output_type": "display_data"
    },
    {
     "data": {
      "text/plain": [
       "Tina_DisCal:   0%|          | 0/907 [00:00<?, ?B/s]"
      ],
      "application/vnd.jupyter.widget-view+json": {
       "version_major": 2,
       "version_minor": 0,
       "model_id": "021cb84b58784d929bb445e2cf2f73b9"
      }
     },
     "metadata": {},
     "output_type": "display_data"
    },
    {
     "data": {
      "text/plain": [
       "Tina_DisCog:   0%|          | 0/785 [00:00<?, ?B/s]"
      ],
      "application/vnd.jupyter.widget-view+json": {
       "version_major": 2,
       "version_minor": 0,
       "model_id": "74f386b0e1a24412be1e0d48948a7dcd"
      }
     },
     "metadata": {},
     "output_type": "display_data"
    },
    {
     "data": {
      "text/plain": [
       "USAir97:   0%|          | 0/16041 [00:00<?, ?B/s]"
      ],
      "application/vnd.jupyter.widget-view+json": {
       "version_major": 2,
       "version_minor": 0,
       "model_id": "988c8dda62b243f5a2b534fa51fe3aa5"
      }
     },
     "metadata": {},
     "output_type": "display_data"
    },
    {
     "data": {
      "text/plain": [
       "USpowerGrid:   0%|          | 0/23601 [00:00<?, ?B/s]"
      ],
      "application/vnd.jupyter.widget-view+json": {
       "version_major": 2,
       "version_minor": 0,
       "model_id": "95dcc1c4f53b4a07ba7a8354132ca49a"
      }
     },
     "metadata": {},
     "output_type": "display_data"
    },
    {
     "data": {
      "text/plain": [
       "yeast:   0%|          | 0/55790 [00:00<?, ?B/s]"
      ],
      "application/vnd.jupyter.widget-view+json": {
       "version_major": 2,
       "version_minor": 0,
       "model_id": "332b796779844c39aef42b2cf7362617"
      }
     },
     "metadata": {},
     "output_type": "display_data"
    },
    {
     "data": {
      "text/plain": [
       "Zewail:   0%|          | 0/209623 [00:00<?, ?B/s]"
      ],
      "application/vnd.jupyter.widget-view+json": {
       "version_major": 2,
       "version_minor": 0,
       "model_id": "26fa3519df97454986478d888eb55539"
      }
     },
     "metadata": {},
     "output_type": "display_data"
    },
    {
     "data": {
      "text/plain": [
       "extr1b:   0%|          | 0/3568743 [00:00<?, ?B/s]"
      ],
      "application/vnd.jupyter.widget-view+json": {
       "version_major": 2,
       "version_minor": 0,
       "model_id": "25f9ba560c5d4cb6ae8a754bb1c7d3d6"
      }
     },
     "metadata": {},
     "output_type": "display_data"
    },
    {
     "data": {
      "text/plain": [
       "hydr1c:   0%|          | 0/13405515 [00:00<?, ?B/s]"
      ],
      "application/vnd.jupyter.widget-view+json": {
       "version_major": 2,
       "version_minor": 0,
       "model_id": "39945a559a3c46b5b9c397d8ff184ab1"
      }
     },
     "metadata": {},
     "output_type": "display_data"
    },
    {
     "data": {
      "text/plain": [
       "c-18:   0%|          | 0/80682 [00:00<?, ?B/s]"
      ],
      "application/vnd.jupyter.widget-view+json": {
       "version_major": 2,
       "version_minor": 0,
       "model_id": "539632b9cc574e79bfee95ab59fab219"
      }
     },
     "metadata": {},
     "output_type": "display_data"
    },
    {
     "data": {
      "text/plain": [
       "c-19:   0%|          | 0/115333 [00:00<?, ?B/s]"
      ],
      "application/vnd.jupyter.widget-view+json": {
       "version_major": 2,
       "version_minor": 0,
       "model_id": "6e937dc732ce47e38a326fc95cda15b6"
      }
     },
     "metadata": {},
     "output_type": "display_data"
    },
    {
     "data": {
      "text/plain": [
       "c-20:   0%|          | 0/105055 [00:00<?, ?B/s]"
      ],
      "application/vnd.jupyter.widget-view+json": {
       "version_major": 2,
       "version_minor": 0,
       "model_id": "acd464e19602466dac503312793c7626"
      }
     },
     "metadata": {},
     "output_type": "display_data"
    },
    {
     "data": {
      "text/plain": [
       "c-21:   0%|          | 0/166031 [00:00<?, ?B/s]"
      ],
      "application/vnd.jupyter.widget-view+json": {
       "version_major": 2,
       "version_minor": 0,
       "model_id": "5345ba7d1402451ba8a5a89800858527"
      }
     },
     "metadata": {},
     "output_type": "display_data"
    },
    {
     "data": {
      "text/plain": [
       "c-22:   0%|          | 0/147548 [00:00<?, ?B/s]"
      ],
      "application/vnd.jupyter.widget-view+json": {
       "version_major": 2,
       "version_minor": 0,
       "model_id": "e774c8f5dc8a42d9b900ba58bb1a0fc2"
      }
     },
     "metadata": {},
     "output_type": "display_data"
    },
    {
     "data": {
      "text/plain": [
       "c-23:   0%|          | 0/163296 [00:00<?, ?B/s]"
      ],
      "application/vnd.jupyter.widget-view+json": {
       "version_major": 2,
       "version_minor": 0,
       "model_id": "2a2be20859a64873ae2f15e09556b7c9"
      }
     },
     "metadata": {},
     "output_type": "display_data"
    },
    {
     "data": {
      "text/plain": [
       "c-24:   0%|          | 0/169386 [00:00<?, ?B/s]"
      ],
      "application/vnd.jupyter.widget-view+json": {
       "version_major": 2,
       "version_minor": 0,
       "model_id": "5500c81cf00e41b498b144bbfc85de8f"
      }
     },
     "metadata": {},
     "output_type": "display_data"
    },
    {
     "data": {
      "text/plain": [
       "c-25:   0%|          | 0/212377 [00:00<?, ?B/s]"
      ],
      "application/vnd.jupyter.widget-view+json": {
       "version_major": 2,
       "version_minor": 0,
       "model_id": "584a69567d7f44498051959693b56a2d"
      }
     },
     "metadata": {},
     "output_type": "display_data"
    },
    {
     "data": {
      "text/plain": [
       "c-26:   0%|          | 0/184860 [00:00<?, ?B/s]"
      ],
      "application/vnd.jupyter.widget-view+json": {
       "version_major": 2,
       "version_minor": 0,
       "model_id": "7068e05f3f124303802a446eb21f35d2"
      }
     },
     "metadata": {},
     "output_type": "display_data"
    },
    {
     "data": {
      "text/plain": [
       "c-27:   0%|          | 0/166420 [00:00<?, ?B/s]"
      ],
      "application/vnd.jupyter.widget-view+json": {
       "version_major": 2,
       "version_minor": 0,
       "model_id": "5780661b245b48cda6b16c404e03285f"
      }
     },
     "metadata": {},
     "output_type": "display_data"
    },
    {
     "data": {
      "text/plain": [
       "c-28:   0%|          | 0/166342 [00:00<?, ?B/s]"
      ],
      "application/vnd.jupyter.widget-view+json": {
       "version_major": 2,
       "version_minor": 0,
       "model_id": "bccd8b5c9f7848179803ff279e47c95f"
      }
     },
     "metadata": {},
     "output_type": "display_data"
    },
    {
     "data": {
      "text/plain": [
       "c-29:   0%|          | 0/217782 [00:00<?, ?B/s]"
      ],
      "application/vnd.jupyter.widget-view+json": {
       "version_major": 2,
       "version_minor": 0,
       "model_id": "b44c880471414baabc09370b8f4b8bf9"
      }
     },
     "metadata": {},
     "output_type": "display_data"
    },
    {
     "data": {
      "text/plain": [
       "c-30:   0%|          | 0/194065 [00:00<?, ?B/s]"
      ],
      "application/vnd.jupyter.widget-view+json": {
       "version_major": 2,
       "version_minor": 0,
       "model_id": "4914c2afbf234a59acab39f99eedc755"
      }
     },
     "metadata": {},
     "output_type": "display_data"
    },
    {
     "data": {
      "text/plain": [
       "c-31:   0%|          | 0/337270 [00:00<?, ?B/s]"
      ],
      "application/vnd.jupyter.widget-view+json": {
       "version_major": 2,
       "version_minor": 0,
       "model_id": "fa265f697b564f34a17c97f903e71400"
      }
     },
     "metadata": {},
     "output_type": "display_data"
    },
    {
     "data": {
      "text/plain": [
       "c-32:   0%|          | 0/203507 [00:00<?, ?B/s]"
      ],
      "application/vnd.jupyter.widget-view+json": {
       "version_major": 2,
       "version_minor": 0,
       "model_id": "7971a885e4b94a4da17b233a7f49e1e2"
      }
     },
     "metadata": {},
     "output_type": "display_data"
    },
    {
     "data": {
      "text/plain": [
       "c-33:   0%|          | 0/231431 [00:00<?, ?B/s]"
      ],
      "application/vnd.jupyter.widget-view+json": {
       "version_major": 2,
       "version_minor": 0,
       "model_id": "f565c4e68325426c932f5b6bd39c31af"
      }
     },
     "metadata": {},
     "output_type": "display_data"
    },
    {
     "data": {
      "text/plain": [
       "c-34:   0%|          | 0/305036 [00:00<?, ?B/s]"
      ],
      "application/vnd.jupyter.widget-view+json": {
       "version_major": 2,
       "version_minor": 0,
       "model_id": "decc9b656e8347cd88f22012df553eba"
      }
     },
     "metadata": {},
     "output_type": "display_data"
    },
    {
     "data": {
      "text/plain": [
       "c-35:   0%|          | 0/322989 [00:00<?, ?B/s]"
      ],
      "application/vnd.jupyter.widget-view+json": {
       "version_major": 2,
       "version_minor": 0,
       "model_id": "88c8107ab534459fac9ea32958c68222"
      }
     },
     "metadata": {},
     "output_type": "display_data"
    },
    {
     "data": {
      "text/plain": [
       "c-36:   0%|          | 0/286679 [00:00<?, ?B/s]"
      ],
      "application/vnd.jupyter.widget-view+json": {
       "version_major": 2,
       "version_minor": 0,
       "model_id": "aeaae6e536a64d95bd2cb02a02ab47f3"
      }
     },
     "metadata": {},
     "output_type": "display_data"
    },
    {
     "data": {
      "text/plain": [
       "conf5_0-4x4-10:   0%|          | 0/942602 [00:00<?, ?B/s]"
      ],
      "application/vnd.jupyter.widget-view+json": {
       "version_major": 2,
       "version_minor": 0,
       "model_id": "ce03b44a816d478aa1d5fb4d89fca3ae"
      }
     },
     "metadata": {},
     "output_type": "display_data"
    },
    {
     "data": {
      "text/plain": [
       "conf5_0-4x4-14:   0%|          | 0/942379 [00:00<?, ?B/s]"
      ],
      "application/vnd.jupyter.widget-view+json": {
       "version_major": 2,
       "version_minor": 0,
       "model_id": "b6192b4c59a94c2bb2c242c82a70131b"
      }
     },
     "metadata": {},
     "output_type": "display_data"
    },
    {
     "data": {
      "text/plain": [
       "conf5_0-4x4-18:   0%|          | 0/943220 [00:00<?, ?B/s]"
      ],
      "application/vnd.jupyter.widget-view+json": {
       "version_major": 2,
       "version_minor": 0,
       "model_id": "b068f970e10b44499f0555fdde7bd013"
      }
     },
     "metadata": {},
     "output_type": "display_data"
    },
    {
     "data": {
      "text/plain": [
       "conf5_0-4x4-22:   0%|          | 0/942878 [00:00<?, ?B/s]"
      ],
      "application/vnd.jupyter.widget-view+json": {
       "version_major": 2,
       "version_minor": 0,
       "model_id": "08602e5a038c4c0c8db705c5e35d095c"
      }
     },
     "metadata": {},
     "output_type": "display_data"
    },
    {
     "data": {
      "text/plain": [
       "conf5_0-4x4-26:   0%|          | 0/942558 [00:00<?, ?B/s]"
      ],
      "application/vnd.jupyter.widget-view+json": {
       "version_major": 2,
       "version_minor": 0,
       "model_id": "690e2dd0037241059c15f4aaee50f541"
      }
     },
     "metadata": {},
     "output_type": "display_data"
    },
    {
     "data": {
      "text/plain": [
       "conf6_0-4x4-20:   0%|          | 0/942657 [00:00<?, ?B/s]"
      ],
      "application/vnd.jupyter.widget-view+json": {
       "version_major": 2,
       "version_minor": 0,
       "model_id": "2430e9de41b0496dbe928aacd74da6d3"
      }
     },
     "metadata": {},
     "output_type": "display_data"
    },
    {
     "data": {
      "text/plain": [
       "conf6_0-4x4-30:   0%|          | 0/943064 [00:00<?, ?B/s]"
      ],
      "application/vnd.jupyter.widget-view+json": {
       "version_major": 2,
       "version_minor": 0,
       "model_id": "9b0f87fa2ac445d6b04c07e7764e976c"
      }
     },
     "metadata": {},
     "output_type": "display_data"
    },
    {
     "data": {
      "text/plain": [
       "s1rmq4m1:   0%|          | 0/1100252 [00:00<?, ?B/s]"
      ],
      "application/vnd.jupyter.widget-view+json": {
       "version_major": 2,
       "version_minor": 0,
       "model_id": "589eb6ece3b74786a04974e339641333"
      }
     },
     "metadata": {},
     "output_type": "display_data"
    },
    {
     "data": {
      "text/plain": [
       "s2rmq4m1:   0%|          | 0/1126748 [00:00<?, ?B/s]"
      ],
      "application/vnd.jupyter.widget-view+json": {
       "version_major": 2,
       "version_minor": 0,
       "model_id": "fec33e3c8a3c440894fed43ffccc6fe4"
      }
     },
     "metadata": {},
     "output_type": "display_data"
    },
    {
     "data": {
      "text/plain": [
       "s3rmq4m1:   0%|          | 0/1159453 [00:00<?, ?B/s]"
      ],
      "application/vnd.jupyter.widget-view+json": {
       "version_major": 2,
       "version_minor": 0,
       "model_id": "b1906964e48a4adc849ef8c940b7deb7"
      }
     },
     "metadata": {},
     "output_type": "display_data"
    },
    {
     "data": {
      "text/plain": [
       "s1rmt3m1:   0%|          | 0/1043920 [00:00<?, ?B/s]"
      ],
      "application/vnd.jupyter.widget-view+json": {
       "version_major": 2,
       "version_minor": 0,
       "model_id": "8461498d8f4a4508acdbabe118d142e7"
      }
     },
     "metadata": {},
     "output_type": "display_data"
    },
    {
     "data": {
      "text/plain": [
       "s2rmt3m1:   0%|          | 0/1059965 [00:00<?, ?B/s]"
      ],
      "application/vnd.jupyter.widget-view+json": {
       "version_major": 2,
       "version_minor": 0,
       "model_id": "3bd698643baf4808b4d0c776ec24bcee"
      }
     },
     "metadata": {},
     "output_type": "display_data"
    },
    {
     "data": {
      "text/plain": [
       "s3rmt3m1:   0%|          | 0/1092334 [00:00<?, ?B/s]"
      ],
      "application/vnd.jupyter.widget-view+json": {
       "version_major": 2,
       "version_minor": 0,
       "model_id": "3f98415166cd478b826578e2f53e96be"
      }
     },
     "metadata": {},
     "output_type": "display_data"
    },
    {
     "data": {
      "text/plain": [
       "s3rmt3m3:   0%|          | 0/1177648 [00:00<?, ?B/s]"
      ],
      "application/vnd.jupyter.widget-view+json": {
       "version_major": 2,
       "version_minor": 0,
       "model_id": "8c568b63d464432e9a10ebb2a42ac0ce"
      }
     },
     "metadata": {},
     "output_type": "display_data"
    },
    {
     "data": {
      "text/plain": [
       "cryg2500:   0%|          | 0/152146 [00:00<?, ?B/s]"
      ],
      "application/vnd.jupyter.widget-view+json": {
       "version_major": 2,
       "version_minor": 0,
       "model_id": "8bf613c331254ec296c45aae72dc8fa8"
      }
     },
     "metadata": {},
     "output_type": "display_data"
    },
    {
     "data": {
      "text/plain": [
       "dw2048:   0%|          | 0/55648 [00:00<?, ?B/s]"
      ],
      "application/vnd.jupyter.widget-view+json": {
       "version_major": 2,
       "version_minor": 0,
       "model_id": "da7b5ee3db6941c38fb7197c41fd708d"
      }
     },
     "metadata": {},
     "output_type": "display_data"
    },
    {
     "data": {
      "text/plain": [
       "dwa512:   0%|          | 0/11683 [00:00<?, ?B/s]"
      ],
      "application/vnd.jupyter.widget-view+json": {
       "version_major": 2,
       "version_minor": 0,
       "model_id": "36ea6cbd83c546a8a15c9be6e1919cf7"
      }
     },
     "metadata": {},
     "output_type": "display_data"
    },
    {
     "data": {
      "text/plain": [
       "dwb512:   0%|          | 0/13268 [00:00<?, ?B/s]"
      ],
      "application/vnd.jupyter.widget-view+json": {
       "version_major": 2,
       "version_minor": 0,
       "model_id": "c968f4f0abfb4d70a9b43f7239739d2d"
      }
     },
     "metadata": {},
     "output_type": "display_data"
    },
    {
     "data": {
      "text/plain": [
       "dwg961a:   0%|          | 0/13171 [00:00<?, ?B/s]"
      ],
      "application/vnd.jupyter.widget-view+json": {
       "version_major": 2,
       "version_minor": 0,
       "model_id": "8953dbe1089547a38740867523b54644"
      }
     },
     "metadata": {},
     "output_type": "display_data"
    },
    {
     "data": {
      "text/plain": [
       "dwg961b:   0%|          | 0/36572 [00:00<?, ?B/s]"
      ],
      "application/vnd.jupyter.widget-view+json": {
       "version_major": 2,
       "version_minor": 0,
       "model_id": "b53c66fdf7e048118b3554d8d77a3f6b"
      }
     },
     "metadata": {},
     "output_type": "display_data"
    },
    {
     "data": {
      "text/plain": [
       "mhd1280a:   0%|          | 0/474701 [00:00<?, ?B/s]"
      ],
      "application/vnd.jupyter.widget-view+json": {
       "version_major": 2,
       "version_minor": 0,
       "model_id": "4a0b5d2cb3b343998636c840209618ff"
      }
     },
     "metadata": {},
     "output_type": "display_data"
    },
    {
     "data": {
      "text/plain": [
       "mhd1280b:   0%|          | 0/95187 [00:00<?, ?B/s]"
      ],
      "application/vnd.jupyter.widget-view+json": {
       "version_major": 2,
       "version_minor": 0,
       "model_id": "a221dcea1c04460fa4da77c8237542a9"
      }
     },
     "metadata": {},
     "output_type": "display_data"
    },
    {
     "data": {
      "text/plain": [
       "mhd3200a:   0%|          | 0/584743 [00:00<?, ?B/s]"
      ],
      "application/vnd.jupyter.widget-view+json": {
       "version_major": 2,
       "version_minor": 0,
       "model_id": "1ef5bc69f84f4c4f81665c8d4d13974f"
      }
     },
     "metadata": {},
     "output_type": "display_data"
    },
    {
     "data": {
      "text/plain": [
       "mhd3200b:   0%|          | 0/93985 [00:00<?, ?B/s]"
      ],
      "application/vnd.jupyter.widget-view+json": {
       "version_major": 2,
       "version_minor": 0,
       "model_id": "ecaeb1cc4f7049c2afd56df45498e065"
      }
     },
     "metadata": {},
     "output_type": "display_data"
    },
    {
     "data": {
      "text/plain": [
       "mhd4800a:   0%|          | 0/881023 [00:00<?, ?B/s]"
      ],
      "application/vnd.jupyter.widget-view+json": {
       "version_major": 2,
       "version_minor": 0,
       "model_id": "82ddaedb4a804a0593634ece35ba38c9"
      }
     },
     "metadata": {},
     "output_type": "display_data"
    },
    {
     "data": {
      "text/plain": [
       "mhd4800b:   0%|          | 0/140909 [00:00<?, ?B/s]"
      ],
      "application/vnd.jupyter.widget-view+json": {
       "version_major": 2,
       "version_minor": 0,
       "model_id": "022f674fcad9483583603ea6af4b78d7"
      }
     },
     "metadata": {},
     "output_type": "display_data"
    },
    {
     "data": {
      "text/plain": [
       "qh1484:   0%|          | 0/28247 [00:00<?, ?B/s]"
      ],
      "application/vnd.jupyter.widget-view+json": {
       "version_major": 2,
       "version_minor": 0,
       "model_id": "043ccdadde1347a9802a18167762c370"
      }
     },
     "metadata": {},
     "output_type": "display_data"
    },
    {
     "data": {
      "text/plain": [
       "qh768:   0%|          | 0/14357 [00:00<?, ?B/s]"
      ],
      "application/vnd.jupyter.widget-view+json": {
       "version_major": 2,
       "version_minor": 0,
       "model_id": "a78de78d7af446bdb6d8153a78f722e4"
      }
     },
     "metadata": {},
     "output_type": "display_data"
    },
    {
     "data": {
      "text/plain": [
       "rdb1250:   0%|          | 0/23913 [00:00<?, ?B/s]"
      ],
      "application/vnd.jupyter.widget-view+json": {
       "version_major": 2,
       "version_minor": 0,
       "model_id": "ab1b3edd324644f0b48433eace49e319"
      }
     },
     "metadata": {},
     "output_type": "display_data"
    },
    {
     "data": {
      "text/plain": [
       "rdb1250l:   0%|          | 0/24132 [00:00<?, ?B/s]"
      ],
      "application/vnd.jupyter.widget-view+json": {
       "version_major": 2,
       "version_minor": 0,
       "model_id": "8cfae5fc39834364ad074dfa6d3e46ff"
      }
     },
     "metadata": {},
     "output_type": "display_data"
    },
    {
     "data": {
      "text/plain": [
       "rdb200:   0%|          | 0/4030 [00:00<?, ?B/s]"
      ],
      "application/vnd.jupyter.widget-view+json": {
       "version_major": 2,
       "version_minor": 0,
       "model_id": "e5beb3578dd94a5b8d8a8a43cf2fe18d"
      }
     },
     "metadata": {},
     "output_type": "display_data"
    },
    {
     "data": {
      "text/plain": [
       "rdb200l:   0%|          | 0/3949 [00:00<?, ?B/s]"
      ],
      "application/vnd.jupyter.widget-view+json": {
       "version_major": 2,
       "version_minor": 0,
       "model_id": "429a331f9997431286a51505ef2009fa"
      }
     },
     "metadata": {},
     "output_type": "display_data"
    },
    {
     "data": {
      "text/plain": [
       "rdb2048_noL:   0%|          | 0/42424 [00:00<?, ?B/s]"
      ],
      "application/vnd.jupyter.widget-view+json": {
       "version_major": 2,
       "version_minor": 0,
       "model_id": "e62f6e7c78db4fc2838171dcc31145da"
      }
     },
     "metadata": {},
     "output_type": "display_data"
    },
    {
     "data": {
      "text/plain": [
       "rdb3200l:   0%|          | 0/65377 [00:00<?, ?B/s]"
      ],
      "application/vnd.jupyter.widget-view+json": {
       "version_major": 2,
       "version_minor": 0,
       "model_id": "436fdc73705945acbcc4ae10abd7da0a"
      }
     },
     "metadata": {},
     "output_type": "display_data"
    },
    {
     "data": {
      "text/plain": [
       "rdb450:   0%|          | 0/8833 [00:00<?, ?B/s]"
      ],
      "application/vnd.jupyter.widget-view+json": {
       "version_major": 2,
       "version_minor": 0,
       "model_id": "9ca128b87453418fb45c2e0fc4085272"
      }
     },
     "metadata": {},
     "output_type": "display_data"
    },
    {
     "data": {
      "text/plain": [
       "rdb450l:   0%|          | 0/8870 [00:00<?, ?B/s]"
      ],
      "application/vnd.jupyter.widget-view+json": {
       "version_major": 2,
       "version_minor": 0,
       "model_id": "fc4762818662497cbecc5726eee4297b"
      }
     },
     "metadata": {},
     "output_type": "display_data"
    },
    {
     "data": {
      "text/plain": [
       "rdb800l:   0%|          | 0/15679 [00:00<?, ?B/s]"
      ],
      "application/vnd.jupyter.widget-view+json": {
       "version_major": 2,
       "version_minor": 0,
       "model_id": "b2dc7204e17f4c10824fb014dc605d0e"
      }
     },
     "metadata": {},
     "output_type": "display_data"
    },
    {
     "data": {
      "text/plain": [
       "tols1090:   0%|          | 0/23816 [00:00<?, ?B/s]"
      ],
      "application/vnd.jupyter.widget-view+json": {
       "version_major": 2,
       "version_minor": 0,
       "model_id": "85dbce8fb9764b618a3652c4b8a50067"
      }
     },
     "metadata": {},
     "output_type": "display_data"
    },
    {
     "data": {
      "text/plain": [
       "tols2000:   0%|          | 0/30690 [00:00<?, ?B/s]"
      ],
      "application/vnd.jupyter.widget-view+json": {
       "version_major": 2,
       "version_minor": 0,
       "model_id": "4e59d39da15f4e788804f2a54f468990"
      }
     },
     "metadata": {},
     "output_type": "display_data"
    },
    {
     "data": {
      "text/plain": [
       "tols340:   0%|          | 0/15967 [00:00<?, ?B/s]"
      ],
      "application/vnd.jupyter.widget-view+json": {
       "version_major": 2,
       "version_minor": 0,
       "model_id": "319ae275315c47679e27edbf3d933d14"
      }
     },
     "metadata": {},
     "output_type": "display_data"
    },
    {
     "data": {
      "text/plain": [
       "tols4000:   0%|          | 0/48214 [00:00<?, ?B/s]"
      ],
      "application/vnd.jupyter.widget-view+json": {
       "version_major": 2,
       "version_minor": 0,
       "model_id": "e0ad2121e5a142ddb7d055ea0703668f"
      }
     },
     "metadata": {},
     "output_type": "display_data"
    },
    {
     "data": {
      "text/plain": [
       "tols90:   0%|          | 0/13400 [00:00<?, ?B/s]"
      ],
      "application/vnd.jupyter.widget-view+json": {
       "version_major": 2,
       "version_minor": 0,
       "model_id": "55cadb69c1e84f06b6b0be65629fdec8"
      }
     },
     "metadata": {},
     "output_type": "display_data"
    },
    {
     "data": {
      "text/plain": [
       "iprob:   0%|          | 0/42267 [00:00<?, ?B/s]"
      ],
      "application/vnd.jupyter.widget-view+json": {
       "version_major": 2,
       "version_minor": 0,
       "model_id": "d085008454f942f7812765d02d299b50"
      }
     },
     "metadata": {},
     "output_type": "display_data"
    },
    {
     "data": {
      "text/plain": [
       "Chebyshev1:   0%|          | 0/23928 [00:00<?, ?B/s]"
      ],
      "application/vnd.jupyter.widget-view+json": {
       "version_major": 2,
       "version_minor": 0,
       "model_id": "5d0262dfb0f74f50a6212fc272c87a2e"
      }
     },
     "metadata": {},
     "output_type": "display_data"
    },
    {
     "data": {
      "text/plain": [
       "Chebyshev2:   0%|          | 0/202558 [00:00<?, ?B/s]"
      ],
      "application/vnd.jupyter.widget-view+json": {
       "version_major": 2,
       "version_minor": 0,
       "model_id": "3d40db9c64a548b388a88770d118019f"
      }
     },
     "metadata": {},
     "output_type": "display_data"
    },
    {
     "data": {
      "text/plain": [
       "Chebyshev3:   0%|          | 0/360197 [00:00<?, ?B/s]"
      ],
      "application/vnd.jupyter.widget-view+json": {
       "version_major": 2,
       "version_minor": 0,
       "model_id": "74982ffdea0440d691d2fcfa46235a60"
      }
     },
     "metadata": {},
     "output_type": "display_data"
    },
    {
     "data": {
      "text/plain": [
       "viscoplastic1:   0%|          | 0/2714369 [00:00<?, ?B/s]"
      ],
      "application/vnd.jupyter.widget-view+json": {
       "version_major": 2,
       "version_minor": 0,
       "model_id": "7db27196d7ef4e9988b9384018e6039f"
      }
     },
     "metadata": {},
     "output_type": "display_data"
    },
    {
     "data": {
      "text/plain": [
       "eurqsa:   0%|          | 0/149643 [00:00<?, ?B/s]"
      ],
      "application/vnd.jupyter.widget-view+json": {
       "version_major": 2,
       "version_minor": 0,
       "model_id": "5f8aee2c052647a4a9f5410b8b7c4000"
      }
     },
     "metadata": {},
     "output_type": "display_data"
    },
    {
     "data": {
      "text/plain": [
       "circuit204:   0%|          | 0/31178 [00:00<?, ?B/s]"
      ],
      "application/vnd.jupyter.widget-view+json": {
       "version_major": 2,
       "version_minor": 0,
       "model_id": "ccaa357dc3e549f39f24cfb2ace80840"
      }
     },
     "metadata": {},
     "output_type": "display_data"
    },
    {
     "data": {
      "text/plain": [
       "g3rmt3m3:   0%|          | 0/207196 [00:00<?, ?B/s]"
      ],
      "application/vnd.jupyter.widget-view+json": {
       "version_major": 2,
       "version_minor": 0,
       "model_id": "7c33fa69079d432b9aa9ec6b4932ce77"
      }
     },
     "metadata": {},
     "output_type": "display_data"
    },
    {
     "data": {
      "text/plain": [
       "t520:   0%|          | 0/304294 [00:00<?, ?B/s]"
      ],
      "application/vnd.jupyter.widget-view+json": {
       "version_major": 2,
       "version_minor": 0,
       "model_id": "1030541d7fc8492b92bffe62f627d975"
      }
     },
     "metadata": {},
     "output_type": "display_data"
    },
    {
     "data": {
      "text/plain": [
       "plbuckle:   0%|          | 0/143002 [00:00<?, ?B/s]"
      ],
      "application/vnd.jupyter.widget-view+json": {
       "version_major": 2,
       "version_minor": 0,
       "model_id": "d899810485624cf4a79a40bd72626575"
      }
     },
     "metadata": {},
     "output_type": "display_data"
    },
    {
     "data": {
      "text/plain": [
       "bibd_81_2:   0%|          | 0/13200 [00:00<?, ?B/s]"
      ],
      "application/vnd.jupyter.widget-view+json": {
       "version_major": 2,
       "version_minor": 0,
       "model_id": "e2e40572ccd74539931a2884a55664c9"
      }
     },
     "metadata": {},
     "output_type": "display_data"
    },
    {
     "data": {
      "text/plain": [
       "CAG_mat1916:   0%|          | 0/511467 [00:00<?, ?B/s]"
      ],
      "application/vnd.jupyter.widget-view+json": {
       "version_major": 2,
       "version_minor": 0,
       "model_id": "436b7653a1664c39b1ddbdcf2bed9b3a"
      }
     },
     "metadata": {},
     "output_type": "display_data"
    },
    {
     "data": {
      "text/plain": [
       "CAG_mat364:   0%|          | 0/36663 [00:00<?, ?B/s]"
      ],
      "application/vnd.jupyter.widget-view+json": {
       "version_major": 2,
       "version_minor": 0,
       "model_id": "e67082dd8fe24cac8b4db2f21a06d20a"
      }
     },
     "metadata": {},
     "output_type": "display_data"
    },
    {
     "data": {
      "text/plain": [
       "CAG_mat72:   0%|          | 0/3802 [00:00<?, ?B/s]"
      ],
      "application/vnd.jupyter.widget-view+json": {
       "version_major": 2,
       "version_minor": 0,
       "model_id": "33eca41165a340dda2b73fcf1765ed0b"
      }
     },
     "metadata": {},
     "output_type": "display_data"
    },
    {
     "data": {
      "text/plain": [
       "ch5-5-b3:   0%|          | 0/8240 [00:00<?, ?B/s]"
      ],
      "application/vnd.jupyter.widget-view+json": {
       "version_major": 2,
       "version_minor": 0,
       "model_id": "6f4046b4a3e94f4aac40b685ca91fdb6"
      }
     },
     "metadata": {},
     "output_type": "display_data"
    },
    {
     "data": {
      "text/plain": [
       "n3c6-b1:   0%|          | 0/1039 [00:00<?, ?B/s]"
      ],
      "application/vnd.jupyter.widget-view+json": {
       "version_major": 2,
       "version_minor": 0,
       "model_id": "5b5e25c9521344d8b916b79af6dba234"
      }
     },
     "metadata": {},
     "output_type": "display_data"
    },
    {
     "data": {
      "text/plain": [
       "n3c6-b7:   0%|          | 0/172059 [00:00<?, ?B/s]"
      ],
      "application/vnd.jupyter.widget-view+json": {
       "version_major": 2,
       "version_minor": 0,
       "model_id": "02101d567fcf4d20aabf4226d49292b4"
      }
     },
     "metadata": {},
     "output_type": "display_data"
    },
    {
     "data": {
      "text/plain": [
       "cat_ears_2_1:   0%|          | 0/1874 [00:00<?, ?B/s]"
      ],
      "application/vnd.jupyter.widget-view+json": {
       "version_major": 2,
       "version_minor": 0,
       "model_id": "c8f8473337c54790a31290943417bb26"
      }
     },
     "metadata": {},
     "output_type": "display_data"
    },
    {
     "data": {
      "text/plain": [
       "08blocks:   0%|          | 0/2645 [00:00<?, ?B/s]"
      ],
      "application/vnd.jupyter.widget-view+json": {
       "version_major": 2,
       "version_minor": 0,
       "model_id": "cc258ce5e1a943279ed7a9b12db83e21"
      }
     },
     "metadata": {},
     "output_type": "display_data"
    },
    {
     "data": {
      "text/plain": [
       "Trefethen_20b:   0%|          | 0/1027 [00:00<?, ?B/s]"
      ],
      "application/vnd.jupyter.widget-view+json": {
       "version_major": 2,
       "version_minor": 0,
       "model_id": "bb24745b30a84b058a5852e38e42f74f"
      }
     },
     "metadata": {},
     "output_type": "display_data"
    },
    {
     "data": {
      "text/plain": [
       "Trefethen_20:   0%|          | 0/1037 [00:00<?, ?B/s]"
      ],
      "application/vnd.jupyter.widget-view+json": {
       "version_major": 2,
       "version_minor": 0,
       "model_id": "43347636c4e4417a9792f3d711fa1fc5"
      }
     },
     "metadata": {},
     "output_type": "display_data"
    },
    {
     "data": {
      "text/plain": [
       "Trefethen_150:   0%|          | 0/3987 [00:00<?, ?B/s]"
      ],
      "application/vnd.jupyter.widget-view+json": {
       "version_major": 2,
       "version_minor": 0,
       "model_id": "583a140d054340e6b22980bd54df421f"
      }
     },
     "metadata": {},
     "output_type": "display_data"
    },
    {
     "data": {
      "text/plain": [
       "Trefethen_200b:   0%|          | 0/5243 [00:00<?, ?B/s]"
      ],
      "application/vnd.jupyter.widget-view+json": {
       "version_major": 2,
       "version_minor": 0,
       "model_id": "0382ffaa9e724abd820bdfb324f9a463"
      }
     },
     "metadata": {},
     "output_type": "display_data"
    },
    {
     "data": {
      "text/plain": [
       "Trefethen_200:   0%|          | 0/5245 [00:00<?, ?B/s]"
      ],
      "application/vnd.jupyter.widget-view+json": {
       "version_major": 2,
       "version_minor": 0,
       "model_id": "48739a7b6369414c8b9e4b52b17bb1b9"
      }
     },
     "metadata": {},
     "output_type": "display_data"
    },
    {
     "data": {
      "text/plain": [
       "Trefethen_300:   0%|          | 0/7978 [00:00<?, ?B/s]"
      ],
      "application/vnd.jupyter.widget-view+json": {
       "version_major": 2,
       "version_minor": 0,
       "model_id": "ed0a9efc039e41209c831435b9b2dae6"
      }
     },
     "metadata": {},
     "output_type": "display_data"
    },
    {
     "data": {
      "text/plain": [
       "Trefethen_500:   0%|          | 0/13645 [00:00<?, ?B/s]"
      ],
      "application/vnd.jupyter.widget-view+json": {
       "version_major": 2,
       "version_minor": 0,
       "model_id": "362af1b2e6854dd798cdbd9a717569ce"
      }
     },
     "metadata": {},
     "output_type": "display_data"
    },
    {
     "data": {
      "text/plain": [
       "Trefethen_700:   0%|          | 0/20003 [00:00<?, ?B/s]"
      ],
      "application/vnd.jupyter.widget-view+json": {
       "version_major": 2,
       "version_minor": 0,
       "model_id": "78dca4ebd0f9420dba4491121d94e490"
      }
     },
     "metadata": {},
     "output_type": "display_data"
    },
    {
     "data": {
      "text/plain": [
       "Trefethen_2000:   0%|          | 0/63639 [00:00<?, ?B/s]"
      ],
      "application/vnd.jupyter.widget-view+json": {
       "version_major": 2,
       "version_minor": 0,
       "model_id": "089b4ca2234e470bb99ef1c63f7416cb"
      }
     },
     "metadata": {},
     "output_type": "display_data"
    },
    {
     "data": {
      "text/plain": [
       "TSOPF_FS_b9_c1:   0%|          | 0/54757 [00:00<?, ?B/s]"
      ],
      "application/vnd.jupyter.widget-view+json": {
       "version_major": 2,
       "version_minor": 0,
       "model_id": "a0b9487f3d8c45aea5e40f41522d1767"
      }
     },
     "metadata": {},
     "output_type": "display_data"
    },
    {
     "data": {
      "text/plain": [
       "TSOPF_RS_b162_c1:   0%|          | 0/1341323 [00:00<?, ?B/s]"
      ],
      "application/vnd.jupyter.widget-view+json": {
       "version_major": 2,
       "version_minor": 0,
       "model_id": "cecfcf4276ea4fd1b3b3e9ac642594df"
      }
     },
     "metadata": {},
     "output_type": "display_data"
    },
    {
     "data": {
      "text/plain": [
       "TSOPF_RS_b9_c6:   0%|          | 0/187125 [00:00<?, ?B/s]"
      ],
      "application/vnd.jupyter.widget-view+json": {
       "version_major": 2,
       "version_minor": 0,
       "model_id": "186afc76de5e4907a6aba6236da9e2a3"
      }
     },
     "metadata": {},
     "output_type": "display_data"
    },
    {
     "data": {
      "text/plain": [
       "TS:   0%|          | 0/222961 [00:00<?, ?B/s]"
      ],
      "application/vnd.jupyter.widget-view+json": {
       "version_major": 2,
       "version_minor": 0,
       "model_id": "670e15a700724c8b8d189280d7dc8347"
      }
     },
     "metadata": {},
     "output_type": "display_data"
    },
    {
     "data": {
      "text/plain": [
       "ca-GrQc:   0%|          | 0/64632 [00:00<?, ?B/s]"
      ],
      "application/vnd.jupyter.widget-view+json": {
       "version_major": 2,
       "version_minor": 0,
       "model_id": "1b79c77df3f143d29abd491be997b457"
      }
     },
     "metadata": {},
     "output_type": "display_data"
    },
    {
     "data": {
      "text/plain": [
       "minnesota:   0%|          | 0/23015 [00:00<?, ?B/s]"
      ],
      "application/vnd.jupyter.widget-view+json": {
       "version_major": 2,
       "version_minor": 0,
       "model_id": "a9e1dd77827a4a2f9b634245e91c47d3"
      }
     },
     "metadata": {},
     "output_type": "display_data"
    },
    {
     "data": {
      "text/plain": [
       "DK01R:   0%|          | 0/139308 [00:00<?, ?B/s]"
      ],
      "application/vnd.jupyter.widget-view+json": {
       "version_major": 2,
       "version_minor": 0,
       "model_id": "290235559df94a4bad2f54bf25a44ad4"
      }
     },
     "metadata": {},
     "output_type": "display_data"
    },
    {
     "data": {
      "text/plain": [
       "ww_36_pmec_36:   0%|          | 0/17694 [00:00<?, ?B/s]"
      ],
      "application/vnd.jupyter.widget-view+json": {
       "version_major": 2,
       "version_minor": 0,
       "model_id": "1069335c367149528bc355ef1b0faedb"
      }
     },
     "metadata": {},
     "output_type": "display_data"
    },
    {
     "data": {
      "text/plain": [
       "bips98_606:   0%|          | 0/375832 [00:00<?, ?B/s]"
      ],
      "application/vnd.jupyter.widget-view+json": {
       "version_major": 2,
       "version_minor": 0,
       "model_id": "e9c911635ec7455585ac97e670a27020"
      }
     },
     "metadata": {},
     "output_type": "display_data"
    },
    {
     "data": {
      "text/plain": [
       "M10PI_n1:   0%|          | 0/10680 [00:00<?, ?B/s]"
      ],
      "application/vnd.jupyter.widget-view+json": {
       "version_major": 2,
       "version_minor": 0,
       "model_id": "19b110f958864e48a4d8ad59c1e179a6"
      }
     },
     "metadata": {},
     "output_type": "display_data"
    },
    {
     "data": {
      "text/plain": [
       "M20PI_n1:   0%|          | 0/18838 [00:00<?, ?B/s]"
      ],
      "application/vnd.jupyter.widget-view+json": {
       "version_major": 2,
       "version_minor": 0,
       "model_id": "4a3b8f1bd2b34f658ec5a09ce62fb4af"
      }
     },
     "metadata": {},
     "output_type": "display_data"
    },
    {
     "data": {
      "text/plain": [
       "M40PI_n1:   0%|          | 0/31951 [00:00<?, ?B/s]"
      ],
      "application/vnd.jupyter.widget-view+json": {
       "version_major": 2,
       "version_minor": 0,
       "model_id": "19be0a261994404aacaa052bbeb00bcb"
      }
     },
     "metadata": {},
     "output_type": "display_data"
    },
    {
     "data": {
      "text/plain": [
       "M80PI_n1:   0%|          | 0/58169 [00:00<?, ?B/s]"
      ],
      "application/vnd.jupyter.widget-view+json": {
       "version_major": 2,
       "version_minor": 0,
       "model_id": "73eef1cb76cc46fb8f2346f5326bba50"
      }
     },
     "metadata": {},
     "output_type": "display_data"
    },
    {
     "data": {
      "text/plain": [
       "M10PI_n:   0%|          | 0/12235 [00:00<?, ?B/s]"
      ],
      "application/vnd.jupyter.widget-view+json": {
       "version_major": 2,
       "version_minor": 0,
       "model_id": "beae1903b4364591a713f871de43d413"
      }
     },
     "metadata": {},
     "output_type": "display_data"
    },
    {
     "data": {
      "text/plain": [
       "M20PI_n:   0%|          | 0/20747 [00:00<?, ?B/s]"
      ],
      "application/vnd.jupyter.widget-view+json": {
       "version_major": 2,
       "version_minor": 0,
       "model_id": "3ce943efbb454093aeb4b3006314cdc6"
      }
     },
     "metadata": {},
     "output_type": "display_data"
    },
    {
     "data": {
      "text/plain": [
       "M40PI_n:   0%|          | 0/33620 [00:00<?, ?B/s]"
      ],
      "application/vnd.jupyter.widget-view+json": {
       "version_major": 2,
       "version_minor": 0,
       "model_id": "f2dac3259b6e4120a329d50430367006"
      }
     },
     "metadata": {},
     "output_type": "display_data"
    },
    {
     "data": {
      "text/plain": [
       "M80PI_n:   0%|          | 0/59918 [00:00<?, ?B/s]"
      ],
      "application/vnd.jupyter.widget-view+json": {
       "version_major": 2,
       "version_minor": 0,
       "model_id": "d3a18cb882ee4531a392315fc26d15dc"
      }
     },
     "metadata": {},
     "output_type": "display_data"
    },
    {
     "data": {
      "text/plain": [
       "S10PI_n1:   0%|          | 0/10661 [00:00<?, ?B/s]"
      ],
      "application/vnd.jupyter.widget-view+json": {
       "version_major": 2,
       "version_minor": 0,
       "model_id": "74a169a6ace64e63b373e2df239cf490"
      }
     },
     "metadata": {},
     "output_type": "display_data"
    },
    {
     "data": {
      "text/plain": [
       "S20PI_n1:   0%|          | 0/18818 [00:00<?, ?B/s]"
      ],
      "application/vnd.jupyter.widget-view+json": {
       "version_major": 2,
       "version_minor": 0,
       "model_id": "412169556d51442e934254b46cdc2763"
      }
     },
     "metadata": {},
     "output_type": "display_data"
    },
    {
     "data": {
      "text/plain": [
       "S40PI_n1:   0%|          | 0/31931 [00:00<?, ?B/s]"
      ],
      "application/vnd.jupyter.widget-view+json": {
       "version_major": 2,
       "version_minor": 0,
       "model_id": "668bf88b27e94e358e2564dfe3c406f2"
      }
     },
     "metadata": {},
     "output_type": "display_data"
    },
    {
     "data": {
      "text/plain": [
       "S80PI_n1:   0%|          | 0/58152 [00:00<?, ?B/s]"
      ],
      "application/vnd.jupyter.widget-view+json": {
       "version_major": 2,
       "version_minor": 0,
       "model_id": "a0d65caf1b7b4168865dff8968988ebc"
      }
     },
     "metadata": {},
     "output_type": "display_data"
    },
    {
     "data": {
      "text/plain": [
       "S10PI_n:   0%|          | 0/12216 [00:00<?, ?B/s]"
      ],
      "application/vnd.jupyter.widget-view+json": {
       "version_major": 2,
       "version_minor": 0,
       "model_id": "8245008b523b47d9ba9dbe1f7c6cb995"
      }
     },
     "metadata": {},
     "output_type": "display_data"
    },
    {
     "data": {
      "text/plain": [
       "S20PI_n:   0%|          | 0/20724 [00:00<?, ?B/s]"
      ],
      "application/vnd.jupyter.widget-view+json": {
       "version_major": 2,
       "version_minor": 0,
       "model_id": "d88de82b304b4ed28f54d55aefcb245e"
      }
     },
     "metadata": {},
     "output_type": "display_data"
    },
    {
     "data": {
      "text/plain": [
       "S40PI_n:   0%|          | 0/33604 [00:00<?, ?B/s]"
      ],
      "application/vnd.jupyter.widget-view+json": {
       "version_major": 2,
       "version_minor": 0,
       "model_id": "e71fb9fb73dd40809da81ec354f13c66"
      }
     },
     "metadata": {},
     "output_type": "display_data"
    },
    {
     "data": {
      "text/plain": [
       "S80PI_n:   0%|          | 0/59905 [00:00<?, ?B/s]"
      ],
      "application/vnd.jupyter.widget-view+json": {
       "version_major": 2,
       "version_minor": 0,
       "model_id": "76408ff716ee44aca1642d7ddbf2f0b9"
      }
     },
     "metadata": {},
     "output_type": "display_data"
    },
    {
     "data": {
      "text/plain": [
       "adjnoun:   0%|          | 0/2291 [00:00<?, ?B/s]"
      ],
      "application/vnd.jupyter.widget-view+json": {
       "version_major": 2,
       "version_minor": 0,
       "model_id": "3f142a1000a74d8aa7c6d870708df023"
      }
     },
     "metadata": {},
     "output_type": "display_data"
    },
    {
     "data": {
      "text/plain": [
       "celegansneural:   0%|          | 0/9007 [00:00<?, ?B/s]"
      ],
      "application/vnd.jupyter.widget-view+json": {
       "version_major": 2,
       "version_minor": 0,
       "model_id": "668c4498563a4bb186afd1f3a4072b21"
      }
     },
     "metadata": {},
     "output_type": "display_data"
    },
    {
     "data": {
      "text/plain": [
       "dolphins:   0%|          | 0/1574 [00:00<?, ?B/s]"
      ],
      "application/vnd.jupyter.widget-view+json": {
       "version_major": 2,
       "version_minor": 0,
       "model_id": "b06fdc94925e489dbeaae42bd3928a8c"
      }
     },
     "metadata": {},
     "output_type": "display_data"
    },
    {
     "data": {
      "text/plain": [
       "football:   0%|          | 0/3460 [00:00<?, ?B/s]"
      ],
      "application/vnd.jupyter.widget-view+json": {
       "version_major": 2,
       "version_minor": 0,
       "model_id": "e86a9570e67b4cafaed797e54d41f085"
      }
     },
     "metadata": {},
     "output_type": "display_data"
    },
    {
     "data": {
      "text/plain": [
       "karate:   0%|          | 0/830 [00:00<?, ?B/s]"
      ],
      "application/vnd.jupyter.widget-view+json": {
       "version_major": 2,
       "version_minor": 0,
       "model_id": "dc3a061aec574a15ab839794e8912609"
      }
     },
     "metadata": {},
     "output_type": "display_data"
    },
    {
     "data": {
      "text/plain": [
       "lesmis:   0%|          | 0/1971 [00:00<?, ?B/s]"
      ],
      "application/vnd.jupyter.widget-view+json": {
       "version_major": 2,
       "version_minor": 0,
       "model_id": "5f0cede8b63f43a884395cfffb40e854"
      }
     },
     "metadata": {},
     "output_type": "display_data"
    },
    {
     "data": {
      "text/plain": [
       "netscience:   0%|          | 0/20053 [00:00<?, ?B/s]"
      ],
      "application/vnd.jupyter.widget-view+json": {
       "version_major": 2,
       "version_minor": 0,
       "model_id": "a8d731337a514be494361c8c3933bc7c"
      }
     },
     "metadata": {},
     "output_type": "display_data"
    },
    {
     "data": {
      "text/plain": [
       "polblogs:   0%|          | 0/66091 [00:00<?, ?B/s]"
      ],
      "application/vnd.jupyter.widget-view+json": {
       "version_major": 2,
       "version_minor": 0,
       "model_id": "17c9891e4c7b40ff914460b5f18c84a2"
      }
     },
     "metadata": {},
     "output_type": "display_data"
    },
    {
     "data": {
      "text/plain": [
       "polbooks:   0%|          | 0/3095 [00:00<?, ?B/s]"
      ],
      "application/vnd.jupyter.widget-view+json": {
       "version_major": 2,
       "version_minor": 0,
       "model_id": "b0b4072f3e0f47d89f675f7dda989fa1"
      }
     },
     "metadata": {},
     "output_type": "display_data"
    },
    {
     "data": {
      "text/plain": [
       "power:   0%|          | 0/24325 [00:00<?, ?B/s]"
      ],
      "application/vnd.jupyter.widget-view+json": {
       "version_major": 2,
       "version_minor": 0,
       "model_id": "831e83c58d124eb4bcc83a8fe2483f33"
      }
     },
     "metadata": {},
     "output_type": "display_data"
    },
    {
     "data": {
      "text/plain": [
       "jazz:   0%|          | 0/44330 [00:00<?, ?B/s]"
      ],
      "application/vnd.jupyter.widget-view+json": {
       "version_major": 2,
       "version_minor": 0,
       "model_id": "194a2d256ea4461db061e74de1c206d4"
      }
     },
     "metadata": {},
     "output_type": "display_data"
    },
    {
     "data": {
      "text/plain": [
       "celegans_metabolic:   0%|          | 0/13034 [00:00<?, ?B/s]"
      ],
      "application/vnd.jupyter.widget-view+json": {
       "version_major": 2,
       "version_minor": 0,
       "model_id": "3211b263eb664170a6016a7dea6183bb"
      }
     },
     "metadata": {},
     "output_type": "display_data"
    },
    {
     "data": {
      "text/plain": [
       "email:   0%|          | 0/15082 [00:00<?, ?B/s]"
      ],
      "application/vnd.jupyter.widget-view+json": {
       "version_major": 2,
       "version_minor": 0,
       "model_id": "97f4d01c24ba41b7961d75d2ae4a6421"
      }
     },
     "metadata": {},
     "output_type": "display_data"
    },
    {
     "data": {
      "text/plain": [
       "3elt:   0%|          | 0/71512 [00:00<?, ?B/s]"
      ],
      "application/vnd.jupyter.widget-view+json": {
       "version_major": 2,
       "version_minor": 0,
       "model_id": "513e534a3d7e41698f5ff8c459a724b1"
      }
     },
     "metadata": {},
     "output_type": "display_data"
    },
    {
     "data": {
      "text/plain": [
       "airfoil1:   0%|          | 0/63668 [00:00<?, ?B/s]"
      ],
      "application/vnd.jupyter.widget-view+json": {
       "version_major": 2,
       "version_minor": 0,
       "model_id": "ab3de31638dc44ad8dbe59fd6e207c68"
      }
     },
     "metadata": {},
     "output_type": "display_data"
    },
    {
     "data": {
      "text/plain": [
       "grid1:   0%|          | 0/3211 [00:00<?, ?B/s]"
      ],
      "application/vnd.jupyter.widget-view+json": {
       "version_major": 2,
       "version_minor": 0,
       "model_id": "724905a25faa42a0943ad28fbf85c2d1"
      }
     },
     "metadata": {},
     "output_type": "display_data"
    },
    {
     "data": {
      "text/plain": [
       "grid1_dual:   0%|          | 0/3414 [00:00<?, ?B/s]"
      ],
      "application/vnd.jupyter.widget-view+json": {
       "version_major": 2,
       "version_minor": 0,
       "model_id": "fbab45b5a1874f60962d523ee363fbb8"
      }
     },
     "metadata": {},
     "output_type": "display_data"
    },
    {
     "data": {
      "text/plain": [
       "grid2:   0%|          | 0/30570 [00:00<?, ?B/s]"
      ],
      "application/vnd.jupyter.widget-view+json": {
       "version_major": 2,
       "version_minor": 0,
       "model_id": "aba1454cb5ff4fac9db43a5397fd5beb"
      }
     },
     "metadata": {},
     "output_type": "display_data"
    },
    {
     "data": {
      "text/plain": [
       "grid2_dual:   0%|          | 0/30860 [00:00<?, ?B/s]"
      ],
      "application/vnd.jupyter.widget-view+json": {
       "version_major": 2,
       "version_minor": 0,
       "model_id": "2b9f2409fe2249c1a075d480797dbc45"
      }
     },
     "metadata": {},
     "output_type": "display_data"
    },
    {
     "data": {
      "text/plain": [
       "netz4504:   0%|          | 0/14505 [00:00<?, ?B/s]"
      ],
      "application/vnd.jupyter.widget-view+json": {
       "version_major": 2,
       "version_minor": 0,
       "model_id": "58b06a376a2b41468636844893300bf9"
      }
     },
     "metadata": {},
     "output_type": "display_data"
    },
    {
     "data": {
      "text/plain": [
       "netz4504_dual:   0%|          | 0/7117 [00:00<?, ?B/s]"
      ],
      "application/vnd.jupyter.widget-view+json": {
       "version_major": 2,
       "version_minor": 0,
       "model_id": "81a932f335cf479393a513bfb8154708"
      }
     },
     "metadata": {},
     "output_type": "display_data"
    },
    {
     "data": {
      "text/plain": [
       "ukerbe1:   0%|          | 0/58697 [00:00<?, ?B/s]"
      ],
      "application/vnd.jupyter.widget-view+json": {
       "version_major": 2,
       "version_minor": 0,
       "model_id": "0b9c312d7afe4fbe918b4ad34a24dc4b"
      }
     },
     "metadata": {},
     "output_type": "display_data"
    },
    {
     "data": {
      "text/plain": [
       "ukerbe1_dual:   0%|          | 0/26141 [00:00<?, ?B/s]"
      ],
      "application/vnd.jupyter.widget-view+json": {
       "version_major": 2,
       "version_minor": 0,
       "model_id": "99ab66bb5dee4d73b1b3ae6f754722e5"
      }
     },
     "metadata": {},
     "output_type": "display_data"
    },
    {
     "data": {
      "text/plain": [
       "diag:   0%|          | 0/20844 [00:00<?, ?B/s]"
      ],
      "application/vnd.jupyter.widget-view+json": {
       "version_major": 2,
       "version_minor": 0,
       "model_id": "3d89b7a3f8cc49f1a89e89ddec9f67dc"
      }
     },
     "metadata": {},
     "output_type": "display_data"
    },
    {
     "data": {
      "text/plain": [
       "L:   0%|          | 0/7650 [00:00<?, ?B/s]"
      ],
      "application/vnd.jupyter.widget-view+json": {
       "version_major": 2,
       "version_minor": 0,
       "model_id": "e464fccea5f24f069dba2e0ab1c4cb66"
      }
     },
     "metadata": {},
     "output_type": "display_data"
    },
    {
     "data": {
      "text/plain": [
       "stufe:   0%|          | 0/8499 [00:00<?, ?B/s]"
      ],
      "application/vnd.jupyter.widget-view+json": {
       "version_major": 2,
       "version_minor": 0,
       "model_id": "1d344480d38e4d549395df20a65e45e8"
      }
     },
     "metadata": {},
     "output_type": "display_data"
    },
    {
     "data": {
      "text/plain": [
       "cage:   0%|          | 0/40588 [00:00<?, ?B/s]"
      ],
      "application/vnd.jupyter.widget-view+json": {
       "version_major": 2,
       "version_minor": 0,
       "model_id": "b194653cc23441a0b7bbe712d5854f32"
      }
     },
     "metadata": {},
     "output_type": "display_data"
    },
    {
     "data": {
      "text/plain": [
       "chesapeake:   0%|          | 0/3744 [00:00<?, ?B/s]"
      ],
      "application/vnd.jupyter.widget-view+json": {
       "version_major": 2,
       "version_minor": 0,
       "model_id": "7f015230e45d44ee87f84fac6bd5eaec"
      }
     },
     "metadata": {},
     "output_type": "display_data"
    },
    {
     "data": {
      "text/plain": [
       "delaunay_n10:   0%|          | 0/10870 [00:00<?, ?B/s]"
      ],
      "application/vnd.jupyter.widget-view+json": {
       "version_major": 2,
       "version_minor": 0,
       "model_id": "bbb22a26007340e388561de746b3c81c"
      }
     },
     "metadata": {},
     "output_type": "display_data"
    },
    {
     "data": {
      "text/plain": [
       "delaunay_n11:   0%|          | 0/19827 [00:00<?, ?B/s]"
      ],
      "application/vnd.jupyter.widget-view+json": {
       "version_major": 2,
       "version_minor": 0,
       "model_id": "21734f748fb44c02ba61b12b41974905"
      }
     },
     "metadata": {},
     "output_type": "display_data"
    },
    {
     "data": {
      "text/plain": [
       "delaunay_n12:   0%|          | 0/35632 [00:00<?, ?B/s]"
      ],
      "application/vnd.jupyter.widget-view+json": {
       "version_major": 2,
       "version_minor": 0,
       "model_id": "a3e0902b7480443eb54f20ff0433459b"
      }
     },
     "metadata": {},
     "output_type": "display_data"
    },
    {
     "data": {
      "text/plain": [
       "data:   0%|          | 0/34529 [00:00<?, ?B/s]"
      ],
      "application/vnd.jupyter.widget-view+json": {
       "version_major": 2,
       "version_minor": 0,
       "model_id": "f47f4a879d504db1abfadee349367ccc"
      }
     },
     "metadata": {},
     "output_type": "display_data"
    },
    {
     "data": {
      "text/plain": [
       "uk:   0%|          | 0/27808 [00:00<?, ?B/s]"
      ],
      "application/vnd.jupyter.widget-view+json": {
       "version_major": 2,
       "version_minor": 0,
       "model_id": "d472db7c551b472a945f293e31437c4e"
      }
     },
     "metadata": {},
     "output_type": "display_data"
    },
    {
     "data": {
      "text/plain": [
       "cz148:   0%|          | 0/11764 [00:00<?, ?B/s]"
      ],
      "application/vnd.jupyter.widget-view+json": {
       "version_major": 2,
       "version_minor": 0,
       "model_id": "4cd40b8cef8d4bc183222b284017a242"
      }
     },
     "metadata": {},
     "output_type": "display_data"
    },
    {
     "data": {
      "text/plain": [
       "cz308:   0%|          | 0/23658 [00:00<?, ?B/s]"
      ],
      "application/vnd.jupyter.widget-view+json": {
       "version_major": 2,
       "version_minor": 0,
       "model_id": "144e211b75a44506b97aa5dbd5832d1d"
      }
     },
     "metadata": {},
     "output_type": "display_data"
    },
    {
     "data": {
      "text/plain": [
       "cz628:   0%|          | 0/51125 [00:00<?, ?B/s]"
      ],
      "application/vnd.jupyter.widget-view+json": {
       "version_major": 2,
       "version_minor": 0,
       "model_id": "de5d281550c84adea2ab16c2c3a12a8d"
      }
     },
     "metadata": {},
     "output_type": "display_data"
    },
    {
     "data": {
      "text/plain": [
       "cz1268:   0%|          | 0/104364 [00:00<?, ?B/s]"
      ],
      "application/vnd.jupyter.widget-view+json": {
       "version_major": 2,
       "version_minor": 0,
       "model_id": "7bf0b9677ef149c381ba0153bd378111"
      }
     },
     "metadata": {},
     "output_type": "display_data"
    },
    {
     "data": {
      "text/plain": [
       "cz2548:   0%|          | 0/215735 [00:00<?, ?B/s]"
      ],
      "application/vnd.jupyter.widget-view+json": {
       "version_major": 2,
       "version_minor": 0,
       "model_id": "e9c99817e1ec48fea328c01876aafaa5"
      }
     },
     "metadata": {},
     "output_type": "display_data"
    },
    {
     "data": {
      "text/plain": [
       "cz5108:   0%|          | 0/438802 [00:00<?, ?B/s]"
      ],
      "application/vnd.jupyter.widget-view+json": {
       "version_major": 2,
       "version_minor": 0,
       "model_id": "9f8b88bfbbc543a6af30843fe04ca846"
      }
     },
     "metadata": {},
     "output_type": "display_data"
    },
    {
     "data": {
      "text/plain": [
       "LeGresley_2508:   0%|          | 0/210146 [00:00<?, ?B/s]"
      ],
      "application/vnd.jupyter.widget-view+json": {
       "version_major": 2,
       "version_minor": 0,
       "model_id": "93eb27a2eda34769b7e8e0273b42ec7e"
      }
     },
     "metadata": {},
     "output_type": "display_data"
    },
    {
     "data": {
      "text/plain": [
       "LeGresley_4908:   0%|          | 0/429699 [00:00<?, ?B/s]"
      ],
      "application/vnd.jupyter.widget-view+json": {
       "version_major": 2,
       "version_minor": 0,
       "model_id": "d1aa9f1147374f1499de1f3c622fff5f"
      }
     },
     "metadata": {},
     "output_type": "display_data"
    },
    {
     "data": {
      "text/plain": [
       "MISKnowledgeMap:   0%|          | 0/1474886 [00:00<?, ?B/s]"
      ],
      "application/vnd.jupyter.widget-view+json": {
       "version_major": 2,
       "version_minor": 0,
       "model_id": "6e262f41f53642b6b0bd65e0cb6e5576"
      }
     },
     "metadata": {},
     "output_type": "display_data"
    },
    {
     "data": {
      "text/plain": [
       "dynamicSoaringProblem_1:   0%|          | 0/38009 [00:00<?, ?B/s]"
      ],
      "application/vnd.jupyter.widget-view+json": {
       "version_major": 2,
       "version_minor": 0,
       "model_id": "244b4bd8b0a84a708e36f4b9c1afdf09"
      }
     },
     "metadata": {},
     "output_type": "display_data"
    },
    {
     "data": {
      "text/plain": [
       "dynamicSoaringProblem_2:   0%|          | 0/107230 [00:00<?, ?B/s]"
      ],
      "application/vnd.jupyter.widget-view+json": {
       "version_major": 2,
       "version_minor": 0,
       "model_id": "20517363b1a94e04a847f623bef0a37d"
      }
     },
     "metadata": {},
     "output_type": "display_data"
    },
    {
     "data": {
      "text/plain": [
       "dynamicSoaringProblem_3:   0%|          | 0/185255 [00:00<?, ?B/s]"
      ],
      "application/vnd.jupyter.widget-view+json": {
       "version_major": 2,
       "version_minor": 0,
       "model_id": "3fd4f8b6c7034daabb411a288e249a6d"
      }
     },
     "metadata": {},
     "output_type": "display_data"
    },
    {
     "data": {
      "text/plain": [
       "dynamicSoaringProblem_4:   0%|          | 0/211577 [00:00<?, ?B/s]"
      ],
      "application/vnd.jupyter.widget-view+json": {
       "version_major": 2,
       "version_minor": 0,
       "model_id": "696703defd6941b78ef8700698c270bb"
      }
     },
     "metadata": {},
     "output_type": "display_data"
    },
    {
     "data": {
      "text/plain": [
       "dynamicSoaringProblem_5:   0%|          | 0/218217 [00:00<?, ?B/s]"
      ],
      "application/vnd.jupyter.widget-view+json": {
       "version_major": 2,
       "version_minor": 0,
       "model_id": "b52f0e10ab294884867969eaafa99d38"
      }
     },
     "metadata": {},
     "output_type": "display_data"
    },
    {
     "data": {
      "text/plain": [
       "dynamicSoaringProblem_6:   0%|          | 0/220200 [00:00<?, ?B/s]"
      ],
      "application/vnd.jupyter.widget-view+json": {
       "version_major": 2,
       "version_minor": 0,
       "model_id": "4c23818a0526468c83525f5c47f57ad9"
      }
     },
     "metadata": {},
     "output_type": "display_data"
    },
    {
     "data": {
      "text/plain": [
       "dynamicSoaringProblem_7:   0%|          | 0/228198 [00:00<?, ?B/s]"
      ],
      "application/vnd.jupyter.widget-view+json": {
       "version_major": 2,
       "version_minor": 0,
       "model_id": "6a30c2fa21f94e919c11b55d189774cf"
      }
     },
     "metadata": {},
     "output_type": "display_data"
    },
    {
     "data": {
      "text/plain": [
       "dynamicSoaringProblem_8:   0%|          | 0/230253 [00:00<?, ?B/s]"
      ],
      "application/vnd.jupyter.widget-view+json": {
       "version_major": 2,
       "version_minor": 0,
       "model_id": "15e718b1f5b248a7a6d40ad06b45ea6f"
      }
     },
     "metadata": {},
     "output_type": "display_data"
    },
    {
     "data": {
      "text/plain": [
       "freeFlyingRobot_1:   0%|          | 0/36952 [00:00<?, ?B/s]"
      ],
      "application/vnd.jupyter.widget-view+json": {
       "version_major": 2,
       "version_minor": 0,
       "model_id": "e4ca777a50884e7d9d8449466b73759b"
      }
     },
     "metadata": {},
     "output_type": "display_data"
    },
    {
     "data": {
      "text/plain": [
       "freeFlyingRobot_2:   0%|          | 0/76224 [00:00<?, ?B/s]"
      ],
      "application/vnd.jupyter.widget-view+json": {
       "version_major": 2,
       "version_minor": 0,
       "model_id": "9431f02919134cf7853e237dd54ea728"
      }
     },
     "metadata": {},
     "output_type": "display_data"
    },
    {
     "data": {
      "text/plain": [
       "freeFlyingRobot_3:   0%|          | 0/87487 [00:00<?, ?B/s]"
      ],
      "application/vnd.jupyter.widget-view+json": {
       "version_major": 2,
       "version_minor": 0,
       "model_id": "d4c60624cca84f5ea4c75884b068984c"
      }
     },
     "metadata": {},
     "output_type": "display_data"
    },
    {
     "data": {
      "text/plain": [
       "freeFlyingRobot_4:   0%|          | 0/113876 [00:00<?, ?B/s]"
      ],
      "application/vnd.jupyter.widget-view+json": {
       "version_major": 2,
       "version_minor": 0,
       "model_id": "98dd69ae190a4b5092c9f4cd538d8f03"
      }
     },
     "metadata": {},
     "output_type": "display_data"
    },
    {
     "data": {
      "text/plain": [
       "freeFlyingRobot_5:   0%|          | 0/152971 [00:00<?, ?B/s]"
      ],
      "application/vnd.jupyter.widget-view+json": {
       "version_major": 2,
       "version_minor": 0,
       "model_id": "15ae0a44a91447649ecb3b40b4b228dc"
      }
     },
     "metadata": {},
     "output_type": "display_data"
    },
    {
     "data": {
      "text/plain": [
       "freeFlyingRobot_6:   0%|          | 0/171045 [00:00<?, ?B/s]"
      ],
      "application/vnd.jupyter.widget-view+json": {
       "version_major": 2,
       "version_minor": 0,
       "model_id": "db130655d90d428e84ff492cf048eeb6"
      }
     },
     "metadata": {},
     "output_type": "display_data"
    },
    {
     "data": {
      "text/plain": [
       "freeFlyingRobot_7:   0%|          | 0/191084 [00:00<?, ?B/s]"
      ],
      "application/vnd.jupyter.widget-view+json": {
       "version_major": 2,
       "version_minor": 0,
       "model_id": "0d83db648c2d4165af9ba5641d6e97a3"
      }
     },
     "metadata": {},
     "output_type": "display_data"
    },
    {
     "data": {
      "text/plain": [
       "freeFlyingRobot_8:   0%|          | 0/224122 [00:00<?, ?B/s]"
      ],
      "application/vnd.jupyter.widget-view+json": {
       "version_major": 2,
       "version_minor": 0,
       "model_id": "1842254eba0f47e392c08f981ddebd3b"
      }
     },
     "metadata": {},
     "output_type": "display_data"
    },
    {
     "data": {
      "text/plain": [
       "freeFlyingRobot_9:   0%|          | 0/250920 [00:00<?, ?B/s]"
      ],
      "application/vnd.jupyter.widget-view+json": {
       "version_major": 2,
       "version_minor": 0,
       "model_id": "c541b9756912477b841b33e90181e237"
      }
     },
     "metadata": {},
     "output_type": "display_data"
    },
    {
     "data": {
      "text/plain": [
       "freeFlyingRobot_10:   0%|          | 0/260885 [00:00<?, ?B/s]"
      ],
      "application/vnd.jupyter.widget-view+json": {
       "version_major": 2,
       "version_minor": 0,
       "model_id": "1c399b48ed0d4c49b4539e5ca1cf5d05"
      }
     },
     "metadata": {},
     "output_type": "display_data"
    },
    {
     "data": {
      "text/plain": [
       "freeFlyingRobot_11:   0%|          | 0/258248 [00:00<?, ?B/s]"
      ],
      "application/vnd.jupyter.widget-view+json": {
       "version_major": 2,
       "version_minor": 0,
       "model_id": "ae5891621e8e4ce3b802f3807bf94697"
      }
     },
     "metadata": {},
     "output_type": "display_data"
    },
    {
     "data": {
      "text/plain": [
       "freeFlyingRobot_12:   0%|          | 0/272017 [00:00<?, ?B/s]"
      ],
      "application/vnd.jupyter.widget-view+json": {
       "version_major": 2,
       "version_minor": 0,
       "model_id": "9a76512292f747e0b021bed030f9f0d5"
      }
     },
     "metadata": {},
     "output_type": "display_data"
    },
    {
     "data": {
      "text/plain": [
       "freeFlyingRobot_13:   0%|          | 0/280591 [00:00<?, ?B/s]"
      ],
      "application/vnd.jupyter.widget-view+json": {
       "version_major": 2,
       "version_minor": 0,
       "model_id": "c869bd1eee2f4578afddc020ec86d25b"
      }
     },
     "metadata": {},
     "output_type": "display_data"
    },
    {
     "data": {
      "text/plain": [
       "freeFlyingRobot_14:   0%|          | 0/288305 [00:00<?, ?B/s]"
      ],
      "application/vnd.jupyter.widget-view+json": {
       "version_major": 2,
       "version_minor": 0,
       "model_id": "54a7a35179ef454c875ae82a83253e1d"
      }
     },
     "metadata": {},
     "output_type": "display_data"
    },
    {
     "data": {
      "text/plain": [
       "freeFlyingRobot_15:   0%|          | 0/285090 [00:00<?, ?B/s]"
      ],
      "application/vnd.jupyter.widget-view+json": {
       "version_major": 2,
       "version_minor": 0,
       "model_id": "f57a3029502b4e4c85e48fb852d1a47a"
      }
     },
     "metadata": {},
     "output_type": "display_data"
    },
    {
     "data": {
      "text/plain": [
       "freeFlyingRobot_16:   0%|          | 0/295966 [00:00<?, ?B/s]"
      ],
      "application/vnd.jupyter.widget-view+json": {
       "version_major": 2,
       "version_minor": 0,
       "model_id": "67eb08cf70c74a599dc9fe1477514dce"
      }
     },
     "metadata": {},
     "output_type": "display_data"
    },
    {
     "data": {
      "text/plain": [
       "goddardRocketProblem_1:   0%|          | 0/53620 [00:00<?, ?B/s]"
      ],
      "application/vnd.jupyter.widget-view+json": {
       "version_major": 2,
       "version_minor": 0,
       "model_id": "8a2b1685414a4da9b5f7b04997ee5e5f"
      }
     },
     "metadata": {},
     "output_type": "display_data"
    },
    {
     "data": {
      "text/plain": [
       "goddardRocketProblem_2:   0%|          | 0/57295 [00:00<?, ?B/s]"
      ],
      "application/vnd.jupyter.widget-view+json": {
       "version_major": 2,
       "version_minor": 0,
       "model_id": "5e0738ffc30942ac86b3983eaeb6b839"
      }
     },
     "metadata": {},
     "output_type": "display_data"
    },
    {
     "data": {
      "text/plain": [
       "hangGlider_1:   0%|          | 0/23071 [00:00<?, ?B/s]"
      ],
      "application/vnd.jupyter.widget-view+json": {
       "version_major": 2,
       "version_minor": 0,
       "model_id": "d62877bf74a6449d9dda7e4745600ff7"
      }
     },
     "metadata": {},
     "output_type": "display_data"
    },
    {
     "data": {
      "text/plain": [
       "hangGlider_2:   0%|          | 0/106144 [00:00<?, ?B/s]"
      ],
      "application/vnd.jupyter.widget-view+json": {
       "version_major": 2,
       "version_minor": 0,
       "model_id": "cfc184f7bd92429f9e9051e89cb2aec8"
      }
     },
     "metadata": {},
     "output_type": "display_data"
    },
    {
     "data": {
      "text/plain": [
       "kineticBatchReactor_1:   0%|          | 0/155530 [00:00<?, ?B/s]"
      ],
      "application/vnd.jupyter.widget-view+json": {
       "version_major": 2,
       "version_minor": 0,
       "model_id": "0934fc14716540fa984e846be4675452"
      }
     },
     "metadata": {},
     "output_type": "display_data"
    },
    {
     "data": {
      "text/plain": [
       "kineticBatchReactor_2:   0%|          | 0/329058 [00:00<?, ?B/s]"
      ],
      "application/vnd.jupyter.widget-view+json": {
       "version_major": 2,
       "version_minor": 0,
       "model_id": "4124261bec5a444cbdd864e336afaf1a"
      }
     },
     "metadata": {},
     "output_type": "display_data"
    },
    {
     "data": {
      "text/plain": [
       "kineticBatchReactor_3:   0%|          | 0/388654 [00:00<?, ?B/s]"
      ],
      "application/vnd.jupyter.widget-view+json": {
       "version_major": 2,
       "version_minor": 0,
       "model_id": "9f19520c62b242c2aa4b97b12b967236"
      }
     },
     "metadata": {},
     "output_type": "display_data"
    },
    {
     "data": {
      "text/plain": [
       "kineticBatchReactor_4:   0%|          | 0/552877 [00:00<?, ?B/s]"
      ],
      "application/vnd.jupyter.widget-view+json": {
       "version_major": 2,
       "version_minor": 0,
       "model_id": "cdac369fe89447e4835ccf5667569cae"
      }
     },
     "metadata": {},
     "output_type": "display_data"
    },
    {
     "data": {
      "text/plain": [
       "lowThrust_1:   0%|          | 0/42730 [00:00<?, ?B/s]"
      ],
      "application/vnd.jupyter.widget-view+json": {
       "version_major": 2,
       "version_minor": 0,
       "model_id": "1d70ff384f274e399a2fed0b4f6268a6"
      }
     },
     "metadata": {},
     "output_type": "display_data"
    },
    {
     "data": {
      "text/plain": [
       "lowThrust_2:   0%|          | 0/180673 [00:00<?, ?B/s]"
      ],
      "application/vnd.jupyter.widget-view+json": {
       "version_major": 2,
       "version_minor": 0,
       "model_id": "c7301a5290bb43f59e1963bb58df1221"
      }
     },
     "metadata": {},
     "output_type": "display_data"
    },
    {
     "data": {
      "text/plain": [
       "lowThrust_3:   0%|          | 0/542022 [00:00<?, ?B/s]"
      ],
      "application/vnd.jupyter.widget-view+json": {
       "version_major": 2,
       "version_minor": 0,
       "model_id": "bba4e90e68c74a00af6cfd19175d314b"
      }
     },
     "metadata": {},
     "output_type": "display_data"
    },
    {
     "data": {
      "text/plain": [
       "orbitRaising_1:   0%|          | 0/24956 [00:00<?, ?B/s]"
      ],
      "application/vnd.jupyter.widget-view+json": {
       "version_major": 2,
       "version_minor": 0,
       "model_id": "90c6d2f7aaf04f99ac634c80f3b82a02"
      }
     },
     "metadata": {},
     "output_type": "display_data"
    },
    {
     "data": {
      "text/plain": [
       "orbitRaising_2:   0%|          | 0/47890 [00:00<?, ?B/s]"
      ],
      "application/vnd.jupyter.widget-view+json": {
       "version_major": 2,
       "version_minor": 0,
       "model_id": "05cf058363f14c37b4364e85691bb438"
      }
     },
     "metadata": {},
     "output_type": "display_data"
    },
    {
     "data": {
      "text/plain": [
       "orbitRaising_3:   0%|          | 0/46843 [00:00<?, ?B/s]"
      ],
      "application/vnd.jupyter.widget-view+json": {
       "version_major": 2,
       "version_minor": 0,
       "model_id": "fe8803d5e8c34fea98d45b5dc9e0d592"
      }
     },
     "metadata": {},
     "output_type": "display_data"
    },
    {
     "data": {
      "text/plain": [
       "orbitRaising_4:   0%|          | 0/56728 [00:00<?, ?B/s]"
      ],
      "application/vnd.jupyter.widget-view+json": {
       "version_major": 2,
       "version_minor": 0,
       "model_id": "e348b39df11f45a1a65d5c5ada4e9420"
      }
     },
     "metadata": {},
     "output_type": "display_data"
    },
    {
     "data": {
      "text/plain": [
       "reorientation_1:   0%|          | 0/51849 [00:00<?, ?B/s]"
      ],
      "application/vnd.jupyter.widget-view+json": {
       "version_major": 2,
       "version_minor": 0,
       "model_id": "0ad3b83394b743c2a8dd8fed649154f9"
      }
     },
     "metadata": {},
     "output_type": "display_data"
    },
    {
     "data": {
      "text/plain": [
       "reorientation_2:   0%|          | 0/125623 [00:00<?, ?B/s]"
      ],
      "application/vnd.jupyter.widget-view+json": {
       "version_major": 2,
       "version_minor": 0,
       "model_id": "3d5d95e356574b489e538ae06467be70"
      }
     },
     "metadata": {},
     "output_type": "display_data"
    },
    {
     "data": {
      "text/plain": [
       "reorientation_3:   0%|          | 0/227631 [00:00<?, ?B/s]"
      ],
      "application/vnd.jupyter.widget-view+json": {
       "version_major": 2,
       "version_minor": 0,
       "model_id": "df553226014e4f05a305b14dd4067d4f"
      }
     },
     "metadata": {},
     "output_type": "display_data"
    },
    {
     "data": {
      "text/plain": [
       "reorientation_4:   0%|          | 0/235538 [00:00<?, ?B/s]"
      ],
      "application/vnd.jupyter.widget-view+json": {
       "version_major": 2,
       "version_minor": 0,
       "model_id": "1aebecf626b342aaa65554883149ac9a"
      }
     },
     "metadata": {},
     "output_type": "display_data"
    },
    {
     "data": {
      "text/plain": [
       "reorientation_5:   0%|          | 0/258393 [00:00<?, ?B/s]"
      ],
      "application/vnd.jupyter.widget-view+json": {
       "version_major": 2,
       "version_minor": 0,
       "model_id": "ffc71bddd53e431193b433705add814e"
      }
     },
     "metadata": {},
     "output_type": "display_data"
    },
    {
     "data": {
      "text/plain": [
       "reorientation_6:   0%|          | 0/266407 [00:00<?, ?B/s]"
      ],
      "application/vnd.jupyter.widget-view+json": {
       "version_major": 2,
       "version_minor": 0,
       "model_id": "dff81d6af2dd4eb7b340fa604655254d"
      }
     },
     "metadata": {},
     "output_type": "display_data"
    },
    {
     "data": {
      "text/plain": [
       "reorientation_7:   0%|          | 0/264418 [00:00<?, ?B/s]"
      ],
      "application/vnd.jupyter.widget-view+json": {
       "version_major": 2,
       "version_minor": 0,
       "model_id": "b9675dba3aae4945ae7c94cd02ff9b4e"
      }
     },
     "metadata": {},
     "output_type": "display_data"
    },
    {
     "data": {
      "text/plain": [
       "reorientation_8:   0%|          | 0/270669 [00:00<?, ?B/s]"
      ],
      "application/vnd.jupyter.widget-view+json": {
       "version_major": 2,
       "version_minor": 0,
       "model_id": "01d7919405e2405e9d015dffdd4b133b"
      }
     },
     "metadata": {},
     "output_type": "display_data"
    },
    {
     "data": {
      "text/plain": [
       "spaceShuttleEntry_1:   0%|          | 0/46675 [00:00<?, ?B/s]"
      ],
      "application/vnd.jupyter.widget-view+json": {
       "version_major": 2,
       "version_minor": 0,
       "model_id": "cd36b5fd8bd848649eeadc5a1edfae66"
      }
     },
     "metadata": {},
     "output_type": "display_data"
    },
    {
     "data": {
      "text/plain": [
       "spaceShuttleEntry_2:   0%|          | 0/139918 [00:00<?, ?B/s]"
      ],
      "application/vnd.jupyter.widget-view+json": {
       "version_major": 2,
       "version_minor": 0,
       "model_id": "1b7c90cc7a8c40beabe460923de6a24b"
      }
     },
     "metadata": {},
     "output_type": "display_data"
    },
    {
     "data": {
      "text/plain": [
       "spaceShuttleEntry_3:   0%|          | 0/180908 [00:00<?, ?B/s]"
      ],
      "application/vnd.jupyter.widget-view+json": {
       "version_major": 2,
       "version_minor": 0,
       "model_id": "0930f2b1254448a8ab10d2348581c688"
      }
     },
     "metadata": {},
     "output_type": "display_data"
    },
    {
     "data": {
      "text/plain": [
       "spaceShuttleEntry_4:   0%|          | 0/245851 [00:00<?, ?B/s]"
      ],
      "application/vnd.jupyter.widget-view+json": {
       "version_major": 2,
       "version_minor": 0,
       "model_id": "6e98cde3344641f4af837b4c65acd79f"
      }
     },
     "metadata": {},
     "output_type": "display_data"
    },
    {
     "data": {
      "text/plain": [
       "spaceStation_1:   0%|          | 0/8718 [00:00<?, ?B/s]"
      ],
      "application/vnd.jupyter.widget-view+json": {
       "version_major": 2,
       "version_minor": 0,
       "model_id": "09b6802135cf4fd09cf77f64f1f0a045"
      }
     },
     "metadata": {},
     "output_type": "display_data"
    },
    {
     "data": {
      "text/plain": [
       "spaceStation_2:   0%|          | 0/34419 [00:00<?, ?B/s]"
      ],
      "application/vnd.jupyter.widget-view+json": {
       "version_major": 2,
       "version_minor": 0,
       "model_id": "059405bb99434a18acafc14bb5084ff8"
      }
     },
     "metadata": {},
     "output_type": "display_data"
    },
    {
     "data": {
      "text/plain": [
       "spaceStation_3:   0%|          | 0/37484 [00:00<?, ?B/s]"
      ],
      "application/vnd.jupyter.widget-view+json": {
       "version_major": 2,
       "version_minor": 0,
       "model_id": "1f40b183151f48f2b8183b13bb232a5b"
      }
     },
     "metadata": {},
     "output_type": "display_data"
    },
    {
     "data": {
      "text/plain": [
       "spaceStation_4:   0%|          | 0/85718 [00:00<?, ?B/s]"
      ],
      "application/vnd.jupyter.widget-view+json": {
       "version_major": 2,
       "version_minor": 0,
       "model_id": "d0c94659b7dd4f659784fe4269127ba5"
      }
     },
     "metadata": {},
     "output_type": "display_data"
    },
    {
     "data": {
      "text/plain": [
       "spaceStation_5:   0%|          | 0/94464 [00:00<?, ?B/s]"
      ],
      "application/vnd.jupyter.widget-view+json": {
       "version_major": 2,
       "version_minor": 0,
       "model_id": "05043ae3e7c84ffe871f94596dd2d553"
      }
     },
     "metadata": {},
     "output_type": "display_data"
    },
    {
     "data": {
      "text/plain": [
       "spaceStation_6:   0%|          | 0/105741 [00:00<?, ?B/s]"
      ],
      "application/vnd.jupyter.widget-view+json": {
       "version_major": 2,
       "version_minor": 0,
       "model_id": "7e3cdd03539a4893abb0502afefe91f7"
      }
     },
     "metadata": {},
     "output_type": "display_data"
    },
    {
     "data": {
      "text/plain": [
       "spaceStation_7:   0%|          | 0/109038 [00:00<?, ?B/s]"
      ],
      "application/vnd.jupyter.widget-view+json": {
       "version_major": 2,
       "version_minor": 0,
       "model_id": "4255051eb7d34510a904bcd7d0dcbc08"
      }
     },
     "metadata": {},
     "output_type": "display_data"
    },
    {
     "data": {
      "text/plain": [
       "spaceStation_8:   0%|          | 0/110395 [00:00<?, ?B/s]"
      ],
      "application/vnd.jupyter.widget-view+json": {
       "version_major": 2,
       "version_minor": 0,
       "model_id": "d3b27396200c40acb36b2f7c1400d991"
      }
     },
     "metadata": {},
     "output_type": "display_data"
    },
    {
     "data": {
      "text/plain": [
       "spaceStation_9:   0%|          | 0/120807 [00:00<?, ?B/s]"
      ],
      "application/vnd.jupyter.widget-view+json": {
       "version_major": 2,
       "version_minor": 0,
       "model_id": "c94536adb6814a2c838d2d2b50220b2c"
      }
     },
     "metadata": {},
     "output_type": "display_data"
    },
    {
     "data": {
      "text/plain": [
       "spaceStation_10:   0%|          | 0/111364 [00:00<?, ?B/s]"
      ],
      "application/vnd.jupyter.widget-view+json": {
       "version_major": 2,
       "version_minor": 0,
       "model_id": "3aef771f54cb47fabf3d882ec36e84bc"
      }
     },
     "metadata": {},
     "output_type": "display_data"
    },
    {
     "data": {
      "text/plain": [
       "spaceStation_11:   0%|          | 0/123359 [00:00<?, ?B/s]"
      ],
      "application/vnd.jupyter.widget-view+json": {
       "version_major": 2,
       "version_minor": 0,
       "model_id": "7957c5f7d37c4355abacdd4913c5800b"
      }
     },
     "metadata": {},
     "output_type": "display_data"
    },
    {
     "data": {
      "text/plain": [
       "spaceStation_12:   0%|          | 0/129482 [00:00<?, ?B/s]"
      ],
      "application/vnd.jupyter.widget-view+json": {
       "version_major": 2,
       "version_minor": 0,
       "model_id": "be7f18f868b441949951cfdefca92738"
      }
     },
     "metadata": {},
     "output_type": "display_data"
    },
    {
     "data": {
      "text/plain": [
       "spaceStation_13:   0%|          | 0/152387 [00:00<?, ?B/s]"
      ],
      "application/vnd.jupyter.widget-view+json": {
       "version_major": 2,
       "version_minor": 0,
       "model_id": "9c275cc63c7b4b58821f881f5d4a6cf5"
      }
     },
     "metadata": {},
     "output_type": "display_data"
    },
    {
     "data": {
      "text/plain": [
       "spaceStation_14:   0%|          | 0/160669 [00:00<?, ?B/s]"
      ],
      "application/vnd.jupyter.widget-view+json": {
       "version_major": 2,
       "version_minor": 0,
       "model_id": "62393b740c4d4e44898390d04199d001"
      }
     },
     "metadata": {},
     "output_type": "display_data"
    },
    {
     "data": {
      "text/plain": [
       "tumorAntiAngiogenesis_1:   0%|          | 0/13398 [00:00<?, ?B/s]"
      ],
      "application/vnd.jupyter.widget-view+json": {
       "version_major": 2,
       "version_minor": 0,
       "model_id": "32a118e6dd8e4a3ba197b3479f379ce7"
      }
     },
     "metadata": {},
     "output_type": "display_data"
    },
    {
     "data": {
      "text/plain": [
       "tumorAntiAngiogenesis_2:   0%|          | 0/20096 [00:00<?, ?B/s]"
      ],
      "application/vnd.jupyter.widget-view+json": {
       "version_major": 2,
       "version_minor": 0,
       "model_id": "55ccedd9538d400fac4b4a2534f5faba"
      }
     },
     "metadata": {},
     "output_type": "display_data"
    },
    {
     "data": {
      "text/plain": [
       "tumorAntiAngiogenesis_3:   0%|          | 0/28574 [00:00<?, ?B/s]"
      ],
      "application/vnd.jupyter.widget-view+json": {
       "version_major": 2,
       "version_minor": 0,
       "model_id": "3a2083015d2148eebcc872977c12d096"
      }
     },
     "metadata": {},
     "output_type": "display_data"
    },
    {
     "data": {
      "text/plain": [
       "tumorAntiAngiogenesis_4:   0%|          | 0/32399 [00:00<?, ?B/s]"
      ],
      "application/vnd.jupyter.widget-view+json": {
       "version_major": 2,
       "version_minor": 0,
       "model_id": "98d195c893644c40aebc1a24556ce71f"
      }
     },
     "metadata": {},
     "output_type": "display_data"
    },
    {
     "data": {
      "text/plain": [
       "tumorAntiAngiogenesis_5:   0%|          | 0/33788 [00:00<?, ?B/s]"
      ],
      "application/vnd.jupyter.widget-view+json": {
       "version_major": 2,
       "version_minor": 0,
       "model_id": "f8bba677ad1d49769512fea9e81b3532"
      }
     },
     "metadata": {},
     "output_type": "display_data"
    },
    {
     "data": {
      "text/plain": [
       "tumorAntiAngiogenesis_6:   0%|          | 0/33645 [00:00<?, ?B/s]"
      ],
      "application/vnd.jupyter.widget-view+json": {
       "version_major": 2,
       "version_minor": 0,
       "model_id": "1b5a8b1ec41f411aa731b7b1c3cba11f"
      }
     },
     "metadata": {},
     "output_type": "display_data"
    },
    {
     "data": {
      "text/plain": [
       "tumorAntiAngiogenesis_7:   0%|          | 0/33410 [00:00<?, ?B/s]"
      ],
      "application/vnd.jupyter.widget-view+json": {
       "version_major": 2,
       "version_minor": 0,
       "model_id": "3e1018a7028e463fa3d279e09e917aed"
      }
     },
     "metadata": {},
     "output_type": "display_data"
    },
    {
     "data": {
      "text/plain": [
       "tumorAntiAngiogenesis_8:   0%|          | 0/34510 [00:00<?, ?B/s]"
      ],
      "application/vnd.jupyter.widget-view+json": {
       "version_major": 2,
       "version_minor": 0,
       "model_id": "53cc11d565c648cab9f17eeaf5f45f3e"
      }
     },
     "metadata": {},
     "output_type": "display_data"
    },
    {
     "data": {
      "text/plain": [
       "mycielskian2:   0%|          | 0/751 [00:00<?, ?B/s]"
      ],
      "application/vnd.jupyter.widget-view+json": {
       "version_major": 2,
       "version_minor": 0,
       "model_id": "75cf4245577446ee97f32b57d32f363f"
      }
     },
     "metadata": {},
     "output_type": "display_data"
    },
    {
     "data": {
      "text/plain": [
       "mycielskian3:   0%|          | 0/766 [00:00<?, ?B/s]"
      ],
      "application/vnd.jupyter.widget-view+json": {
       "version_major": 2,
       "version_minor": 0,
       "model_id": "09dfb128e8104c50a4aa4cf20e902d28"
      }
     },
     "metadata": {},
     "output_type": "display_data"
    },
    {
     "data": {
      "text/plain": [
       "mycielskian4:   0%|          | 0/806 [00:00<?, ?B/s]"
      ],
      "application/vnd.jupyter.widget-view+json": {
       "version_major": 2,
       "version_minor": 0,
       "model_id": "3db06f144c5740e6ae9bb83422583c17"
      }
     },
     "metadata": {},
     "output_type": "display_data"
    },
    {
     "data": {
      "text/plain": [
       "mycielskian5:   0%|          | 0/932 [00:00<?, ?B/s]"
      ],
      "application/vnd.jupyter.widget-view+json": {
       "version_major": 2,
       "version_minor": 0,
       "model_id": "a3bad4cf83ae4d849b4550881e5639a9"
      }
     },
     "metadata": {},
     "output_type": "display_data"
    },
    {
     "data": {
      "text/plain": [
       "mycielskian6:   0%|          | 0/1298 [00:00<?, ?B/s]"
      ],
      "application/vnd.jupyter.widget-view+json": {
       "version_major": 2,
       "version_minor": 0,
       "model_id": "a4a2cccab7f2477bafb8daddf671ecc3"
      }
     },
     "metadata": {},
     "output_type": "display_data"
    },
    {
     "data": {
      "text/plain": [
       "mycielskian7:   0%|          | 0/2413 [00:00<?, ?B/s]"
      ],
      "application/vnd.jupyter.widget-view+json": {
       "version_major": 2,
       "version_minor": 0,
       "model_id": "792497bd9955495089c3fbe78c35573b"
      }
     },
     "metadata": {},
     "output_type": "display_data"
    },
    {
     "data": {
      "text/plain": [
       "mycielskian8:   0%|          | 0/6309 [00:00<?, ?B/s]"
      ],
      "application/vnd.jupyter.widget-view+json": {
       "version_major": 2,
       "version_minor": 0,
       "model_id": "82553ba0dd844e9688cac6ac4c3d57d2"
      }
     },
     "metadata": {},
     "output_type": "display_data"
    },
    {
     "data": {
      "text/plain": [
       "mycielskian9:   0%|          | 0/18456 [00:00<?, ?B/s]"
      ],
      "application/vnd.jupyter.widget-view+json": {
       "version_major": 2,
       "version_minor": 0,
       "model_id": "d1dc18a5c0204f4a852115efcff77a18"
      }
     },
     "metadata": {},
     "output_type": "display_data"
    },
    {
     "data": {
      "text/plain": [
       "mycielskian10:   0%|          | 0/52793 [00:00<?, ?B/s]"
      ],
      "application/vnd.jupyter.widget-view+json": {
       "version_major": 2,
       "version_minor": 0,
       "model_id": "c25c41a9a82249dfb1213f1f1811da01"
      }
     },
     "metadata": {},
     "output_type": "display_data"
    },
    {
     "data": {
      "text/plain": [
       "mycielskian11:   0%|          | 0/161125 [00:00<?, ?B/s]"
      ],
      "application/vnd.jupyter.widget-view+json": {
       "version_major": 2,
       "version_minor": 0,
       "model_id": "2e8d400d92214ce49100d86dccee2cba"
      }
     },
     "metadata": {},
     "output_type": "display_data"
    },
    {
     "data": {
      "text/plain": [
       "mycielskian12:   0%|          | 0/484251 [00:00<?, ?B/s]"
      ],
      "application/vnd.jupyter.widget-view+json": {
       "version_major": 2,
       "version_minor": 0,
       "model_id": "af438d93a019496589b62aa9d75e8db2"
      }
     },
     "metadata": {},
     "output_type": "display_data"
    },
    {
     "data": {
      "text/plain": [
       "mycielskian13:   0%|          | 0/1469030 [00:00<?, ?B/s]"
      ],
      "application/vnd.jupyter.widget-view+json": {
       "version_major": 2,
       "version_minor": 0,
       "model_id": "781ae29d38d5488a8bae902d040f9fb3"
      }
     },
     "metadata": {},
     "output_type": "display_data"
    },
    {
     "data": {
      "text/plain": [
       "CollegeMsg:   0%|          | 0/417252 [00:00<?, ?B/s]"
      ],
      "application/vnd.jupyter.widget-view+json": {
       "version_major": 2,
       "version_minor": 0,
       "model_id": "55118e0f5cdc483e85b978d2277b6267"
      }
     },
     "metadata": {},
     "output_type": "display_data"
    },
    {
     "data": {
      "text/plain": [
       "email-Eu-core:   0%|          | 0/68157 [00:00<?, ?B/s]"
      ],
      "application/vnd.jupyter.widget-view+json": {
       "version_major": 2,
       "version_minor": 0,
       "model_id": "79571b75fb7443c58b01b57cac71a098"
      }
     },
     "metadata": {},
     "output_type": "display_data"
    },
    {
     "data": {
      "text/plain": [
       "email-Eu-core-temporal:   0%|          | 0/2174733 [00:00<?, ?B/s]"
      ],
      "application/vnd.jupyter.widget-view+json": {
       "version_major": 2,
       "version_minor": 0,
       "model_id": "72c3f3ba173d4782a53b5e15a27d19ed"
      }
     },
     "metadata": {},
     "output_type": "display_data"
    },
    {
     "data": {
      "text/plain": [
       "soc-sign-bitcoin-alpha:   0%|          | 0/339321 [00:00<?, ?B/s]"
      ],
      "application/vnd.jupyter.widget-view+json": {
       "version_major": 2,
       "version_minor": 0,
       "model_id": "4af1afd7fd1c4c29b544825d79448dc4"
      }
     },
     "metadata": {},
     "output_type": "display_data"
    },
    {
     "data": {
      "text/plain": [
       "soc-sign-bitcoin-otc:   0%|          | 0/903536 [00:00<?, ?B/s]"
      ],
      "application/vnd.jupyter.widget-view+json": {
       "version_major": 2,
       "version_minor": 0,
       "model_id": "0b9d6a15924647e4a48a696b72b83bc1"
      }
     },
     "metadata": {},
     "output_type": "display_data"
    },
    {
     "data": {
      "text/plain": [
       "Goodwin_010:   0%|          | 0/164731 [00:00<?, ?B/s]"
      ],
      "application/vnd.jupyter.widget-view+json": {
       "version_major": 2,
       "version_minor": 0,
       "model_id": "5f63cce9e0ae4f61b87b031847ac9198"
      }
     },
     "metadata": {},
     "output_type": "display_data"
    },
    {
     "data": {
      "text/plain": [
       "Goodwin_013:   0%|          | 0/287832 [00:00<?, ?B/s]"
      ],
      "application/vnd.jupyter.widget-view+json": {
       "version_major": 2,
       "version_minor": 0,
       "model_id": "c812986f9ace4b599404864eb07a9f4b"
      }
     },
     "metadata": {},
     "output_type": "display_data"
    },
    {
     "data": {
      "text/plain": [
       "Goodwin_017:   0%|          | 0/497151 [00:00<?, ?B/s]"
      ],
      "application/vnd.jupyter.widget-view+json": {
       "version_major": 2,
       "version_minor": 0,
       "model_id": "7afd7d5ef8654f389056feaf0b7ecfa5"
      }
     },
     "metadata": {},
     "output_type": "display_data"
    },
    {
     "data": {
      "text/plain": [
       "Goodwin_023:   0%|          | 0/936228 [00:00<?, ?B/s]"
      ],
      "application/vnd.jupyter.widget-view+json": {
       "version_major": 2,
       "version_minor": 0,
       "model_id": "546852818d2f4cf7bf80ff9dbdfd39b8"
      }
     },
     "metadata": {},
     "output_type": "display_data"
    },
    {
     "data": {
      "text/plain": [
       "ACTIVSg2000:   0%|          | 0/343310 [00:00<?, ?B/s]"
      ],
      "application/vnd.jupyter.widget-view+json": {
       "version_major": 2,
       "version_minor": 0,
       "model_id": "45ef1a5c19bf45f6b19ba3f66abd5ec1"
      }
     },
     "metadata": {},
     "output_type": "display_data"
    },
    {
     "data": {
      "text/plain": [
       "dendrimer:   0%|          | 0/212153 [00:00<?, ?B/s]"
      ],
      "application/vnd.jupyter.widget-view+json": {
       "version_major": 2,
       "version_minor": 0,
       "model_id": "1cd95ab060dd410e8df92100fe613648"
      }
     },
     "metadata": {},
     "output_type": "display_data"
    },
    {
     "data": {
      "text/plain": [
       "Binaryalphadigs_10NN:   0%|          | 0/80762 [00:00<?, ?B/s]"
      ],
      "application/vnd.jupyter.widget-view+json": {
       "version_major": 2,
       "version_minor": 0,
       "model_id": "384cc8556bb242b79422ad9e281f2e3f"
      }
     },
     "metadata": {},
     "output_type": "display_data"
    },
    {
     "data": {
      "text/plain": [
       "breasttissue_10NN:   0%|          | 0/9480 [00:00<?, ?B/s]"
      ],
      "application/vnd.jupyter.widget-view+json": {
       "version_major": 2,
       "version_minor": 0,
       "model_id": "518534e7fe7742509ac18d80070174a9"
      }
     },
     "metadata": {},
     "output_type": "display_data"
    },
    {
     "data": {
      "text/plain": [
       "cnae9_10NN:   0%|          | 0/41803 [00:00<?, ?B/s]"
      ],
      "application/vnd.jupyter.widget-view+json": {
       "version_major": 2,
       "version_minor": 0,
       "model_id": "4a00f1c39a5a47439d5eedfe1dc3e688"
      }
     },
     "metadata": {},
     "output_type": "display_data"
    },
    {
     "data": {
      "text/plain": [
       "collins_15NN:   0%|          | 0/96515 [00:00<?, ?B/s]"
      ],
      "application/vnd.jupyter.widget-view+json": {
       "version_major": 2,
       "version_minor": 0,
       "model_id": "5baa64330c304c6eb88303ac89479256"
      }
     },
     "metadata": {},
     "output_type": "display_data"
    },
    {
     "data": {
      "text/plain": [
       "dataset12mfeatfactors_10NN:   0%|          | 0/162231 [00:00<?, ?B/s]"
      ],
      "application/vnd.jupyter.widget-view+json": {
       "version_major": 2,
       "version_minor": 0,
       "model_id": "db5ce02dc5454b3cad097803e543667c"
      }
     },
     "metadata": {},
     "output_type": "display_data"
    },
    {
     "data": {
      "text/plain": [
       "dataset16mfeatkarhunen_10NN:   0%|          | 0/162702 [00:00<?, ?B/s]"
      ],
      "application/vnd.jupyter.widget-view+json": {
       "version_major": 2,
       "version_minor": 0,
       "model_id": "018dda086cea47bfb43a7419ef45aeaa"
      }
     },
     "metadata": {},
     "output_type": "display_data"
    },
    {
     "data": {
      "text/plain": [
       "dataset18mfeatmorphological_10NN:   0%|          | 0/131812 [00:00<?, ?B/s]"
      ],
      "application/vnd.jupyter.widget-view+json": {
       "version_major": 2,
       "version_minor": 0,
       "model_id": "5323847c48074218935db76b3b39c1f5"
      }
     },
     "metadata": {},
     "output_type": "display_data"
    },
    {
     "data": {
      "text/plain": [
       "dataset20mfeatpixel_10NN:   0%|          | 0/161987 [00:00<?, ?B/s]"
      ],
      "application/vnd.jupyter.widget-view+json": {
       "version_major": 2,
       "version_minor": 0,
       "model_id": "4c59323cf4f744e5a2affe2ec38f595d"
      }
     },
     "metadata": {},
     "output_type": "display_data"
    },
    {
     "data": {
      "text/plain": [
       "dataset22mfeatzernike_10NN:   0%|          | 0/161225 [00:00<?, ?B/s]"
      ],
      "application/vnd.jupyter.widget-view+json": {
       "version_major": 2,
       "version_minor": 0,
       "model_id": "519d8681597b4b9289a32dac368b30b8"
      }
     },
     "metadata": {},
     "output_type": "display_data"
    },
    {
     "data": {
      "text/plain": [
       "dermatology_5NN:   0%|          | 0/10515 [00:00<?, ?B/s]"
      ],
      "application/vnd.jupyter.widget-view+json": {
       "version_major": 2,
       "version_minor": 0,
       "model_id": "394e4345e82246e7ac0b0f9bc85360ac"
      }
     },
     "metadata": {},
     "output_type": "display_data"
    },
    {
     "data": {
      "text/plain": [
       "Ecoli_10NN:   0%|          | 0/27740 [00:00<?, ?B/s]"
      ],
      "application/vnd.jupyter.widget-view+json": {
       "version_major": 2,
       "version_minor": 0,
       "model_id": "7db6d4cfca7943b0aedcf086dd0cbef3"
      }
     },
     "metadata": {},
     "output_type": "display_data"
    },
    {
     "data": {
      "text/plain": [
       "Glass_10NN:   0%|          | 0/19119 [00:00<?, ?B/s]"
      ],
      "application/vnd.jupyter.widget-view+json": {
       "version_major": 2,
       "version_minor": 0,
       "model_id": "968aa61a481648fba6c113d8a87dad09"
      }
     },
     "metadata": {},
     "output_type": "display_data"
    },
    {
     "data": {
      "text/plain": [
       "iris_dataset_30NN:   0%|          | 0/29245 [00:00<?, ?B/s]"
      ],
      "application/vnd.jupyter.widget-view+json": {
       "version_major": 2,
       "version_minor": 0,
       "model_id": "cc3e8675aeed436592725d36117983d7"
      }
     },
     "metadata": {},
     "output_type": "display_data"
    },
    {
     "data": {
      "text/plain": [
       "mice_10NN:   0%|          | 0/78428 [00:00<?, ?B/s]"
      ],
      "application/vnd.jupyter.widget-view+json": {
       "version_major": 2,
       "version_minor": 0,
       "model_id": "2d014db3e9074fb9a2d71b02045d1f70"
      }
     },
     "metadata": {},
     "output_type": "display_data"
    },
    {
     "data": {
      "text/plain": [
       "micromass_10NN:   0%|          | 0/57569 [00:00<?, ?B/s]"
      ],
      "application/vnd.jupyter.widget-view+json": {
       "version_major": 2,
       "version_minor": 0,
       "model_id": "153c4a3db08c4e3aaf1e8484b761f791"
      }
     },
     "metadata": {},
     "output_type": "display_data"
    },
    {
     "data": {
      "text/plain": [
       "Olivetti_norm_10NN:   0%|          | 0/34246 [00:00<?, ?B/s]"
      ],
      "application/vnd.jupyter.widget-view+json": {
       "version_major": 2,
       "version_minor": 0,
       "model_id": "cdabd8dba2a04d08aaaccc6408756c7d"
      }
     },
     "metadata": {},
     "output_type": "display_data"
    },
    {
     "data": {
      "text/plain": [
       "optdigits_10NN:   0%|          | 0/478572 [00:00<?, ?B/s]"
      ],
      "application/vnd.jupyter.widget-view+json": {
       "version_major": 2,
       "version_minor": 0,
       "model_id": "4e437ae387754fecafc46f1ea3830e4c"
      }
     },
     "metadata": {},
     "output_type": "display_data"
    },
    {
     "data": {
      "text/plain": [
       "Plants_10NN:   0%|          | 0/130150 [00:00<?, ?B/s]"
      ],
      "application/vnd.jupyter.widget-view+json": {
       "version_major": 2,
       "version_minor": 0,
       "model_id": "d2af924881c84a07bb9bed36d701e460"
      }
     },
     "metadata": {},
     "output_type": "display_data"
    },
    {
     "data": {
      "text/plain": [
       "plantsmargin_12NN:   0%|          | 0/151077 [00:00<?, ?B/s]"
      ],
      "application/vnd.jupyter.widget-view+json": {
       "version_major": 2,
       "version_minor": 0,
       "model_id": "132a6b08ae114ff092509db6f31b8b5a"
      }
     },
     "metadata": {},
     "output_type": "display_data"
    },
    {
     "data": {
      "text/plain": [
       "plantstexture_10NN:   0%|          | 0/126369 [00:00<?, ?B/s]"
      ],
      "application/vnd.jupyter.widget-view+json": {
       "version_major": 2,
       "version_minor": 0,
       "model_id": "c13c414535e2498f83a5b7eaf36f0a2e"
      }
     },
     "metadata": {},
     "output_type": "display_data"
    },
    {
     "data": {
      "text/plain": [
       "semeion_10NN:   0%|          | 0/85567 [00:00<?, ?B/s]"
      ],
      "application/vnd.jupyter.widget-view+json": {
       "version_major": 2,
       "version_minor": 0,
       "model_id": "e266257f310b404bbd0430e68535e0a5"
      }
     },
     "metadata": {},
     "output_type": "display_data"
    },
    {
     "data": {
      "text/plain": [
       "Spectro_10NN:   0%|          | 0/46066 [00:00<?, ?B/s]"
      ],
      "application/vnd.jupyter.widget-view+json": {
       "version_major": 2,
       "version_minor": 0,
       "model_id": "a6d6c0e50f194e04a6a120c3ff03e999"
      }
     },
     "metadata": {},
     "output_type": "display_data"
    },
    {
     "data": {
      "text/plain": [
       "umistfacesnorm_10NN:   0%|          | 0/41257 [00:00<?, ?B/s]"
      ],
      "application/vnd.jupyter.widget-view+json": {
       "version_major": 2,
       "version_minor": 0,
       "model_id": "13a8391c793f45d6ac7c689c35b5bc1f"
      }
     },
     "metadata": {},
     "output_type": "display_data"
    },
    {
     "data": {
      "text/plain": [
       "Vehicle_10NN:   0%|          | 0/66139 [00:00<?, ?B/s]"
      ],
      "application/vnd.jupyter.widget-view+json": {
       "version_major": 2,
       "version_minor": 0,
       "model_id": "2dcd94b0f59f4ff99ba5dfa748b580c1"
      }
     },
     "metadata": {},
     "output_type": "display_data"
    },
    {
     "data": {
      "text/plain": [
       "YaleA_10NN:   0%|          | 0/14562 [00:00<?, ?B/s]"
      ],
      "application/vnd.jupyter.widget-view+json": {
       "version_major": 2,
       "version_minor": 0,
       "model_id": "a0912524876c4c988c53af1bf58b93a6"
      }
     },
     "metadata": {},
     "output_type": "display_data"
    },
    {
     "data": {
      "text/plain": [
       "YaleB_10NN:   0%|          | 0/207986 [00:00<?, ?B/s]"
      ],
      "application/vnd.jupyter.widget-view+json": {
       "version_major": 2,
       "version_minor": 0,
       "model_id": "1e0c1775a0c44ff6bad1b9540558f436"
      }
     },
     "metadata": {},
     "output_type": "display_data"
    },
    {
     "data": {
      "text/plain": [
       "yeast_30NN:   0%|          | 0/355956 [00:00<?, ?B/s]"
      ],
      "application/vnd.jupyter.widget-view+json": {
       "version_major": 2,
       "version_minor": 0,
       "model_id": "c3c8db671c9e45029a799e1ef1f1ec08"
      }
     },
     "metadata": {},
     "output_type": "display_data"
    },
    {
     "name": "stderr",
     "output_type": "stream",
     "text": [
      "Processing...\n"
     ]
    },
    {
     "data": {
      "text/plain": [
       "Load graphs:   0%|          | 0/1082 [00:00<?, ?it/s]"
      ],
      "application/vnd.jupyter.widget-view+json": {
       "version_major": 2,
       "version_minor": 0,
       "model_id": "f741a20e1c174baab8c0ac6eedfff891"
      }
     },
     "metadata": {},
     "output_type": "display_data"
    },
    {
     "name": "stderr",
     "output_type": "stream",
     "text": [
      "/opt/homebrew/Caskroom/mambaforge/base/lib/python3.10/site-packages/torch/functional.py:507: UserWarning: torch.meshgrid: in an upcoming release, it will be required to pass the indexing argument. (Triggered internally at /Users/runner/work/_temp/anaconda/conda-bld/pytorch_1704987091277/work/aten/src/ATen/native/TensorShape.cpp:3550.)\n",
      "  return _VF.meshgrid(tensors, **kwargs)  # type: ignore[attr-defined]\n"
     ]
    },
    {
     "name": "stdout",
     "output_type": "stream",
     "text": [
      "Saving 1138_bus\n",
      "Saving 494_bus\n",
      "Saving 662_bus\n",
      "Saving 685_bus\n",
      "Saving arc130\n",
      "Saving ash292\n",
      "Saving ash85\n",
      "Saving bcspwr01\n",
      "Saving bcspwr02\n",
      "Saving bcspwr03\n",
      "Saving bcspwr04\n",
      "Saving bcspwr05\n",
      "Saving bcspwr06\n",
      "Saving bcspwr07\n",
      "Saving bcspwr08\n",
      "Saving bcspwr09\n",
      "Saving bcspwr10\n",
      "Saving bcsstk01\n",
      "Saving bcsstk02\n",
      "Saving bcsstk04\n",
      "Saving bcsstk05\n",
      "Saving bcsstk06\n",
      "Saving bcsstk07\n",
      "Saving bcsstk09\n",
      "Saving bcsstk13\n",
      "Saving bcsstk19\n",
      "Saving bcsstk23\n",
      "Saving bcsstk24\n",
      "Saving bcsstk26\n",
      "Saving bcsstk27\n",
      "Saving bcsstk28\n",
      "Saving bcsstm07\n",
      "Saving bcsstm27\n",
      "Saving bp_0\n",
      "Saving bp_1000\n",
      "Saving bp_1200\n",
      "Saving bp_1400\n",
      "Saving bp_1600\n",
      "Saving bp_200\n",
      "Saving bp_400\n",
      "Saving bp_600\n",
      "Saving bp_800\n",
      "Saving can_1054\n",
      "Saving can_1072\n",
      "Saving can_144\n",
      "Saving can_161\n",
      "Saving can_187\n",
      "Saving can_229\n",
      "Saving can_24\n",
      "Saving can_256\n",
      "Saving can_268\n",
      "Saving can_292\n",
      "Saving can_445\n",
      "Saving can_61\n",
      "Saving can_62\n",
      "Saving can_634\n",
      "Saving can_715\n",
      "Saving can_73\n",
      "Saving can_838\n",
      "Saving can_96\n",
      "Saving curtis54\n",
      "Saving dwt_1005\n",
      "Saving dwt_1007\n",
      "Saving dwt_1242\n",
      "Saving dwt_162\n",
      "Saving dwt_193\n",
      "Saving dwt_209\n",
      "Saving dwt_221\n",
      "Saving dwt_245\n",
      "Saving dwt_2680\n",
      "Saving dwt_307\n",
      "Saving dwt_310\n",
      "Saving dwt_361\n",
      "Saving dwt_419\n",
      "Saving dwt_503\n",
      "Saving dwt_59\n",
      "Saving dwt_592\n",
      "Saving dwt_66\n",
      "Saving dwt_72\n",
      "Saving dwt_758\n",
      "Saving dwt_869\n",
      "Saving dwt_87\n",
      "Saving dwt_878\n",
      "Saving dwt_918\n",
      "Saving dwt_992\n",
      "Saving fs_183_1\n",
      "Saving fs_183_3\n",
      "Saving fs_183_4\n",
      "Saving fs_183_6\n",
      "Saving fs_541_1\n",
      "Saving fs_541_2\n",
      "Saving fs_541_3\n",
      "Saving fs_541_4\n",
      "Saving fs_680_1\n",
      "Saving fs_680_2\n",
      "Saving fs_680_3\n",
      "Saving fs_760_1\n",
      "Saving fs_760_2\n",
      "Saving fs_760_3\n",
      "Saving gemat12\n",
      "Saving gr_30_30\n",
      "Saving gre_115\n",
      "Saving gre_185\n",
      "Saving hor_131\n",
      "Saving ibm32\n",
      "Saving impcol_b\n",
      "Saving impcol_c\n",
      "Saving impcol_d\n",
      "Saving impcol_e\n",
      "Saving jagmesh1\n",
      "Saving jagmesh2\n",
      "Saving jagmesh3\n",
      "Saving jagmesh4\n",
      "Saving jagmesh5\n",
      "Saving jagmesh6\n",
      "Saving jagmesh7\n",
      "Saving jagmesh8\n",
      "Saving jagmesh9\n",
      "Saving jgl009\n",
      "Saving jgl011\n",
      "Saving lshp1009\n",
      "Saving lshp1270\n",
      "Saving lshp1561\n",
      "Saving lshp1882\n",
      "Saving lshp2233\n",
      "Saving lshp2614\n",
      "Saving lshp3025\n",
      "Saving lshp3466\n",
      "Saving lshp_265\n",
      "Saving lshp_406\n",
      "Saving lshp_577\n",
      "Saving lshp_778\n",
      "Saving lund_a\n",
      "Saving lund_b\n",
      "Saving mahindas\n",
      "Saving nnc1374\n",
      "Saving nnc261\n",
      "Saving nnc666\n",
      "Saving nos3\n",
      "Saving nos4\n",
      "Saving nos5\n",
      "Saving nos6\n",
      "Saving nos7\n",
      "Saving orani678\n",
      "Saving orsirr_1\n",
      "Saving orsirr_2\n",
      "Saving orsreg_1\n",
      "Saving plat1919\n",
      "Saving plat362\n",
      "Saving plsk1919\n",
      "Saving plskz362\n",
      "Saving pores_1\n",
      "Saving pores_2\n",
      "Saving psmigr_1\n",
      "Saving psmigr_2\n",
      "Saving psmigr_3\n",
      "Saving rgg010\n",
      "Saving saylr1\n",
      "Saving saylr4\n",
      "Saving steam1\n",
      "Saving steam2\n",
      "Saving steam3\n",
      "Saving str_0\n",
      "Saving str_200\n",
      "Saving str_400\n",
      "Saving str_600\n",
      "Saving watt_1\n",
      "Saving watt_2\n",
      "Saving west0067\n",
      "Saving west0132\n",
      "Saving west0167\n",
      "Saving west0381\n",
      "Saving west0479\n",
      "Saving west0497\n",
      "Saving west0655\n",
      "Saving west0989\n",
      "Saving west1505\n",
      "Saving west2021\n",
      "Saving will199\n",
      "Saving will57\n",
      "Saving young1c\n",
      "Saving young2c\n",
      "Saving young3c\n",
      "Saving young4c\n",
      "Saving epb0\n",
      "Saving bfwa398\n",
      "Saving bfwa62\n",
      "Saving bfwa782\n",
      "Saving bwm200\n",
      "Saving bwm2000\n",
      "Saving cdde1\n",
      "Saving cdde2\n",
      "Saving cdde3\n",
      "Saving cdde4\n",
      "Saving cdde5\n",
      "Saving cdde6\n",
      "Saving dw1024\n",
      "Saving dw256a\n",
      "Saving dw256b\n",
      "Saving lop163\n",
      "Saving odepa400\n",
      "Saving olm100\n",
      "Saving olm1000\n",
      "Saving olm2000\n",
      "Saving olm500\n",
      "Saving olm5000\n",
      "Saving pde225\n",
      "Saving pde2961\n",
      "Saving pde900\n",
      "Saving qc2534\n",
      "Saving qc324\n",
      "Saving qh882\n",
      "Saving rbsa480\n",
      "Saving rbsb480\n",
      "Saving rdb2048\n",
      "Saving rdb5000\n",
      "Saving rdb968\n",
      "Saving rw136\n",
      "Saving rw496\n",
      "Saving rw5151\n",
      "Saving tub100\n",
      "Saving tub1000\n",
      "Saving bcsstk34\n",
      "Saving bcsstm34\n",
      "Saving crystk01\n",
      "Saving msc00726\n",
      "Saving msc01050\n",
      "Saving msc01440\n",
      "Saving nasa1824\n",
      "Saving nasa2910\n",
      "Saving nasa4704\n",
      "Saving circuit_1\n",
      "Saving circuit_2\n",
      "Saving coater1\n",
      "Saving thermal\n",
      "Saving mplate\n",
      "Saving cavity01\n",
      "Saving cavity02\n",
      "Saving cavity03\n",
      "Saving cavity04\n",
      "Saving cavity05\n",
      "Saving cavity06\n",
      "Saving cavity07\n",
      "Saving cavity08\n",
      "Saving cavity09\n",
      "Saving cavity10\n",
      "Saving cavity11\n",
      "Saving cavity12\n",
      "Saving cavity13\n",
      "Saving cavity14\n",
      "Saving cavity15\n",
      "Saving cavity16\n",
      "Saving cavity17\n",
      "Saving cavity18\n",
      "Saving cavity19\n",
      "Saving cavity20\n",
      "Saving cavity21\n",
      "Saving cavity22\n",
      "Saving cavity23\n",
      "Saving cavity24\n",
      "Saving cavity25\n",
      "Saving cavity26\n",
      "Saving ex1\n",
      "Saving ex12\n",
      "Saving ex13\n",
      "Saving ex14\n",
      "Saving ex2\n",
      "Saving ex20\n",
      "Saving ex21\n",
      "Saving ex22\n",
      "Saving ex23\n",
      "Saving ex24\n",
      "Saving ex25\n",
      "Saving ex26\n",
      "Saving ex27\n",
      "Saving ex28\n",
      "Saving ex3\n",
      "Saving ex31\n",
      "Saving ex36\n",
      "Saving ex4\n",
      "Saving ex5\n",
      "Saving ex6\n",
      "Saving ex7\n",
      "Saving ex8\n",
      "Saving ex9\n",
      "Saving garon1\n",
      "Saving goodwin\n",
      "Saving b2_ss\n",
      "Saving b_dyn\n",
      "Saving bayer03\n",
      "Saving bayer05\n",
      "Saving bayer06\n",
      "Saving bayer07\n",
      "Saving bayer08\n",
      "Saving bayer09\n",
      "Saving d_dyn\n",
      "Saving d_dyn1\n",
      "Saving d_ss\n",
      "Saving meg1\n",
      "Saving g1\n",
      "Saving g10\n",
      "Saving g11\n",
      "Saving g12\n",
      "Saving g13\n",
      "Saving g14\n",
      "Saving g15\n",
      "Saving g16\n",
      "Saving g17\n",
      "Saving g18\n",
      "Saving g19\n",
      "Saving g2\n",
      "Saving g20\n",
      "Saving g21\n",
      "Saving g22\n",
      "Saving g23\n",
      "Saving g24\n",
      "Saving g25\n",
      "Saving g26\n",
      "Saving g27\n",
      "Saving g28\n",
      "Saving g29\n",
      "Saving g3\n",
      "Saving g30\n",
      "Saving g31\n",
      "Saving g32\n",
      "Saving g33\n",
      "Saving g34\n",
      "Saving g35\n",
      "Saving g36\n",
      "Saving g37\n",
      "Saving g38\n",
      "Saving g39\n",
      "Saving g4\n",
      "Saving g40\n",
      "Saving g41\n",
      "Saving g42\n",
      "Saving g43\n",
      "Saving g44\n",
      "Saving g45\n",
      "Saving g46\n",
      "Saving g47\n",
      "Saving g48\n",
      "Saving g49\n",
      "Saving g5\n",
      "Saving g50\n",
      "Saving g51\n",
      "Saving g52\n",
      "Saving g53\n",
      "Saving g54\n",
      "Saving g57\n",
      "Saving g58\n",
      "Saving g59\n",
      "Saving g6\n",
      "Saving g62\n",
      "Saving g63\n",
      "Saving g64\n",
      "Saving g7\n",
      "Saving g8\n",
      "Saving g9\n",
      "Saving add20\n",
      "Saving add32\n",
      "Saving g7jac010\n",
      "Saving g7jac010sc\n",
      "Saving g7jac020\n",
      "Saving g7jac020sc\n",
      "Saving jan99jac020\n",
      "Saving jan99jac020sc\n",
      "Saving lhr01\n",
      "Saving lhr02\n",
      "Saving lhr04\n",
      "Saving lhr04c\n",
      "Saving lhr07\n",
      "Saving lhr07c\n",
      "Saving nasa2146\n",
      "Saving struct4\n",
      "Saving raefsky1\n",
      "Saving raefsky2\n",
      "Saving utm1700b\n",
      "Saving utm300\n",
      "Saving utm3060\n",
      "Saving utm5940\n",
      "Saving swang1\n",
      "Saving swang2\n",
      "Saving wang1\n",
      "Saving wang2\n",
      "Saving extr1\n",
      "Saving hydr1\n",
      "Saving radfr1\n",
      "Saving rdist1\n",
      "Saving rdist2\n",
      "Saving rdist3a\n",
      "Saving pivtol\n",
      "Saving comsol\n",
      "Saving barth\n",
      "Saving barth4\n",
      "Saving mesh1e1\n",
      "Saving mesh1em1\n",
      "Saving mesh1em6\n",
      "Saving mesh2e1\n",
      "Saving mesh2em5\n",
      "Saving mesh3e1\n",
      "Saving mesh3em5\n",
      "Saving sphere2\n",
      "Saving sphere3\n",
      "Saving heart1\n",
      "Saving heart2\n",
      "Saving heart3\n",
      "Saving lung1\n",
      "Saving shermanaca\n",
      "Saving shermanacd\n",
      "Saving cage3\n",
      "Saving cage4\n",
      "Saving cage5\n",
      "Saving cage6\n",
      "Saving cage7\n",
      "Saving cage8\n",
      "Saving cage9\n",
      "Saving fd12\n",
      "Saving sinc12\n",
      "Saving poisson2d\n",
      "Saving problem1\n",
      "Saving cell1\n",
      "Saving cell2\n",
      "Saving fpga_dcop_01\n",
      "Saving fpga_dcop_02\n",
      "Saving fpga_dcop_03\n",
      "Saving fpga_dcop_04\n",
      "Saving fpga_dcop_05\n",
      "Saving fpga_dcop_06\n",
      "Saving fpga_dcop_07\n",
      "Saving fpga_dcop_08\n",
      "Saving fpga_dcop_09\n",
      "Saving fpga_dcop_10\n",
      "Saving fpga_dcop_11\n",
      "Saving fpga_dcop_12\n",
      "Saving fpga_dcop_13\n",
      "Saving fpga_dcop_14\n",
      "Saving fpga_dcop_15\n",
      "Saving fpga_dcop_16\n",
      "Saving fpga_dcop_17\n",
      "Saving fpga_dcop_18\n",
      "Saving fpga_dcop_19\n",
      "Saving fpga_dcop_20\n",
      "Saving fpga_dcop_21\n",
      "Saving fpga_dcop_22\n",
      "Saving fpga_dcop_23\n",
      "Saving fpga_dcop_24\n",
      "Saving fpga_dcop_25\n",
      "Saving fpga_dcop_26\n",
      "Saving fpga_dcop_27\n",
      "Saving fpga_dcop_28\n",
      "Saving fpga_dcop_29\n",
      "Saving fpga_dcop_30\n",
      "Saving fpga_dcop_31\n",
      "Saving fpga_dcop_32\n",
      "Saving fpga_dcop_33\n",
      "Saving fpga_dcop_34\n",
      "Saving fpga_dcop_35\n",
      "Saving fpga_dcop_36\n",
      "Saving fpga_dcop_37\n",
      "Saving fpga_dcop_38\n",
      "Saving fpga_dcop_39\n",
      "Saving fpga_dcop_40\n",
      "Saving fpga_dcop_41\n",
      "Saving fpga_dcop_42\n",
      "Saving fpga_dcop_43\n",
      "Saving fpga_dcop_44\n",
      "Saving fpga_dcop_45\n",
      "Saving fpga_dcop_46\n",
      "Saving fpga_dcop_47\n",
      "Saving fpga_dcop_48\n",
      "Saving fpga_dcop_49\n",
      "Saving fpga_dcop_50\n",
      "Saving fpga_dcop_51\n",
      "Saving fpga_trans_01\n",
      "Saving fpga_trans_02\n",
      "Saving oscil_trans_01\n",
      "Saving harvard500\n",
      "Saving lap_25\n",
      "Saving rajat04\n",
      "Saving rajat05\n",
      "Saving rajat11\n",
      "Saving rajat12\n",
      "Saving rajat14\n",
      "Saving hamrle1\n",
      "Saving hamrle2\n",
      "Saving t2dal_a\n",
      "Saving sts4098\n",
      "Saving exdata_1\n",
      "Saving laser\n",
      "Saving robot\n",
      "Saving rotor1\n",
      "Saving kuu\n",
      "Saving na5\n",
      "Saving si2\n",
      "Saving sih4\n",
      "Saving sina\n",
      "Saving sieber\n",
      "Saving fxm3_6\n",
      "Saving filter2d\n",
      "Saving lf10\n",
      "Saving piston\n",
      "Saving rail_1357\n",
      "Saving rail_5177\n",
      "Saving t2dal_bci\n",
      "Saving t2dal\n",
      "Saving gd00_c\n",
      "Saving gd01_b\n",
      "Saving gd02_a\n",
      "Saving gd06_java\n",
      "Saving gd06_theory\n",
      "Saving gd95_a\n",
      "Saving gd95_c\n",
      "Saving gd96_c\n",
      "Saving gd96_d\n",
      "Saving gd97_a\n",
      "Saving gd98_b\n",
      "Saving gd98_c\n",
      "Saving gd99_b\n",
      "Saving gd99_c\n",
      "Saving journals\n",
      "Saving ragusa16\n",
      "Saving ragusa18\n",
      "Saving sandi_authors\n",
      "Saving stranke94\n",
      "Saving tina_askcal\n",
      "Saving tina_askcog\n",
      "Saving tina_discal\n",
      "Saving tina_discog\n",
      "Saving usair97\n",
      "Saving uspowergrid\n",
      "Saving extr1b\n",
      "Saving hydr1c\n",
      "Saving c-18\n",
      "Saving c-19\n",
      "Saving c-20\n",
      "Saving c-21\n",
      "Saving c-22\n",
      "Saving c-23\n",
      "Saving c-24\n",
      "Saving c-25\n",
      "Saving c-26\n",
      "Saving c-27\n",
      "Saving c-28\n",
      "Saving c-29\n",
      "Saving c-30\n",
      "Saving c-31\n",
      "Saving c-32\n",
      "Saving c-33\n",
      "Saving c-34\n",
      "Saving c-35\n",
      "Saving c-36\n",
      "Saving conf5_0-4x4-10\n",
      "Saving conf5_0-4x4-14\n",
      "Saving conf5_0-4x4-18\n",
      "Saving conf5_0-4x4-22\n",
      "Saving conf5_0-4x4-26\n",
      "Saving conf6_0-4x4-20\n",
      "Saving conf6_0-4x4-30\n",
      "Saving s1rmq4m1\n",
      "Saving s2rmq4m1\n",
      "Saving s3rmq4m1\n",
      "Saving s1rmt3m1\n",
      "Saving s2rmt3m1\n",
      "Saving s3rmt3m1\n",
      "Saving s3rmt3m3\n",
      "Saving cryg2500\n",
      "Saving dw2048\n",
      "Saving dwa512\n",
      "Saving dwb512\n",
      "Saving dwg961b\n",
      "Saving qh768\n",
      "Saving rdb1250\n",
      "Saving rdb1250l\n",
      "Saving rdb200\n",
      "Saving rdb200l\n",
      "Saving rdb2048_nol\n",
      "Saving rdb3200l\n",
      "Saving rdb450\n",
      "Saving rdb450l\n",
      "Saving rdb800l\n",
      "Saving tols90\n",
      "Saving iprob\n",
      "Saving chebyshev1\n",
      "Saving chebyshev2\n",
      "Saving chebyshev3\n",
      "Saving viscoplastic1\n",
      "Saving circuit204\n",
      "Saving g3rmt3m3\n",
      "Saving t520\n",
      "Saving cag_mat1916\n",
      "Saving cag_mat364\n",
      "Saving cag_mat72\n",
      "Saving ch5-5-b3\n",
      "Saving n3c6-b1\n",
      "Saving n3c6-b7\n",
      "Saving cat_ears_2_1\n",
      "Saving trefethen_20b\n",
      "Saving trefethen_20\n",
      "Saving trefethen_150\n",
      "Saving trefethen_200b\n",
      "Saving trefethen_200\n",
      "Saving trefethen_300\n",
      "Saving trefethen_500\n",
      "Saving trefethen_700\n",
      "Saving trefethen_2000\n",
      "Saving tsopf_rs_b162_c1\n",
      "Saving tsopf_rs_b9_c6\n",
      "Saving ww_36_pmec_36\n",
      "Saving m10pi_n\n",
      "Saving m20pi_n\n",
      "Saving m40pi_n\n",
      "Saving m80pi_n\n",
      "Saving s10pi_n\n",
      "Saving s20pi_n\n",
      "Saving s40pi_n\n",
      "Saving s80pi_n\n",
      "Saving adjnoun\n",
      "Saving celegansneural\n",
      "Saving dolphins\n",
      "Saving football\n",
      "Saving karate\n",
      "Saving lesmis\n",
      "Saving polbooks\n",
      "Saving power\n",
      "Saving jazz\n",
      "Saving celegans_metabolic\n",
      "Saving email\n",
      "Saving 3elt\n",
      "Saving airfoil1\n",
      "Saving grid1\n",
      "Saving grid1_dual\n",
      "Saving grid2\n",
      "Saving grid2_dual\n",
      "Saving netz4504\n",
      "Saving netz4504_dual\n",
      "Saving ukerbe1\n",
      "Saving ukerbe1_dual\n",
      "Saving diag\n",
      "Saving l\n",
      "Saving stufe\n",
      "Saving cage\n",
      "Saving chesapeake\n",
      "Saving delaunay_n10\n",
      "Saving delaunay_n11\n",
      "Saving delaunay_n12\n",
      "Saving data\n",
      "Saving uk\n",
      "Saving cz148\n",
      "Saving cz308\n",
      "Saving cz628\n",
      "Saving cz1268\n",
      "Saving cz2548\n",
      "Saving cz5108\n",
      "Saving legresley_4908\n",
      "Saving misknowledgemap\n",
      "Saving dynamicsoaringproblem_1\n",
      "Saving dynamicsoaringproblem_2\n",
      "Saving dynamicsoaringproblem_3\n",
      "Saving dynamicsoaringproblem_4\n",
      "Saving dynamicsoaringproblem_5\n",
      "Saving dynamicsoaringproblem_6\n",
      "Saving dynamicsoaringproblem_7\n",
      "Saving dynamicsoaringproblem_8\n",
      "Saving goddardrocketproblem_1\n",
      "Saving goddardrocketproblem_2\n",
      "Saving hangglider_1\n",
      "Saving hangglider_2\n",
      "Saving lowthrust_2\n",
      "Saving lowthrust_3\n",
      "Saving spaceshuttleentry_1\n",
      "Saving spaceshuttleentry_2\n",
      "Saving spaceshuttleentry_3\n",
      "Saving spaceshuttleentry_4\n",
      "Saving tumorantiangiogenesis_1\n",
      "Saving tumorantiangiogenesis_2\n",
      "Saving tumorantiangiogenesis_3\n",
      "Saving tumorantiangiogenesis_4\n",
      "Saving tumorantiangiogenesis_5\n",
      "Saving tumorantiangiogenesis_6\n",
      "Saving tumorantiangiogenesis_7\n",
      "Saving tumorantiangiogenesis_8\n",
      "Saving mycielskian2\n",
      "Saving mycielskian3\n",
      "Saving mycielskian4\n",
      "Saving mycielskian5\n",
      "Saving mycielskian6\n",
      "Saving mycielskian7\n",
      "Saving mycielskian8\n",
      "Saving mycielskian9\n",
      "Saving mycielskian10\n",
      "Saving mycielskian11\n",
      "Saving mycielskian12\n",
      "Saving mycielskian13\n",
      "Saving goodwin_010\n",
      "Saving goodwin_013\n",
      "Saving goodwin_017\n",
      "Saving goodwin_023\n",
      "Saving activsg2000\n",
      "Saving dendrimer\n",
      "Saving binaryalphadigs_10nn\n",
      "Saving breasttissue_10nn\n",
      "Saving cnae9_10nn\n",
      "Saving collins_15nn\n",
      "Saving dataset12mfeatfactors_10nn\n",
      "Saving dataset16mfeatkarhunen_10nn\n",
      "Saving dataset18mfeatmorphological_10nn\n",
      "Saving dataset20mfeatpixel_10nn\n",
      "Saving dataset22mfeatzernike_10nn\n",
      "Saving dermatology_5nn\n",
      "Saving ecoli_10nn\n",
      "Saving glass_10nn\n",
      "Saving iris_dataset_30nn\n",
      "Saving mice_10nn\n",
      "Saving micromass_10nn\n",
      "Saving olivetti_norm_10nn\n",
      "Saving optdigits_10nn\n",
      "Saving plants_10nn\n",
      "Saving plantsmargin_12nn\n",
      "Saving plantstexture_10nn\n",
      "Saving semeion_10nn\n",
      "Saving spectro_10nn\n",
      "Saving umistfacesnorm_10nn\n",
      "Saving vehicle_10nn\n",
      "Saving yalea_10nn\n",
      "Saving yaleb_10nn\n",
      "Saving yeast_30nn\n"
     ]
    },
    {
     "name": "stderr",
     "output_type": "stream",
     "text": [
      "Done!\n"
     ]
    }
   ],
   "execution_count": 4
  },
  {
   "metadata": {
    "ExecuteTime": {
     "end_time": "2024-02-22T13:36:15.224709Z",
     "start_time": "2024-02-22T13:29:40.265644Z"
    }
   },
   "cell_type": "code",
   "source": [
    "dataset = SuiteSparseDataset(\n",
    "    min_nodes=0,\n",
    "    max_nodes=7500,\n",
    "    limit=10000,\n",
    "    datatype=ScalableGraphDataUniformSample,\n",
    "    datatype_args=dict(\n",
    "        device=device,\n",
    "        landmarks=20,\n",
    "        random_edges=20\n",
    "    )\n",
    ")"
   ],
   "id": "eb04320604fe385",
   "outputs": [
    {
     "name": "stderr",
     "output_type": "stream",
     "text": [
      "Processing...\n"
     ]
    },
    {
     "data": {
      "text/plain": [
       "Load graphs:   0%|          | 0/1082 [00:00<?, ?it/s]"
      ],
      "application/vnd.jupyter.widget-view+json": {
       "version_major": 2,
       "version_minor": 0,
       "model_id": "1dd8fbca53094a58b6ab41baf892a927"
      }
     },
     "metadata": {},
     "output_type": "display_data"
    },
    {
     "name": "stdout",
     "output_type": "stream",
     "text": [
      "Saving 1138_bus\n",
      "Saving 494_bus\n",
      "Saving 662_bus\n",
      "Saving 685_bus\n",
      "Saving arc130\n",
      "Saving ash292\n",
      "Saving ash85\n",
      "Saving bcspwr01\n",
      "Saving bcspwr02\n",
      "Saving bcspwr03\n",
      "Saving bcspwr04\n",
      "Saving bcspwr05\n",
      "Saving bcspwr06\n",
      "Saving bcspwr07\n",
      "Saving bcspwr08\n",
      "Saving bcspwr09\n",
      "Saving bcspwr10\n",
      "Saving bcsstk01\n",
      "Saving bcsstk02\n",
      "Saving bcsstk04\n",
      "Saving bcsstk05\n",
      "Saving bcsstk06\n",
      "Saving bcsstk07\n",
      "Saving bcsstk09\n",
      "Saving bcsstk13\n",
      "Saving bcsstk19\n",
      "Saving bcsstk23\n",
      "Saving bcsstk24\n",
      "Saving bcsstk26\n",
      "Saving bcsstk27\n",
      "Saving bcsstk28\n",
      "Saving bcsstm07\n",
      "Saving bcsstm27\n",
      "Saving bp_0\n",
      "Saving bp_1000\n",
      "Saving bp_1200\n",
      "Saving bp_1400\n",
      "Saving bp_1600\n",
      "Saving bp_200\n",
      "Saving bp_400\n",
      "Saving bp_600\n",
      "Saving bp_800\n",
      "Saving can_1054\n",
      "Saving can_1072\n",
      "Saving can_144\n",
      "Saving can_161\n",
      "Saving can_187\n",
      "Saving can_229\n",
      "Saving can_24\n",
      "Saving can_256\n",
      "Saving can_268\n",
      "Saving can_292\n",
      "Saving can_445\n",
      "Saving can_61\n",
      "Saving can_62\n",
      "Saving can_634\n",
      "Saving can_715\n",
      "Saving can_73\n",
      "Saving can_838\n",
      "Saving can_96\n",
      "Saving curtis54\n",
      "Saving dwt_1005\n",
      "Saving dwt_1007\n",
      "Saving dwt_1242\n",
      "Saving dwt_162\n",
      "Saving dwt_193\n",
      "Saving dwt_209\n",
      "Saving dwt_221\n",
      "Saving dwt_245\n",
      "Saving dwt_2680\n",
      "Saving dwt_307\n",
      "Saving dwt_310\n",
      "Saving dwt_361\n",
      "Saving dwt_419\n",
      "Saving dwt_503\n",
      "Saving dwt_59\n",
      "Saving dwt_592\n",
      "Saving dwt_66\n",
      "Saving dwt_72\n",
      "Saving dwt_758\n",
      "Saving dwt_869\n",
      "Saving dwt_87\n",
      "Saving dwt_878\n",
      "Saving dwt_918\n",
      "Saving dwt_992\n",
      "Saving fs_183_1\n",
      "Saving fs_183_3\n",
      "Saving fs_183_4\n",
      "Saving fs_183_6\n",
      "Saving fs_541_1\n",
      "Saving fs_541_2\n",
      "Saving fs_541_3\n",
      "Saving fs_541_4\n",
      "Saving fs_680_1\n",
      "Saving fs_680_2\n",
      "Saving fs_680_3\n",
      "Saving fs_760_1\n",
      "Saving fs_760_2\n",
      "Saving fs_760_3\n",
      "Saving gemat12\n",
      "Saving gr_30_30\n",
      "Saving gre_115\n",
      "Saving gre_185\n",
      "Saving hor_131\n",
      "Saving ibm32\n",
      "Saving impcol_b\n",
      "Saving impcol_c\n",
      "Saving impcol_d\n",
      "Saving impcol_e\n",
      "Saving jagmesh1\n",
      "Saving jagmesh2\n",
      "Saving jagmesh3\n",
      "Saving jagmesh4\n",
      "Saving jagmesh5\n",
      "Saving jagmesh6\n",
      "Saving jagmesh7\n",
      "Saving jagmesh8\n",
      "Saving jagmesh9\n",
      "Saving jgl009\n",
      "Saving jgl011\n",
      "Saving lshp1009\n",
      "Saving lshp1270\n",
      "Saving lshp1561\n",
      "Saving lshp1882\n",
      "Saving lshp2233\n",
      "Saving lshp2614\n",
      "Saving lshp3025\n",
      "Saving lshp3466\n",
      "Saving lshp_265\n",
      "Saving lshp_406\n",
      "Saving lshp_577\n",
      "Saving lshp_778\n",
      "Saving lund_a\n",
      "Saving lund_b\n",
      "Saving mahindas\n",
      "Saving nnc1374\n",
      "Saving nnc261\n",
      "Saving nnc666\n",
      "Saving nos3\n",
      "Saving nos4\n",
      "Saving nos5\n",
      "Saving nos6\n",
      "Saving nos7\n",
      "Saving orani678\n",
      "Saving orsirr_1\n",
      "Saving orsirr_2\n",
      "Saving orsreg_1\n",
      "Saving plat1919\n",
      "Saving plat362\n",
      "Saving plsk1919\n",
      "Saving plskz362\n",
      "Saving pores_1\n",
      "Saving pores_2\n",
      "Saving psmigr_1\n",
      "Saving psmigr_2\n",
      "Saving psmigr_3\n",
      "Saving rgg010\n",
      "Saving saylr1\n",
      "Saving saylr4\n",
      "Saving steam1\n",
      "Saving steam2\n",
      "Saving steam3\n",
      "Saving str_0\n",
      "Saving str_200\n",
      "Saving str_400\n",
      "Saving str_600\n",
      "Saving watt_1\n",
      "Saving watt_2\n",
      "Saving west0067\n",
      "Saving west0132\n",
      "Saving west0167\n",
      "Saving west0381\n",
      "Saving west0479\n",
      "Saving west0497\n",
      "Saving west0655\n",
      "Saving west0989\n",
      "Saving west1505\n",
      "Saving west2021\n",
      "Saving will199\n",
      "Saving will57\n",
      "Saving young1c\n",
      "Saving young2c\n",
      "Saving young3c\n",
      "Saving young4c\n",
      "Saving epb0\n",
      "Saving bfwa398\n",
      "Saving bfwa62\n",
      "Saving bfwa782\n",
      "Saving bwm200\n",
      "Saving bwm2000\n",
      "Saving cdde1\n",
      "Saving cdde2\n",
      "Saving cdde3\n",
      "Saving cdde4\n",
      "Saving cdde5\n",
      "Saving cdde6\n",
      "Saving dw1024\n",
      "Saving dw256a\n",
      "Saving dw256b\n",
      "Saving lop163\n",
      "Saving odepa400\n",
      "Saving olm100\n",
      "Saving olm1000\n",
      "Saving olm2000\n",
      "Saving olm500\n",
      "Saving olm5000\n",
      "Saving pde225\n",
      "Saving pde2961\n",
      "Saving pde900\n",
      "Saving qc2534\n",
      "Saving qc324\n",
      "Saving qh882\n",
      "Saving rbsa480\n",
      "Saving rbsb480\n",
      "Saving rdb2048\n",
      "Saving rdb5000\n",
      "Saving rdb968\n",
      "Saving rw136\n",
      "Saving rw496\n",
      "Saving rw5151\n",
      "Saving tub100\n",
      "Saving tub1000\n",
      "Saving bcsstk34\n",
      "Saving bcsstm34\n",
      "Saving crystk01\n",
      "Saving msc00726\n",
      "Saving msc01050\n",
      "Saving msc01440\n",
      "Saving nasa1824\n",
      "Saving nasa2910\n",
      "Saving nasa4704\n",
      "Saving circuit_1\n",
      "Saving circuit_2\n",
      "Saving coater1\n",
      "Saving thermal\n",
      "Saving mplate\n",
      "Saving cavity01\n",
      "Saving cavity02\n",
      "Saving cavity03\n",
      "Saving cavity04\n",
      "Saving cavity05\n",
      "Saving cavity06\n",
      "Saving cavity07\n",
      "Saving cavity08\n",
      "Saving cavity09\n",
      "Saving cavity10\n",
      "Saving cavity11\n",
      "Saving cavity12\n",
      "Saving cavity13\n",
      "Saving cavity14\n",
      "Saving cavity15\n",
      "Saving cavity16\n",
      "Saving cavity17\n",
      "Saving cavity18\n",
      "Saving cavity19\n",
      "Saving cavity20\n",
      "Saving cavity21\n",
      "Saving cavity22\n",
      "Saving cavity23\n",
      "Saving cavity24\n",
      "Saving cavity25\n",
      "Saving cavity26\n",
      "Saving ex1\n",
      "Saving ex12\n",
      "Saving ex13\n",
      "Saving ex14\n",
      "Saving ex2\n",
      "Saving ex20\n",
      "Saving ex21\n",
      "Saving ex22\n",
      "Saving ex23\n",
      "Saving ex24\n",
      "Saving ex25\n",
      "Saving ex26\n",
      "Saving ex27\n",
      "Saving ex28\n",
      "Saving ex3\n",
      "Saving ex31\n",
      "Saving ex36\n",
      "Saving ex4\n",
      "Saving ex5\n",
      "Saving ex6\n",
      "Saving ex7\n",
      "Saving ex8\n",
      "Saving ex9\n",
      "Saving garon1\n",
      "Saving goodwin\n",
      "Saving b2_ss\n",
      "Saving b_dyn\n",
      "Saving bayer03\n",
      "Saving bayer05\n",
      "Saving bayer06\n",
      "Saving bayer07\n",
      "Saving bayer08\n",
      "Saving bayer09\n",
      "Saving d_dyn\n",
      "Saving d_dyn1\n",
      "Saving d_ss\n",
      "Saving meg1\n",
      "Saving g1\n",
      "Saving g10\n",
      "Saving g11\n",
      "Saving g12\n",
      "Saving g13\n",
      "Saving g14\n",
      "Saving g15\n",
      "Saving g16\n",
      "Saving g17\n",
      "Saving g18\n",
      "Saving g19\n",
      "Saving g2\n",
      "Saving g20\n",
      "Saving g21\n",
      "Saving g22\n",
      "Saving g23\n",
      "Saving g24\n",
      "Saving g25\n",
      "Saving g26\n",
      "Saving g27\n",
      "Saving g28\n",
      "Saving g29\n",
      "Saving g3\n",
      "Saving g30\n",
      "Saving g31\n",
      "Saving g32\n",
      "Saving g33\n",
      "Saving g34\n",
      "Saving g35\n",
      "Saving g36\n",
      "Saving g37\n",
      "Saving g38\n",
      "Saving g39\n",
      "Saving g4\n",
      "Saving g40\n",
      "Saving g41\n",
      "Saving g42\n",
      "Saving g43\n",
      "Saving g44\n",
      "Saving g45\n",
      "Saving g46\n",
      "Saving g47\n",
      "Saving g48\n",
      "Saving g49\n",
      "Saving g5\n",
      "Saving g50\n",
      "Saving g51\n",
      "Saving g52\n",
      "Saving g53\n",
      "Saving g54\n",
      "Saving g57\n",
      "Saving g58\n",
      "Saving g59\n",
      "Saving g6\n",
      "Saving g62\n",
      "Saving g63\n",
      "Saving g64\n",
      "Saving g7\n",
      "Saving g8\n",
      "Saving g9\n",
      "Saving add20\n",
      "Saving add32\n",
      "Saving g7jac010\n",
      "Saving g7jac010sc\n",
      "Saving g7jac020\n",
      "Saving g7jac020sc\n",
      "Saving jan99jac020\n",
      "Saving jan99jac020sc\n",
      "Saving lhr01\n",
      "Saving lhr02\n",
      "Saving lhr04\n",
      "Saving lhr04c\n",
      "Saving lhr07\n",
      "Saving lhr07c\n",
      "Saving nasa2146\n",
      "Saving struct4\n",
      "Saving raefsky1\n",
      "Saving raefsky2\n",
      "Saving utm1700b\n",
      "Saving utm300\n",
      "Saving utm3060\n",
      "Saving utm5940\n",
      "Saving swang1\n",
      "Saving swang2\n",
      "Saving wang1\n",
      "Saving wang2\n",
      "Saving extr1\n",
      "Saving hydr1\n",
      "Saving radfr1\n",
      "Saving rdist1\n",
      "Saving rdist2\n",
      "Saving rdist3a\n",
      "Saving pivtol\n",
      "Saving comsol\n",
      "Saving barth\n",
      "Saving barth4\n",
      "Saving mesh1e1\n",
      "Saving mesh1em1\n",
      "Saving mesh1em6\n",
      "Saving mesh2e1\n",
      "Saving mesh2em5\n",
      "Saving mesh3e1\n",
      "Saving mesh3em5\n",
      "Saving sphere2\n",
      "Saving sphere3\n",
      "Saving heart1\n",
      "Saving heart2\n",
      "Saving heart3\n",
      "Saving lung1\n",
      "Saving shermanaca\n",
      "Saving shermanacd\n",
      "Saving cage3\n",
      "Saving cage4\n",
      "Saving cage5\n",
      "Saving cage6\n",
      "Saving cage7\n",
      "Saving cage8\n",
      "Saving cage9\n",
      "Saving fd12\n",
      "Saving sinc12\n",
      "Saving poisson2d\n",
      "Saving problem1\n",
      "Saving cell1\n",
      "Saving cell2\n",
      "Saving fpga_dcop_01\n",
      "Saving fpga_dcop_02\n",
      "Saving fpga_dcop_03\n",
      "Saving fpga_dcop_04\n",
      "Saving fpga_dcop_05\n",
      "Saving fpga_dcop_06\n",
      "Saving fpga_dcop_07\n",
      "Saving fpga_dcop_08\n",
      "Saving fpga_dcop_09\n",
      "Saving fpga_dcop_10\n",
      "Saving fpga_dcop_11\n",
      "Saving fpga_dcop_12\n",
      "Saving fpga_dcop_13\n",
      "Saving fpga_dcop_14\n",
      "Saving fpga_dcop_15\n",
      "Saving fpga_dcop_16\n",
      "Saving fpga_dcop_17\n",
      "Saving fpga_dcop_18\n",
      "Saving fpga_dcop_19\n",
      "Saving fpga_dcop_20\n",
      "Saving fpga_dcop_21\n",
      "Saving fpga_dcop_22\n",
      "Saving fpga_dcop_23\n",
      "Saving fpga_dcop_24\n",
      "Saving fpga_dcop_25\n",
      "Saving fpga_dcop_26\n",
      "Saving fpga_dcop_27\n",
      "Saving fpga_dcop_28\n",
      "Saving fpga_dcop_29\n",
      "Saving fpga_dcop_30\n",
      "Saving fpga_dcop_31\n",
      "Saving fpga_dcop_32\n",
      "Saving fpga_dcop_33\n",
      "Saving fpga_dcop_34\n",
      "Saving fpga_dcop_35\n",
      "Saving fpga_dcop_36\n",
      "Saving fpga_dcop_37\n",
      "Saving fpga_dcop_38\n",
      "Saving fpga_dcop_39\n",
      "Saving fpga_dcop_40\n",
      "Saving fpga_dcop_41\n",
      "Saving fpga_dcop_42\n",
      "Saving fpga_dcop_43\n",
      "Saving fpga_dcop_44\n",
      "Saving fpga_dcop_45\n",
      "Saving fpga_dcop_46\n",
      "Saving fpga_dcop_47\n",
      "Saving fpga_dcop_48\n",
      "Saving fpga_dcop_49\n",
      "Saving fpga_dcop_50\n",
      "Saving fpga_dcop_51\n",
      "Saving fpga_trans_01\n",
      "Saving fpga_trans_02\n",
      "Saving oscil_trans_01\n",
      "Saving harvard500\n",
      "Saving lap_25\n",
      "Saving rajat04\n",
      "Saving rajat05\n",
      "Saving rajat11\n",
      "Saving rajat12\n",
      "Saving rajat14\n",
      "Saving hamrle1\n",
      "Saving hamrle2\n",
      "Saving t2dal_a\n",
      "Saving sts4098\n",
      "Saving exdata_1\n",
      "Saving laser\n",
      "Saving robot\n",
      "Saving rotor1\n",
      "Saving kuu\n",
      "Saving na5\n",
      "Saving si2\n",
      "Saving sih4\n",
      "Saving sina\n",
      "Saving sieber\n",
      "Saving fxm3_6\n",
      "Saving filter2d\n",
      "Saving lf10\n",
      "Saving piston\n",
      "Saving rail_1357\n",
      "Saving rail_5177\n",
      "Saving t2dal_bci\n",
      "Saving t2dal\n",
      "Saving gd00_c\n",
      "Saving gd01_b\n",
      "Saving gd02_a\n",
      "Saving gd06_java\n",
      "Saving gd06_theory\n",
      "Saving gd95_a\n",
      "Saving gd95_c\n",
      "Saving gd96_c\n",
      "Saving gd96_d\n",
      "Saving gd97_a\n",
      "Saving gd98_b\n",
      "Saving gd98_c\n",
      "Saving gd99_b\n",
      "Saving gd99_c\n",
      "Saving journals\n",
      "Saving ragusa16\n",
      "Saving ragusa18\n",
      "Saving sandi_authors\n",
      "Saving stranke94\n",
      "Saving tina_askcal\n",
      "Saving tina_askcog\n",
      "Saving tina_discal\n",
      "Saving tina_discog\n",
      "Saving usair97\n",
      "Saving uspowergrid\n",
      "Saving extr1b\n",
      "Saving hydr1c\n",
      "Saving c-18\n",
      "Saving c-19\n",
      "Saving c-20\n",
      "Saving c-21\n",
      "Saving c-22\n",
      "Saving c-23\n",
      "Saving c-24\n",
      "Saving c-25\n",
      "Saving c-26\n",
      "Saving c-27\n",
      "Saving c-28\n",
      "Saving c-29\n",
      "Saving c-30\n",
      "Saving c-31\n",
      "Saving c-32\n",
      "Saving c-33\n",
      "Saving c-34\n",
      "Saving c-35\n",
      "Saving c-36\n",
      "Saving conf5_0-4x4-10\n",
      "Saving conf5_0-4x4-14\n",
      "Saving conf5_0-4x4-18\n",
      "Saving conf5_0-4x4-22\n",
      "Saving conf5_0-4x4-26\n",
      "Saving conf6_0-4x4-20\n",
      "Saving conf6_0-4x4-30\n",
      "Saving s1rmq4m1\n",
      "Saving s2rmq4m1\n",
      "Saving s3rmq4m1\n",
      "Saving s1rmt3m1\n",
      "Saving s2rmt3m1\n",
      "Saving s3rmt3m1\n",
      "Saving s3rmt3m3\n",
      "Saving cryg2500\n",
      "Saving dw2048\n",
      "Saving dwa512\n",
      "Saving dwb512\n",
      "Saving dwg961b\n",
      "Saving qh768\n",
      "Saving rdb1250\n",
      "Saving rdb1250l\n",
      "Saving rdb200\n",
      "Saving rdb200l\n",
      "Saving rdb2048_nol\n",
      "Saving rdb3200l\n",
      "Saving rdb450\n",
      "Saving rdb450l\n",
      "Saving rdb800l\n",
      "Saving tols90\n",
      "Saving iprob\n",
      "Saving chebyshev1\n",
      "Saving chebyshev2\n",
      "Saving chebyshev3\n",
      "Saving viscoplastic1\n",
      "Saving circuit204\n",
      "Saving g3rmt3m3\n",
      "Saving t520\n",
      "Saving cag_mat1916\n",
      "Saving cag_mat364\n",
      "Saving cag_mat72\n",
      "Saving ch5-5-b3\n",
      "Saving n3c6-b1\n",
      "Saving n3c6-b7\n",
      "Saving cat_ears_2_1\n",
      "Saving trefethen_20b\n",
      "Saving trefethen_20\n",
      "Saving trefethen_150\n",
      "Saving trefethen_200b\n",
      "Saving trefethen_200\n",
      "Saving trefethen_300\n",
      "Saving trefethen_500\n",
      "Saving trefethen_700\n",
      "Saving trefethen_2000\n",
      "Saving tsopf_rs_b162_c1\n",
      "Saving tsopf_rs_b9_c6\n",
      "Saving ww_36_pmec_36\n",
      "Saving m10pi_n\n",
      "Saving m20pi_n\n",
      "Saving m40pi_n\n",
      "Saving m80pi_n\n",
      "Saving s10pi_n\n",
      "Saving s20pi_n\n",
      "Saving s40pi_n\n",
      "Saving s80pi_n\n",
      "Saving adjnoun\n",
      "Saving celegansneural\n",
      "Saving dolphins\n",
      "Saving football\n",
      "Saving karate\n",
      "Saving lesmis\n",
      "Saving polbooks\n",
      "Saving power\n",
      "Saving jazz\n",
      "Saving celegans_metabolic\n",
      "Saving email\n",
      "Saving 3elt\n",
      "Saving airfoil1\n",
      "Saving grid1\n",
      "Saving grid1_dual\n",
      "Saving grid2\n",
      "Saving grid2_dual\n",
      "Saving netz4504\n",
      "Saving netz4504_dual\n",
      "Saving ukerbe1\n",
      "Saving ukerbe1_dual\n",
      "Saving diag\n",
      "Saving l\n",
      "Saving stufe\n",
      "Saving cage\n",
      "Saving chesapeake\n",
      "Saving delaunay_n10\n",
      "Saving delaunay_n11\n",
      "Saving delaunay_n12\n",
      "Saving data\n",
      "Saving uk\n",
      "Saving cz148\n",
      "Saving cz308\n",
      "Saving cz628\n",
      "Saving cz1268\n",
      "Saving cz2548\n",
      "Saving cz5108\n",
      "Saving legresley_4908\n",
      "Saving misknowledgemap\n",
      "Saving dynamicsoaringproblem_1\n",
      "Saving dynamicsoaringproblem_2\n",
      "Saving dynamicsoaringproblem_3\n",
      "Saving dynamicsoaringproblem_4\n",
      "Saving dynamicsoaringproblem_5\n",
      "Saving dynamicsoaringproblem_6\n",
      "Saving dynamicsoaringproblem_7\n",
      "Saving dynamicsoaringproblem_8\n",
      "Saving goddardrocketproblem_1\n",
      "Saving goddardrocketproblem_2\n",
      "Saving hangglider_1\n",
      "Saving hangglider_2\n",
      "Saving lowthrust_2\n",
      "Saving lowthrust_3\n",
      "Saving spaceshuttleentry_1\n",
      "Saving spaceshuttleentry_2\n",
      "Saving spaceshuttleentry_3\n",
      "Saving spaceshuttleentry_4\n",
      "Saving tumorantiangiogenesis_1\n",
      "Saving tumorantiangiogenesis_2\n",
      "Saving tumorantiangiogenesis_3\n",
      "Saving tumorantiangiogenesis_4\n",
      "Saving tumorantiangiogenesis_5\n",
      "Saving tumorantiangiogenesis_6\n",
      "Saving tumorantiangiogenesis_7\n",
      "Saving tumorantiangiogenesis_8\n",
      "Saving mycielskian2\n",
      "Saving mycielskian3\n",
      "Saving mycielskian4\n",
      "Saving mycielskian5\n",
      "Saving mycielskian6\n",
      "Saving mycielskian7\n",
      "Saving mycielskian8\n",
      "Saving mycielskian9\n",
      "Saving mycielskian10\n",
      "Saving mycielskian11\n",
      "Saving mycielskian12\n",
      "Saving mycielskian13\n",
      "Saving goodwin_010\n",
      "Saving goodwin_013\n",
      "Saving goodwin_017\n",
      "Saving goodwin_023\n",
      "Saving activsg2000\n",
      "Saving dendrimer\n",
      "Saving binaryalphadigs_10nn\n",
      "Saving breasttissue_10nn\n",
      "Saving cnae9_10nn\n",
      "Saving collins_15nn\n",
      "Saving dataset12mfeatfactors_10nn\n",
      "Saving dataset16mfeatkarhunen_10nn\n",
      "Saving dataset18mfeatmorphological_10nn\n",
      "Saving dataset20mfeatpixel_10nn\n",
      "Saving dataset22mfeatzernike_10nn\n",
      "Saving dermatology_5nn\n",
      "Saving ecoli_10nn\n",
      "Saving glass_10nn\n",
      "Saving iris_dataset_30nn\n",
      "Saving mice_10nn\n",
      "Saving micromass_10nn\n",
      "Saving olivetti_norm_10nn\n",
      "Saving optdigits_10nn\n",
      "Saving plants_10nn\n",
      "Saving plantsmargin_12nn\n",
      "Saving plantstexture_10nn\n",
      "Saving semeion_10nn\n",
      "Saving spectro_10nn\n",
      "Saving umistfacesnorm_10nn\n",
      "Saving vehicle_10nn\n",
      "Saving yalea_10nn\n",
      "Saving yaleb_10nn\n",
      "Saving yeast_30nn\n"
     ]
    },
    {
     "name": "stderr",
     "output_type": "stream",
     "text": [
      "Done!\n"
     ]
    }
   ],
   "execution_count": 5
  },
  {
   "metadata": {
    "ExecuteTime": {
     "end_time": "2024-02-11T09:22:28.387347Z",
     "start_time": "2024-02-11T09:13:59.823010Z"
    }
   },
   "cell_type": "code",
   "source": [
    "dataset = SuiteSparseDataset(\n",
    "    min_nodes=0,\n",
    "    max_nodes=7500,\n",
    "    limit=10000,\n",
    "    datatype=ScalableGraphDataUniformSample,\n",
    "    datatype_args=dict(\n",
    "        device=device,\n",
    "        landmarks=50,\n",
    "        random_edges=50\n",
    "    )\n",
    ")"
   ],
   "id": "3a0c78dda0d8ef40",
   "outputs": [
    {
     "name": "stderr",
     "output_type": "stream",
     "text": [
      "Processing...\n"
     ]
    },
    {
     "data": {
      "text/plain": [
       "Load graphs:   0%|          | 0/1082 [00:00<?, ?it/s]"
      ],
      "application/vnd.jupyter.widget-view+json": {
       "version_major": 2,
       "version_minor": 0,
       "model_id": "5fc0fb0d68e44fb99d2a18bbe0f1d930"
      }
     },
     "metadata": {},
     "output_type": "display_data"
    },
    {
     "name": "stdout",
     "output_type": "stream",
     "text": [
      "Saving 1138_bus\n",
      "Saving 494_bus\n",
      "Saving 662_bus\n",
      "Saving 685_bus\n",
      "Saving arc130\n",
      "Saving ash292\n",
      "Saving ash85\n",
      "Saving bcspwr01\n",
      "Saving bcspwr02\n",
      "Saving bcspwr03\n",
      "Saving bcspwr04\n",
      "Saving bcspwr05\n",
      "Saving bcspwr06\n",
      "Saving bcspwr07\n",
      "Saving bcspwr08\n",
      "Saving bcspwr09\n",
      "Saving bcspwr10\n",
      "Saving bcsstk01\n",
      "Saving bcsstk02\n",
      "Saving bcsstk04\n",
      "Saving bcsstk05\n",
      "Saving bcsstk06\n",
      "Saving bcsstk07\n",
      "Saving bcsstk09\n",
      "Saving bcsstk13\n",
      "Saving bcsstk19\n",
      "Saving bcsstk23\n",
      "Saving bcsstk24\n",
      "Saving bcsstk26\n",
      "Saving bcsstk27\n",
      "Saving bcsstk28\n",
      "Saving bcsstm07\n",
      "Saving bcsstm27\n",
      "Saving bp_0\n",
      "Saving bp_1000\n",
      "Saving bp_1200\n",
      "Saving bp_1400\n",
      "Saving bp_1600\n",
      "Saving bp_200\n",
      "Saving bp_400\n",
      "Saving bp_600\n",
      "Saving bp_800\n",
      "Saving can_1054\n",
      "Saving can_1072\n",
      "Saving can_144\n",
      "Saving can_161\n",
      "Saving can_187\n",
      "Saving can_229\n",
      "Saving can_24\n",
      "Saving can_256\n",
      "Saving can_268\n",
      "Saving can_292\n",
      "Saving can_445\n",
      "Saving can_61\n",
      "Saving can_62\n",
      "Saving can_634\n",
      "Saving can_715\n",
      "Saving can_73\n",
      "Saving can_838\n",
      "Saving can_96\n",
      "Saving curtis54\n",
      "Saving dwt_1005\n",
      "Saving dwt_1007\n",
      "Saving dwt_1242\n",
      "Saving dwt_162\n",
      "Saving dwt_193\n",
      "Saving dwt_209\n",
      "Saving dwt_221\n",
      "Saving dwt_245\n",
      "Saving dwt_2680\n",
      "Saving dwt_307\n",
      "Saving dwt_310\n",
      "Saving dwt_361\n",
      "Saving dwt_419\n",
      "Saving dwt_503\n",
      "Saving dwt_59\n",
      "Saving dwt_592\n",
      "Saving dwt_66\n",
      "Saving dwt_72\n",
      "Saving dwt_758\n",
      "Saving dwt_869\n",
      "Saving dwt_87\n",
      "Saving dwt_878\n",
      "Saving dwt_918\n",
      "Saving dwt_992\n",
      "Saving fs_183_1\n",
      "Saving fs_183_3\n",
      "Saving fs_183_4\n",
      "Saving fs_183_6\n",
      "Saving fs_541_1\n",
      "Saving fs_541_2\n",
      "Saving fs_541_3\n",
      "Saving fs_541_4\n",
      "Saving fs_680_1\n",
      "Saving fs_680_2\n",
      "Saving fs_680_3\n",
      "Saving fs_760_1\n",
      "Saving fs_760_2\n",
      "Saving fs_760_3\n",
      "Saving gemat12\n",
      "Saving gr_30_30\n",
      "Saving gre_115\n",
      "Saving gre_185\n",
      "Saving hor_131\n",
      "Saving ibm32\n",
      "Saving impcol_b\n",
      "Saving impcol_c\n",
      "Saving impcol_d\n",
      "Saving impcol_e\n",
      "Saving jagmesh1\n",
      "Saving jagmesh2\n",
      "Saving jagmesh3\n",
      "Saving jagmesh4\n",
      "Saving jagmesh5\n",
      "Saving jagmesh6\n",
      "Saving jagmesh7\n",
      "Saving jagmesh8\n",
      "Saving jagmesh9\n",
      "Saving jgl009\n",
      "Saving jgl011\n",
      "Saving lshp1009\n",
      "Saving lshp1270\n",
      "Saving lshp1561\n",
      "Saving lshp1882\n",
      "Saving lshp2233\n",
      "Saving lshp2614\n",
      "Saving lshp3025\n",
      "Saving lshp3466\n",
      "Saving lshp_265\n",
      "Saving lshp_406\n",
      "Saving lshp_577\n",
      "Saving lshp_778\n",
      "Saving lund_a\n",
      "Saving lund_b\n",
      "Saving mahindas\n",
      "Saving nnc1374\n",
      "Saving nnc261\n",
      "Saving nnc666\n",
      "Saving nos3\n",
      "Saving nos4\n",
      "Saving nos5\n",
      "Saving nos6\n",
      "Saving nos7\n",
      "Saving orani678\n",
      "Saving orsirr_1\n",
      "Saving orsirr_2\n",
      "Saving orsreg_1\n",
      "Saving plat1919\n",
      "Saving plat362\n",
      "Saving plsk1919\n",
      "Saving plskz362\n",
      "Saving pores_1\n",
      "Saving pores_2\n",
      "Saving psmigr_1\n",
      "Saving psmigr_2\n",
      "Saving psmigr_3\n",
      "Saving rgg010\n",
      "Saving saylr1\n",
      "Saving saylr4\n",
      "Saving steam1\n",
      "Saving steam2\n",
      "Saving steam3\n",
      "Saving str_0\n",
      "Saving str_200\n",
      "Saving str_400\n",
      "Saving str_600\n",
      "Saving watt_1\n",
      "Saving watt_2\n",
      "Saving west0067\n",
      "Saving west0132\n",
      "Saving west0167\n",
      "Saving west0381\n",
      "Saving west0479\n",
      "Saving west0497\n",
      "Saving west0655\n",
      "Saving west0989\n",
      "Saving west1505\n",
      "Saving west2021\n",
      "Saving will199\n",
      "Saving will57\n",
      "Saving young1c\n",
      "Saving young2c\n",
      "Saving young3c\n",
      "Saving young4c\n",
      "Saving epb0\n",
      "Saving bfwa398\n",
      "Saving bfwa62\n",
      "Saving bfwa782\n",
      "Saving bwm200\n",
      "Saving bwm2000\n",
      "Saving cdde1\n",
      "Saving cdde2\n",
      "Saving cdde3\n",
      "Saving cdde4\n",
      "Saving cdde5\n",
      "Saving cdde6\n",
      "Saving dw1024\n",
      "Saving dw256A\n",
      "Saving dw256B\n",
      "Saving lop163\n",
      "Saving odepa400\n",
      "Saving olm100\n",
      "Saving olm1000\n",
      "Saving olm2000\n",
      "Saving olm500\n",
      "Saving olm5000\n",
      "Saving pde225\n",
      "Saving pde2961\n",
      "Saving pde900\n",
      "Saving qc2534\n",
      "Saving qc324\n",
      "Saving qh882\n",
      "Saving rbsa480\n",
      "Saving rbsb480\n",
      "Saving rdb2048\n",
      "Saving rdb5000\n",
      "Saving rdb968\n",
      "Saving rw136\n",
      "Saving rw496\n",
      "Saving rw5151\n",
      "Saving tub100\n",
      "Saving tub1000\n",
      "Saving bcsstk34\n",
      "Saving bcsstm34\n",
      "Saving crystk01\n",
      "Saving msc00726\n",
      "Saving msc01050\n",
      "Saving msc01440\n",
      "Saving nasa1824\n",
      "Saving nasa2910\n",
      "Saving nasa4704\n",
      "Saving circuit_1\n",
      "Saving circuit_2\n",
      "Saving coater1\n",
      "Saving thermal\n",
      "Saving mplate\n",
      "Saving cavity01\n",
      "Saving cavity02\n",
      "Saving cavity03\n",
      "Saving cavity04\n",
      "Saving cavity05\n",
      "Saving cavity06\n",
      "Saving cavity07\n",
      "Saving cavity08\n",
      "Saving cavity09\n",
      "Saving cavity10\n",
      "Saving cavity11\n",
      "Saving cavity12\n",
      "Saving cavity13\n",
      "Saving cavity14\n",
      "Saving cavity15\n",
      "Saving cavity16\n",
      "Saving cavity17\n",
      "Saving cavity18\n",
      "Saving cavity19\n",
      "Saving cavity20\n",
      "Saving cavity21\n",
      "Saving cavity22\n",
      "Saving cavity23\n",
      "Saving cavity24\n",
      "Saving cavity25\n",
      "Saving cavity26\n",
      "Saving ex1\n",
      "Saving ex12\n",
      "Saving ex13\n",
      "Saving ex14\n",
      "Saving ex2\n",
      "Saving ex20\n",
      "Saving ex21\n",
      "Saving ex22\n",
      "Saving ex23\n",
      "Saving ex24\n",
      "Saving ex25\n",
      "Saving ex26\n",
      "Saving ex27\n",
      "Saving ex28\n",
      "Saving ex3\n",
      "Saving ex31\n",
      "Saving ex36\n",
      "Saving ex4\n",
      "Saving ex5\n",
      "Saving ex6\n",
      "Saving ex7\n",
      "Saving ex8\n",
      "Saving ex9\n",
      "Saving garon1\n",
      "Saving goodwin\n",
      "Saving b2_ss\n",
      "Saving b_dyn\n",
      "Saving bayer03\n",
      "Saving bayer05\n",
      "Saving bayer06\n",
      "Saving bayer07\n",
      "Saving bayer08\n",
      "Saving bayer09\n",
      "Saving d_dyn\n",
      "Saving d_dyn1\n",
      "Saving d_ss\n",
      "Saving meg1\n",
      "Saving G1\n",
      "Saving G10\n",
      "Saving G11\n",
      "Saving G12\n",
      "Saving G13\n",
      "Saving G14\n",
      "Saving G15\n",
      "Saving G16\n",
      "Saving G17\n",
      "Saving G18\n",
      "Saving G19\n",
      "Saving G2\n",
      "Saving G20\n",
      "Saving G21\n",
      "Saving G22\n",
      "Saving G23\n",
      "Saving G24\n",
      "Saving G25\n",
      "Saving G26\n",
      "Saving G27\n",
      "Saving G28\n",
      "Saving G29\n",
      "Saving G3\n",
      "Saving G30\n",
      "Saving G31\n",
      "Saving G32\n",
      "Saving G33\n",
      "Saving G34\n",
      "Saving G35\n",
      "Saving G36\n",
      "Saving G37\n",
      "Saving G38\n",
      "Saving G39\n",
      "Saving G4\n",
      "Saving G40\n",
      "Saving G41\n",
      "Saving G42\n",
      "Saving G43\n",
      "Saving G44\n",
      "Saving G45\n",
      "Saving G46\n",
      "Saving G47\n",
      "Saving G48\n",
      "Saving G49\n",
      "Saving G5\n",
      "Saving G50\n",
      "Saving G51\n",
      "Saving G52\n",
      "Saving G53\n",
      "Saving G54\n",
      "Saving G57\n",
      "Saving G58\n",
      "Saving G59\n",
      "Saving G6\n",
      "Saving G62\n",
      "Saving G63\n",
      "Saving G64\n",
      "Saving G7\n",
      "Saving G8\n",
      "Saving G9\n",
      "Saving add20\n",
      "Saving add32\n",
      "Saving g7jac010\n",
      "Saving g7jac010sc\n",
      "Saving g7jac020\n",
      "Saving g7jac020sc\n",
      "Saving jan99jac020\n",
      "Saving jan99jac020sc\n",
      "Saving lhr01\n",
      "Saving lhr02\n",
      "Saving lhr04\n",
      "Saving lhr04c\n",
      "Saving lhr07\n",
      "Saving lhr07c\n",
      "Saving nasa2146\n",
      "Saving struct4\n",
      "Saving raefsky1\n",
      "Saving raefsky2\n",
      "Saving utm1700b\n",
      "Saving utm300\n",
      "Saving utm3060\n",
      "Saving utm5940\n",
      "Saving swang1\n",
      "Saving swang2\n",
      "Saving wang1\n",
      "Saving wang2\n",
      "Saving extr1\n",
      "Saving hydr1\n",
      "Saving radfr1\n",
      "Saving rdist1\n",
      "Saving rdist2\n",
      "Saving rdist3a\n",
      "Saving pivtol\n",
      "Saving comsol\n",
      "Saving barth\n",
      "Saving barth4\n",
      "Saving mesh1e1\n",
      "Saving mesh1em1\n",
      "Saving mesh1em6\n",
      "Saving mesh2e1\n",
      "Saving mesh2em5\n",
      "Saving mesh3e1\n",
      "Saving mesh3em5\n",
      "Saving sphere2\n",
      "Saving sphere3\n",
      "Saving heart1\n",
      "Saving heart2\n",
      "Saving heart3\n",
      "Saving lung1\n",
      "Saving shermanACa\n",
      "Saving shermanACd\n",
      "Saving cage3\n",
      "Saving cage4\n",
      "Saving cage5\n",
      "Saving cage6\n",
      "Saving cage7\n",
      "Saving cage8\n",
      "Saving cage9\n",
      "Saving fd12\n",
      "Saving sinc12\n",
      "Saving poisson2D\n",
      "Saving problem1\n",
      "Saving cell1\n",
      "Saving cell2\n",
      "Saving fpga_dcop_01\n",
      "Saving fpga_dcop_02\n",
      "Saving fpga_dcop_03\n",
      "Saving fpga_dcop_04\n",
      "Saving fpga_dcop_05\n",
      "Saving fpga_dcop_06\n",
      "Saving fpga_dcop_07\n",
      "Saving fpga_dcop_08\n",
      "Saving fpga_dcop_09\n",
      "Saving fpga_dcop_10\n",
      "Saving fpga_dcop_11\n",
      "Saving fpga_dcop_12\n",
      "Saving fpga_dcop_13\n",
      "Saving fpga_dcop_14\n",
      "Saving fpga_dcop_15\n",
      "Saving fpga_dcop_16\n",
      "Saving fpga_dcop_17\n",
      "Saving fpga_dcop_18\n",
      "Saving fpga_dcop_19\n",
      "Saving fpga_dcop_20\n",
      "Saving fpga_dcop_21\n",
      "Saving fpga_dcop_22\n",
      "Saving fpga_dcop_23\n",
      "Saving fpga_dcop_24\n",
      "Saving fpga_dcop_25\n",
      "Saving fpga_dcop_26\n",
      "Saving fpga_dcop_27\n",
      "Saving fpga_dcop_28\n",
      "Saving fpga_dcop_29\n",
      "Saving fpga_dcop_30\n",
      "Saving fpga_dcop_31\n",
      "Saving fpga_dcop_32\n",
      "Saving fpga_dcop_33\n",
      "Saving fpga_dcop_34\n",
      "Saving fpga_dcop_35\n",
      "Saving fpga_dcop_36\n",
      "Saving fpga_dcop_37\n",
      "Saving fpga_dcop_38\n",
      "Saving fpga_dcop_39\n",
      "Saving fpga_dcop_40\n",
      "Saving fpga_dcop_41\n",
      "Saving fpga_dcop_42\n",
      "Saving fpga_dcop_43\n",
      "Saving fpga_dcop_44\n",
      "Saving fpga_dcop_45\n",
      "Saving fpga_dcop_46\n",
      "Saving fpga_dcop_47\n",
      "Saving fpga_dcop_48\n",
      "Saving fpga_dcop_49\n",
      "Saving fpga_dcop_50\n",
      "Saving fpga_dcop_51\n",
      "Saving fpga_trans_01\n",
      "Saving fpga_trans_02\n",
      "Saving oscil_trans_01\n",
      "Saving Harvard500\n",
      "Saving lap_25\n",
      "Saving rajat04\n",
      "Saving rajat05\n",
      "Saving rajat11\n",
      "Saving rajat12\n",
      "Saving rajat14\n",
      "Saving Hamrle1\n",
      "Saving Hamrle2\n",
      "Saving t2dal_a\n",
      "Saving sts4098\n",
      "Saving exdata_1\n",
      "Saving laser\n",
      "Saving robot\n",
      "Saving rotor1\n",
      "Saving Kuu\n",
      "Saving Na5\n",
      "Saving Si2\n",
      "Saving SiH4\n",
      "Saving SiNa\n",
      "Saving Sieber\n",
      "Saving fxm3_6\n",
      "Saving filter2D\n",
      "Saving LF10\n",
      "Saving piston\n",
      "Saving rail_1357\n",
      "Saving rail_5177\n",
      "Saving t2dal_bci\n",
      "Saving t2dal\n",
      "Saving GD00_c\n",
      "Saving GD01_b\n",
      "Saving GD02_a\n",
      "Saving GD06_Java\n",
      "Saving GD06_theory\n",
      "Saving GD95_a\n",
      "Saving GD95_c\n",
      "Saving GD96_c\n",
      "Saving GD96_d\n",
      "Saving GD97_a\n",
      "Saving GD98_b\n",
      "Saving GD98_c\n",
      "Saving GD99_b\n",
      "Saving GD99_c\n",
      "Saving Journals\n",
      "Saving Ragusa16\n",
      "Saving Ragusa18\n",
      "Saving Sandi_authors\n",
      "Saving Stranke94\n",
      "Saving Tina_AskCal\n",
      "Saving Tina_AskCog\n",
      "Saving Tina_DisCal\n",
      "Saving Tina_DisCog\n",
      "Saving USAir97\n",
      "Saving USpowerGrid\n",
      "Saving extr1b\n",
      "Saving hydr1c\n",
      "Saving c-18\n",
      "Saving c-19\n",
      "Saving c-20\n",
      "Saving c-21\n",
      "Saving c-22\n",
      "Saving c-23\n",
      "Saving c-24\n",
      "Saving c-25\n",
      "Saving c-26\n",
      "Saving c-27\n",
      "Saving c-28\n",
      "Saving c-29\n",
      "Saving c-30\n",
      "Saving c-31\n",
      "Saving c-32\n",
      "Saving c-33\n",
      "Saving c-34\n",
      "Saving c-35\n",
      "Saving c-36\n",
      "Saving conf5_0-4x4-10\n",
      "Saving conf5_0-4x4-14\n",
      "Saving conf5_0-4x4-18\n",
      "Saving conf5_0-4x4-22\n",
      "Saving conf5_0-4x4-26\n",
      "Saving conf6_0-4x4-20\n",
      "Saving conf6_0-4x4-30\n",
      "Saving s1rmq4m1\n",
      "Saving s2rmq4m1\n",
      "Saving s3rmq4m1\n",
      "Saving s1rmt3m1\n",
      "Saving s2rmt3m1\n",
      "Saving s3rmt3m1\n",
      "Saving s3rmt3m3\n",
      "Saving cryg2500\n",
      "Saving dw2048\n",
      "Saving dwa512\n",
      "Saving dwb512\n",
      "Saving dwg961b\n",
      "Saving qh768\n",
      "Saving rdb1250\n",
      "Saving rdb1250l\n",
      "Saving rdb200\n",
      "Saving rdb200l\n",
      "Saving rdb2048_noL\n",
      "Saving rdb3200l\n",
      "Saving rdb450\n",
      "Saving rdb450l\n",
      "Saving rdb800l\n",
      "Saving tols90\n",
      "Saving iprob\n",
      "Saving Chebyshev1\n",
      "Saving Chebyshev2\n",
      "Saving Chebyshev3\n",
      "Saving viscoplastic1\n",
      "Saving circuit204\n",
      "Saving g3rmt3m3\n",
      "Saving t520\n",
      "Saving CAG_mat1916\n",
      "Saving CAG_mat364\n",
      "Saving CAG_mat72\n",
      "Saving ch5-5-b3\n",
      "Saving n3c6-b1\n",
      "Saving n3c6-b7\n",
      "Saving cat_ears_2_1\n",
      "Saving Trefethen_20b\n",
      "Saving Trefethen_20\n",
      "Saving Trefethen_150\n",
      "Saving Trefethen_200b\n",
      "Saving Trefethen_200\n",
      "Saving Trefethen_300\n",
      "Saving Trefethen_500\n",
      "Saving Trefethen_700\n",
      "Saving Trefethen_2000\n",
      "Saving TSOPF_RS_b162_c1\n",
      "Saving TSOPF_RS_b9_c6\n",
      "Saving ww_36_pmec_36\n",
      "Saving M10PI_n\n",
      "Saving M20PI_n\n",
      "Saving M40PI_n\n",
      "Saving M80PI_n\n",
      "Saving S10PI_n\n",
      "Saving S20PI_n\n",
      "Saving S40PI_n\n",
      "Saving S80PI_n\n",
      "Saving adjnoun\n",
      "Saving celegansneural\n",
      "Saving dolphins\n",
      "Saving football\n",
      "Saving karate\n",
      "Saving lesmis\n",
      "Saving polbooks\n",
      "Saving power\n",
      "Saving jazz\n",
      "Saving celegans_metabolic\n",
      "Saving email\n",
      "Saving 3elt\n",
      "Saving airfoil1\n",
      "Saving grid1\n",
      "Saving grid1_dual\n",
      "Saving grid2\n",
      "Saving grid2_dual\n",
      "Saving netz4504\n",
      "Saving netz4504_dual\n",
      "Saving ukerbe1\n",
      "Saving ukerbe1_dual\n",
      "Saving diag\n",
      "Saving L\n",
      "Saving stufe\n",
      "Saving cage\n",
      "Saving chesapeake\n",
      "Saving delaunay_n10\n",
      "Saving delaunay_n11\n",
      "Saving delaunay_n12\n",
      "Saving data\n",
      "Saving uk\n",
      "Saving cz148\n",
      "Saving cz308\n",
      "Saving cz628\n",
      "Saving cz1268\n",
      "Saving cz2548\n",
      "Saving cz5108\n",
      "Saving LeGresley_4908\n",
      "Saving MISKnowledgeMap\n",
      "Saving dynamicSoaringProblem_1\n",
      "Saving dynamicSoaringProblem_2\n",
      "Saving dynamicSoaringProblem_3\n",
      "Saving dynamicSoaringProblem_4\n",
      "Saving dynamicSoaringProblem_5\n",
      "Saving dynamicSoaringProblem_6\n",
      "Saving dynamicSoaringProblem_7\n",
      "Saving dynamicSoaringProblem_8\n",
      "Saving goddardRocketProblem_1\n",
      "Saving goddardRocketProblem_2\n",
      "Saving hangGlider_1\n",
      "Saving hangGlider_2\n",
      "Saving lowThrust_2\n",
      "Saving lowThrust_3\n",
      "Saving spaceShuttleEntry_1\n",
      "Saving spaceShuttleEntry_2\n",
      "Saving spaceShuttleEntry_3\n",
      "Saving spaceShuttleEntry_4\n",
      "Saving tumorAntiAngiogenesis_1\n",
      "Saving tumorAntiAngiogenesis_2\n",
      "Saving tumorAntiAngiogenesis_3\n",
      "Saving tumorAntiAngiogenesis_4\n",
      "Saving tumorAntiAngiogenesis_5\n",
      "Saving tumorAntiAngiogenesis_6\n",
      "Saving tumorAntiAngiogenesis_7\n",
      "Saving tumorAntiAngiogenesis_8\n",
      "Saving mycielskian2\n",
      "Saving mycielskian3\n",
      "Saving mycielskian4\n",
      "Saving mycielskian5\n",
      "Saving mycielskian6\n",
      "Saving mycielskian7\n",
      "Saving mycielskian8\n",
      "Saving mycielskian9\n",
      "Saving mycielskian10\n",
      "Saving mycielskian11\n",
      "Saving mycielskian12\n",
      "Saving mycielskian13\n",
      "Saving Goodwin_010\n",
      "Saving Goodwin_013\n",
      "Saving Goodwin_017\n",
      "Saving Goodwin_023\n",
      "Saving ACTIVSg2000\n",
      "Saving dendrimer\n",
      "Saving Binaryalphadigs_10NN\n",
      "Saving breasttissue_10NN\n",
      "Saving cnae9_10NN\n",
      "Saving collins_15NN\n",
      "Saving dataset12mfeatfactors_10NN\n",
      "Saving dataset16mfeatkarhunen_10NN\n",
      "Saving dataset18mfeatmorphological_10NN\n",
      "Saving dataset20mfeatpixel_10NN\n",
      "Saving dataset22mfeatzernike_10NN\n",
      "Saving dermatology_5NN\n",
      "Saving Ecoli_10NN\n",
      "Saving Glass_10NN\n",
      "Saving iris_dataset_30NN\n",
      "Saving mice_10NN\n",
      "Saving micromass_10NN\n",
      "Saving Olivetti_norm_10NN\n",
      "Saving optdigits_10NN\n",
      "Saving Plants_10NN\n",
      "Saving plantsmargin_12NN\n",
      "Saving plantstexture_10NN\n",
      "Saving semeion_10NN\n",
      "Saving Spectro_10NN\n",
      "Saving umistfacesnorm_10NN\n",
      "Saving Vehicle_10NN\n",
      "Saving YaleA_10NN\n",
      "Saving YaleB_10NN\n",
      "Saving yeast_30NN\n"
     ]
    },
    {
     "name": "stderr",
     "output_type": "stream",
     "text": [
      "Done!\n"
     ]
    }
   ],
   "execution_count": 6
  },
  {
   "metadata": {
    "ExecuteTime": {
     "end_time": "2024-02-11T07:26:14.309999Z",
     "start_time": "2024-02-11T07:26:14.232350Z"
    }
   },
   "cell_type": "code",
   "source": [
    "dataset[0]"
   ],
   "id": "d99c93e2ca705670",
   "outputs": [
    {
     "data": {
      "text/plain": [
       "ScalableGraphData(x=[1138, 2], G=DiGraph named '1138_bus' with 1138 nodes and 2916 edges, n=1138, m=2916, raw_edge_index=[2, 2916], raw_edge_attr=[2916, 2], edge_index=[2, 124410], edge_attr=[124410, 2], edge_weight=[124410], full_edge_index=[2, 124410], full_edge_attr=[124410, 2])"
      ]
     },
     "execution_count": 6,
     "metadata": {},
     "output_type": "execute_result"
    }
   ],
   "execution_count": 6
  },
  {
   "metadata": {
    "ExecuteTime": {
     "end_time": "2024-02-11T12:56:27.728689Z",
     "start_time": "2024-02-11T12:55:19.416300Z"
    }
   },
   "cell_type": "code",
   "source": [
    "dataset = RomeDataset(\n",
    "    datatype=ScalableGraphDataUniformSample,\n",
    "    datatype_args=dict(\n",
    "        device=device,\n",
    "        landmarks=10,\n",
    "        random_edges=10\n",
    "    )\n",
    ")"
   ],
   "id": "7951e2e31f125bbb",
   "outputs": [
    {
     "name": "stderr",
     "output_type": "stream",
     "text": [
      "Downloading https://www.graphdrawing.org/download/rome-graphml.tgz\n",
      "Extracting datasets/RomeDataset/raw/rome-graphml.tgz\n",
      "Processing...\n"
     ]
    },
    {
     "data": {
      "text/plain": [
       "Loading graphs:   0%|          | 0/11534 [00:00<?, ?it/s]"
      ],
      "application/vnd.jupyter.widget-view+json": {
       "version_major": 2,
       "version_minor": 0,
       "model_id": "97941783f07848ffbef5d5f353ef70ac"
      }
     },
     "metadata": {},
     "output_type": "display_data"
    },
    {
     "name": "stderr",
     "output_type": "stream",
     "text": [
      "/opt/homebrew/Caskroom/mambaforge/base/lib/python3.10/site-packages/torch/functional.py:504: UserWarning: torch.meshgrid: in an upcoming release, it will be required to pass the indexing argument. (Triggered internally at /Users/runner/work/_temp/anaconda/conda-bld/pytorch_1702400234613/work/aten/src/ATen/native/TensorShape.cpp:3527.)\n",
      "  return _VF.meshgrid(tensors, **kwargs)  # type: ignore[attr-defined]\n",
      "Done!\n"
     ]
    }
   ],
   "execution_count": 7
  },
  {
   "metadata": {
    "ExecuteTime": {
     "end_time": "2024-02-11T14:51:10.936995Z",
     "start_time": "2024-02-11T14:50:07.332401Z"
    }
   },
   "cell_type": "code",
   "source": [
    "dataset = RomeDataset(\n",
    "    datatype=ScalableGraphDataExponentialSample,\n",
    "    datatype_args=dict(\n",
    "        device=device,\n",
    "        landmarks=10,\n",
    "        sampling_factor=0.2\n",
    "    )\n",
    ")"
   ],
   "id": "59752d99ba23ad84",
   "outputs": [
    {
     "name": "stderr",
     "output_type": "stream",
     "text": [
      "Processing...\n"
     ]
    },
    {
     "data": {
      "text/plain": [
       "Loading graphs:   0%|          | 0/11534 [00:00<?, ?it/s]"
      ],
      "application/vnd.jupyter.widget-view+json": {
       "version_major": 2,
       "version_minor": 0,
       "model_id": "f258c133eec94baf921aee3d418c5592"
      }
     },
     "metadata": {},
     "output_type": "display_data"
    },
    {
     "name": "stderr",
     "output_type": "stream",
     "text": [
      "/opt/homebrew/Caskroom/mambaforge/base/lib/python3.10/site-packages/torch/functional.py:504: UserWarning: torch.meshgrid: in an upcoming release, it will be required to pass the indexing argument. (Triggered internally at /Users/runner/work/_temp/anaconda/conda-bld/pytorch_1702400234613/work/aten/src/ATen/native/TensorShape.cpp:3527.)\n",
      "  return _VF.meshgrid(tensors, **kwargs)  # type: ignore[attr-defined]\n",
      "Done!\n"
     ]
    }
   ],
   "execution_count": 4
  },
  {
   "metadata": {
    "ExecuteTime": {
     "end_time": "2024-02-11T12:59:50.256415Z",
     "start_time": "2024-02-11T12:56:27.729792Z"
    }
   },
   "cell_type": "code",
   "source": [
    "dataset = RomeDataset(\n",
    "    datatype=DenseGraphData,\n",
    "    datatype_args=dict(\n",
    "        device=device\n",
    "    )\n",
    ")"
   ],
   "id": "60f2d7faaa9bc099",
   "outputs": [
    {
     "name": "stderr",
     "output_type": "stream",
     "text": [
      "Processing...\n"
     ]
    },
    {
     "data": {
      "text/plain": [
       "Loading graphs:   0%|          | 0/11534 [00:00<?, ?it/s]"
      ],
      "application/vnd.jupyter.widget-view+json": {
       "version_major": 2,
       "version_minor": 0,
       "model_id": "339a5b4db1234a01adb9ba835480e277"
      }
     },
     "metadata": {},
     "output_type": "display_data"
    },
    {
     "name": "stderr",
     "output_type": "stream",
     "text": [
      "Done!\n"
     ]
    }
   ],
   "execution_count": 8
  },
  {
   "metadata": {
    "ExecuteTime": {
     "end_time": "2024-02-11T14:51:13.953368Z",
     "start_time": "2024-02-11T14:51:13.927612Z"
    }
   },
   "cell_type": "code",
   "source": "dataset[0]",
   "id": "a8e4d442011a96a8",
   "outputs": [
    {
     "data": {
      "text/plain": [
       "Data(x=[28, 2], G=DiGraph named 'grafo113.28' with 28 nodes and 62 edges, n=[1], m=[1], raw_edge_index=[2, 62], raw_edge_attr=[62, 2], edge_index=[2, 695], edge_attr=[695, 2], edge_weight=[695], full_edge_index=[2, 695], full_edge_attr=[695, 2])"
      ]
     },
     "execution_count": 5,
     "metadata": {},
     "output_type": "execute_result"
    }
   ],
   "execution_count": 5
  },
  {
   "metadata": {
    "ExecuteTime": {
     "end_time": "2024-02-11T14:09:47.336110Z",
     "start_time": "2024-02-11T14:09:45.543673Z"
    }
   },
   "cell_type": "code",
   "source": [
    "import torch\n",
    "torch.bernoulli(torch.tensor([0.5, 0.5]))"
   ],
   "id": "3f5d77439b2877d",
   "outputs": [
    {
     "data": {
      "text/plain": [
       "tensor([0., 1.])"
      ]
     },
     "execution_count": 10,
     "metadata": {},
     "output_type": "execute_result"
    }
   ],
   "execution_count": 10
  },
  {
   "metadata": {
    "ExecuteTime": {
     "end_time": "2024-02-11T14:10:26.609985Z",
     "start_time": "2024-02-11T14:10:26.582157Z"
    }
   },
   "cell_type": "code",
   "source": "torch.nonzero(torch.bernoulli(torch.tensor([0.5, 0.5])))",
   "id": "a74aa55728d6f56d",
   "outputs": [
    {
     "data": {
      "text/plain": [
       "tensor([[0],\n",
       "        [1]])"
      ]
     },
     "execution_count": 15,
     "metadata": {},
     "output_type": "execute_result"
    }
   ],
   "execution_count": 15
  },
  {
   "metadata": {
    "ExecuteTime": {
     "end_time": "2024-02-11T14:33:42.009508Z",
     "start_time": "2024-02-11T14:33:41.985551Z"
    }
   },
   "cell_type": "code",
   "source": "torch.stack(torch.meshgrid(torch.tensor([1, 2, 3]), torch.tensor([4, 5, 6]))).view(2, -1)",
   "id": "624e22bef1766685",
   "outputs": [
    {
     "data": {
      "text/plain": [
       "tensor([[1, 1, 1, 2, 2, 2, 3, 3, 3],\n",
       "        [4, 5, 6, 4, 5, 6, 4, 5, 6]])"
      ]
     },
     "execution_count": 20,
     "metadata": {},
     "output_type": "execute_result"
    }
   ],
   "execution_count": 20
  },
  {
   "metadata": {},
   "cell_type": "code",
   "outputs": [],
   "execution_count": null,
   "source": "",
   "id": "cf02c6146bda33c9"
  }
 ],
 "metadata": {
  "kernelspec": {
   "display_name": "Python 3",
   "language": "python",
   "name": "python3"
  },
  "language_info": {
   "codemirror_mode": {
    "name": "ipython",
    "version": 2
   },
   "file_extension": ".py",
   "mimetype": "text/x-python",
   "name": "python",
   "nbconvert_exporter": "python",
   "pygments_lexer": "ipython2",
   "version": "2.7.6"
  }
 },
 "nbformat": 4,
 "nbformat_minor": 5
}
